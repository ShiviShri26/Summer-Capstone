{
 "cells": [
  {
   "cell_type": "markdown",
   "metadata": {},
   "source": [
    "<a class=\"anchor\" id=\"TableofContents\"></a>\n",
    "# Table of Contents \n",
    "* [1. Business Problem Statement](#BusinessProblemStatement)    \n",
    "* [2. Loading packages](#Loadingpackages)\n",
    "* [3. Data Description](#DataDescription)\n",
    "    * [3.1 Column Types](# ColumnTypes)\n",
    "    * [3.2 Majority Class Classifier Counts](#MajorityClassClassifierCounts)\n",
    "* [4.  Examining Missing Values for train data](# ExaminingMissingValuesfortraindata)\n",
    "    * [4.1 Identifying the number of columns that have missing values¶](#Identifyingthenumberofcolumnsthathavemissingvalues¶)\n",
    "    * [4.2 Dropping columns with missing data percentage>66](#Droppingcolumnswithmissingdatapercentage>66)\n",
    "    * [4.3 Dealing with XNA values in the Gender Column](#DealingwithXNAvaluesintheGenderColumn)\n",
    "* [5. Examining Missing Values for test data](# ExaminingMissingValuesfortestdata)\n",
    "    * [5.1 Identifying the number of columns that have missing values](#Identifyingthenumberofcolumnsthathavemissingvalues)\n",
    "    * [5.2 Dropping columns with missing data percentage>66](#Droppingcolumnswithmissingdatapercentage>66)\n",
    "    * [5.3 Dealing with XNA values in the Gender Column](#DealingwithXNAvaluesintheGenderColumn)\n",
    "* [6. Categorical Values](#CategoricalValues)\n",
    "    * [6.1 Handling categorical values in the train data¶](#Handlingcategoricalvaluesinthetraindata)\n",
    "        * [6.1.1 Identifying the categorical columns](#Identifyingthecategoricalcolumns)\n",
    "        * [6.1.2 Identifying categorical columns that have missing values](#6.1.2Identifyingcategoricalcolumnsthathave missingvalues)\n",
    "        * [6.1.3 Filling NA values of the categorical columns with \"Missing\" value](#6.1.2Identifyingcategoricalcolumnsthathavemissingvalues)\n",
    "\n",
    "    * [6.2 Handlingcategoricalvaluesinthetestdata](#FixingChildrenCount)\n",
    "    * [6.3 Fixing Days Birth, Days ID Publish, Days Registration](#FixingDaysBirth,DaysIDPublish,DaysRegistration)\n",
    " "
   ]
  },
  {
   "cell_type": "markdown",
   "metadata": {},
   "source": [
    "## 1. Business Problem Statement"
   ]
  },
  {
   "cell_type": "markdown",
   "metadata": {},
   "source": [
    "### A significant portion of the population, particularly those with insufficient or non-existent credit histories, are more vulnerable to untrustworthy lenders who may take advantage of them. Home Credit looks to address this problem by providing a positive and safe borrowing experience for the unbanked population. The goal for this project will be the reduction in loan rejections for creditworthy individuals, and the improvement in clients' loan repayment rates compared to previous methods by using the target variable of whether a client is likely to repay the loan or not. Analytical Problem - This project is aiming to identify a predictive analytics model that will identify the customers who would be able to repay their loans as per the repayment calendar schedule. For this analytics project, we will use the existing dataset and associated data description to identify the appropriate predictors and come up with the final predictive analytics model.This notebook serves the purpose of identifying the best model after exploring different classification models to that can solve the Business problem of HomeCredit."
   ]
  },
  {
   "cell_type": "markdown",
   "metadata": {},
   "source": [
    "## 2. Loading packages"
   ]
  },
  {
   "cell_type": "code",
   "execution_count": 1,
   "metadata": {},
   "outputs": [],
   "source": [
    "import numpy as np\n",
    "import pandas as pd\n",
    "import seaborn as sns\n",
    "import matplotlib.pyplot as plt\n",
    "from sklearn.linear_model import LogisticRegression\n",
    "from sklearn.ensemble import RandomForestClassifier\n",
    "import lightgbm as lgb\n",
    "from sklearn.preprocessing import LabelEncoder\n",
    "from sklearn.model_selection import train_test_split\n",
    "from sklearn.impute import SimpleImputer\n",
    "from sklearn.preprocessing import StandardScaler\n",
    "from sklearn.metrics import accuracy_score, roc_auc_score\n",
    "from sklearn.model_selection import cross_val_score"
   ]
  },
  {
   "cell_type": "markdown",
   "metadata": {},
   "source": [
    "## 3. Data Description"
   ]
  },
  {
   "cell_type": "code",
   "execution_count": 2,
   "metadata": {},
   "outputs": [],
   "source": [
    "df_train=pd.read_csv(\"application_train.csv\")\n",
    "df_test=pd.read_csv(\"application_test.csv\")\n",
    "df_bureau=pd.read_csv(\"bureau.csv\")"
   ]
  },
  {
   "cell_type": "code",
   "execution_count": 3,
   "metadata": {
    "scrolled": true
   },
   "outputs": [
    {
     "data": {
      "text/html": [
       "<div>\n",
       "<style scoped>\n",
       "    .dataframe tbody tr th:only-of-type {\n",
       "        vertical-align: middle;\n",
       "    }\n",
       "\n",
       "    .dataframe tbody tr th {\n",
       "        vertical-align: top;\n",
       "    }\n",
       "\n",
       "    .dataframe thead th {\n",
       "        text-align: right;\n",
       "    }\n",
       "</style>\n",
       "<table border=\"1\" class=\"dataframe\">\n",
       "  <thead>\n",
       "    <tr style=\"text-align: right;\">\n",
       "      <th></th>\n",
       "      <th>SK_ID_CURR</th>\n",
       "      <th>TARGET</th>\n",
       "      <th>NAME_CONTRACT_TYPE</th>\n",
       "      <th>CODE_GENDER</th>\n",
       "      <th>FLAG_OWN_CAR</th>\n",
       "      <th>FLAG_OWN_REALTY</th>\n",
       "      <th>CNT_CHILDREN</th>\n",
       "      <th>AMT_INCOME_TOTAL</th>\n",
       "      <th>AMT_CREDIT</th>\n",
       "      <th>AMT_ANNUITY</th>\n",
       "      <th>...</th>\n",
       "      <th>FLAG_DOCUMENT_18</th>\n",
       "      <th>FLAG_DOCUMENT_19</th>\n",
       "      <th>FLAG_DOCUMENT_20</th>\n",
       "      <th>FLAG_DOCUMENT_21</th>\n",
       "      <th>AMT_REQ_CREDIT_BUREAU_HOUR</th>\n",
       "      <th>AMT_REQ_CREDIT_BUREAU_DAY</th>\n",
       "      <th>AMT_REQ_CREDIT_BUREAU_WEEK</th>\n",
       "      <th>AMT_REQ_CREDIT_BUREAU_MON</th>\n",
       "      <th>AMT_REQ_CREDIT_BUREAU_QRT</th>\n",
       "      <th>AMT_REQ_CREDIT_BUREAU_YEAR</th>\n",
       "    </tr>\n",
       "  </thead>\n",
       "  <tbody>\n",
       "    <tr>\n",
       "      <th>0</th>\n",
       "      <td>100002</td>\n",
       "      <td>1</td>\n",
       "      <td>Cash loans</td>\n",
       "      <td>M</td>\n",
       "      <td>N</td>\n",
       "      <td>Y</td>\n",
       "      <td>0</td>\n",
       "      <td>202500.0</td>\n",
       "      <td>406597.5</td>\n",
       "      <td>24700.5</td>\n",
       "      <td>...</td>\n",
       "      <td>0</td>\n",
       "      <td>0</td>\n",
       "      <td>0</td>\n",
       "      <td>0</td>\n",
       "      <td>0.0</td>\n",
       "      <td>0.0</td>\n",
       "      <td>0.0</td>\n",
       "      <td>0.0</td>\n",
       "      <td>0.0</td>\n",
       "      <td>1.0</td>\n",
       "    </tr>\n",
       "    <tr>\n",
       "      <th>1</th>\n",
       "      <td>100003</td>\n",
       "      <td>0</td>\n",
       "      <td>Cash loans</td>\n",
       "      <td>F</td>\n",
       "      <td>N</td>\n",
       "      <td>N</td>\n",
       "      <td>0</td>\n",
       "      <td>270000.0</td>\n",
       "      <td>1293502.5</td>\n",
       "      <td>35698.5</td>\n",
       "      <td>...</td>\n",
       "      <td>0</td>\n",
       "      <td>0</td>\n",
       "      <td>0</td>\n",
       "      <td>0</td>\n",
       "      <td>0.0</td>\n",
       "      <td>0.0</td>\n",
       "      <td>0.0</td>\n",
       "      <td>0.0</td>\n",
       "      <td>0.0</td>\n",
       "      <td>0.0</td>\n",
       "    </tr>\n",
       "    <tr>\n",
       "      <th>2</th>\n",
       "      <td>100004</td>\n",
       "      <td>0</td>\n",
       "      <td>Revolving loans</td>\n",
       "      <td>M</td>\n",
       "      <td>Y</td>\n",
       "      <td>Y</td>\n",
       "      <td>0</td>\n",
       "      <td>67500.0</td>\n",
       "      <td>135000.0</td>\n",
       "      <td>6750.0</td>\n",
       "      <td>...</td>\n",
       "      <td>0</td>\n",
       "      <td>0</td>\n",
       "      <td>0</td>\n",
       "      <td>0</td>\n",
       "      <td>0.0</td>\n",
       "      <td>0.0</td>\n",
       "      <td>0.0</td>\n",
       "      <td>0.0</td>\n",
       "      <td>0.0</td>\n",
       "      <td>0.0</td>\n",
       "    </tr>\n",
       "    <tr>\n",
       "      <th>3</th>\n",
       "      <td>100006</td>\n",
       "      <td>0</td>\n",
       "      <td>Cash loans</td>\n",
       "      <td>F</td>\n",
       "      <td>N</td>\n",
       "      <td>Y</td>\n",
       "      <td>0</td>\n",
       "      <td>135000.0</td>\n",
       "      <td>312682.5</td>\n",
       "      <td>29686.5</td>\n",
       "      <td>...</td>\n",
       "      <td>0</td>\n",
       "      <td>0</td>\n",
       "      <td>0</td>\n",
       "      <td>0</td>\n",
       "      <td>NaN</td>\n",
       "      <td>NaN</td>\n",
       "      <td>NaN</td>\n",
       "      <td>NaN</td>\n",
       "      <td>NaN</td>\n",
       "      <td>NaN</td>\n",
       "    </tr>\n",
       "    <tr>\n",
       "      <th>4</th>\n",
       "      <td>100007</td>\n",
       "      <td>0</td>\n",
       "      <td>Cash loans</td>\n",
       "      <td>M</td>\n",
       "      <td>N</td>\n",
       "      <td>Y</td>\n",
       "      <td>0</td>\n",
       "      <td>121500.0</td>\n",
       "      <td>513000.0</td>\n",
       "      <td>21865.5</td>\n",
       "      <td>...</td>\n",
       "      <td>0</td>\n",
       "      <td>0</td>\n",
       "      <td>0</td>\n",
       "      <td>0</td>\n",
       "      <td>0.0</td>\n",
       "      <td>0.0</td>\n",
       "      <td>0.0</td>\n",
       "      <td>0.0</td>\n",
       "      <td>0.0</td>\n",
       "      <td>0.0</td>\n",
       "    </tr>\n",
       "  </tbody>\n",
       "</table>\n",
       "<p>5 rows × 122 columns</p>\n",
       "</div>"
      ],
      "text/plain": [
       "   SK_ID_CURR  TARGET NAME_CONTRACT_TYPE CODE_GENDER FLAG_OWN_CAR  \\\n",
       "0      100002       1         Cash loans           M            N   \n",
       "1      100003       0         Cash loans           F            N   \n",
       "2      100004       0    Revolving loans           M            Y   \n",
       "3      100006       0         Cash loans           F            N   \n",
       "4      100007       0         Cash loans           M            N   \n",
       "\n",
       "  FLAG_OWN_REALTY  CNT_CHILDREN  AMT_INCOME_TOTAL  AMT_CREDIT  AMT_ANNUITY  \\\n",
       "0               Y             0          202500.0    406597.5      24700.5   \n",
       "1               N             0          270000.0   1293502.5      35698.5   \n",
       "2               Y             0           67500.0    135000.0       6750.0   \n",
       "3               Y             0          135000.0    312682.5      29686.5   \n",
       "4               Y             0          121500.0    513000.0      21865.5   \n",
       "\n",
       "   ...  FLAG_DOCUMENT_18 FLAG_DOCUMENT_19 FLAG_DOCUMENT_20 FLAG_DOCUMENT_21  \\\n",
       "0  ...                 0                0                0                0   \n",
       "1  ...                 0                0                0                0   \n",
       "2  ...                 0                0                0                0   \n",
       "3  ...                 0                0                0                0   \n",
       "4  ...                 0                0                0                0   \n",
       "\n",
       "  AMT_REQ_CREDIT_BUREAU_HOUR AMT_REQ_CREDIT_BUREAU_DAY  \\\n",
       "0                        0.0                       0.0   \n",
       "1                        0.0                       0.0   \n",
       "2                        0.0                       0.0   \n",
       "3                        NaN                       NaN   \n",
       "4                        0.0                       0.0   \n",
       "\n",
       "   AMT_REQ_CREDIT_BUREAU_WEEK  AMT_REQ_CREDIT_BUREAU_MON  \\\n",
       "0                         0.0                        0.0   \n",
       "1                         0.0                        0.0   \n",
       "2                         0.0                        0.0   \n",
       "3                         NaN                        NaN   \n",
       "4                         0.0                        0.0   \n",
       "\n",
       "   AMT_REQ_CREDIT_BUREAU_QRT  AMT_REQ_CREDIT_BUREAU_YEAR  \n",
       "0                        0.0                         1.0  \n",
       "1                        0.0                         0.0  \n",
       "2                        0.0                         0.0  \n",
       "3                        NaN                         NaN  \n",
       "4                        0.0                         0.0  \n",
       "\n",
       "[5 rows x 122 columns]"
      ]
     },
     "execution_count": 3,
     "metadata": {},
     "output_type": "execute_result"
    }
   ],
   "source": [
    "df_train.head(5)"
   ]
  },
  {
   "cell_type": "markdown",
   "metadata": {},
   "source": [
    "#### As displayed above the main table consists of two separate files: one for the train dataset df_train, which includes the 'TARGET' variable, and one for the test dataset df_test, which does not include the 'TARGET' variable. This table represents static data for all loan applications in our data sample. Each row in the table represents a single loan application and contains various features such as the client's ID, the type of contract, the gender of the client, car ownership status, real estate ownership status, the number of children, the total income of the client, the credit amount, the annuity amount, and many other features related to the loan application. The table serves as a comprehensive source of static information about each loan application, providing insights into various aspects of the clients' profiles and loan details."
   ]
  },
  {
   "cell_type": "code",
   "execution_count": 4,
   "metadata": {
    "scrolled": true
   },
   "outputs": [
    {
     "data": {
      "text/html": [
       "<div>\n",
       "<style scoped>\n",
       "    .dataframe tbody tr th:only-of-type {\n",
       "        vertical-align: middle;\n",
       "    }\n",
       "\n",
       "    .dataframe tbody tr th {\n",
       "        vertical-align: top;\n",
       "    }\n",
       "\n",
       "    .dataframe thead th {\n",
       "        text-align: right;\n",
       "    }\n",
       "</style>\n",
       "<table border=\"1\" class=\"dataframe\">\n",
       "  <thead>\n",
       "    <tr style=\"text-align: right;\">\n",
       "      <th></th>\n",
       "      <th>SK_ID_CURR</th>\n",
       "      <th>SK_ID_BUREAU</th>\n",
       "      <th>CREDIT_ACTIVE</th>\n",
       "      <th>CREDIT_CURRENCY</th>\n",
       "      <th>DAYS_CREDIT</th>\n",
       "      <th>CREDIT_DAY_OVERDUE</th>\n",
       "      <th>DAYS_CREDIT_ENDDATE</th>\n",
       "      <th>DAYS_ENDDATE_FACT</th>\n",
       "      <th>AMT_CREDIT_MAX_OVERDUE</th>\n",
       "      <th>CNT_CREDIT_PROLONG</th>\n",
       "      <th>AMT_CREDIT_SUM</th>\n",
       "      <th>AMT_CREDIT_SUM_DEBT</th>\n",
       "      <th>AMT_CREDIT_SUM_LIMIT</th>\n",
       "      <th>AMT_CREDIT_SUM_OVERDUE</th>\n",
       "      <th>CREDIT_TYPE</th>\n",
       "      <th>DAYS_CREDIT_UPDATE</th>\n",
       "      <th>AMT_ANNUITY</th>\n",
       "    </tr>\n",
       "  </thead>\n",
       "  <tbody>\n",
       "    <tr>\n",
       "      <th>0</th>\n",
       "      <td>215354</td>\n",
       "      <td>5714462</td>\n",
       "      <td>Closed</td>\n",
       "      <td>currency 1</td>\n",
       "      <td>-497</td>\n",
       "      <td>0</td>\n",
       "      <td>-153.0</td>\n",
       "      <td>-153.0</td>\n",
       "      <td>NaN</td>\n",
       "      <td>0</td>\n",
       "      <td>91323.0</td>\n",
       "      <td>0.0</td>\n",
       "      <td>NaN</td>\n",
       "      <td>0.0</td>\n",
       "      <td>Consumer credit</td>\n",
       "      <td>-131</td>\n",
       "      <td>NaN</td>\n",
       "    </tr>\n",
       "    <tr>\n",
       "      <th>1</th>\n",
       "      <td>215354</td>\n",
       "      <td>5714463</td>\n",
       "      <td>Active</td>\n",
       "      <td>currency 1</td>\n",
       "      <td>-208</td>\n",
       "      <td>0</td>\n",
       "      <td>1075.0</td>\n",
       "      <td>NaN</td>\n",
       "      <td>NaN</td>\n",
       "      <td>0</td>\n",
       "      <td>225000.0</td>\n",
       "      <td>171342.0</td>\n",
       "      <td>NaN</td>\n",
       "      <td>0.0</td>\n",
       "      <td>Credit card</td>\n",
       "      <td>-20</td>\n",
       "      <td>NaN</td>\n",
       "    </tr>\n",
       "    <tr>\n",
       "      <th>2</th>\n",
       "      <td>215354</td>\n",
       "      <td>5714464</td>\n",
       "      <td>Active</td>\n",
       "      <td>currency 1</td>\n",
       "      <td>-203</td>\n",
       "      <td>0</td>\n",
       "      <td>528.0</td>\n",
       "      <td>NaN</td>\n",
       "      <td>NaN</td>\n",
       "      <td>0</td>\n",
       "      <td>464323.5</td>\n",
       "      <td>NaN</td>\n",
       "      <td>NaN</td>\n",
       "      <td>0.0</td>\n",
       "      <td>Consumer credit</td>\n",
       "      <td>-16</td>\n",
       "      <td>NaN</td>\n",
       "    </tr>\n",
       "    <tr>\n",
       "      <th>3</th>\n",
       "      <td>215354</td>\n",
       "      <td>5714465</td>\n",
       "      <td>Active</td>\n",
       "      <td>currency 1</td>\n",
       "      <td>-203</td>\n",
       "      <td>0</td>\n",
       "      <td>NaN</td>\n",
       "      <td>NaN</td>\n",
       "      <td>NaN</td>\n",
       "      <td>0</td>\n",
       "      <td>90000.0</td>\n",
       "      <td>NaN</td>\n",
       "      <td>NaN</td>\n",
       "      <td>0.0</td>\n",
       "      <td>Credit card</td>\n",
       "      <td>-16</td>\n",
       "      <td>NaN</td>\n",
       "    </tr>\n",
       "    <tr>\n",
       "      <th>4</th>\n",
       "      <td>215354</td>\n",
       "      <td>5714466</td>\n",
       "      <td>Active</td>\n",
       "      <td>currency 1</td>\n",
       "      <td>-629</td>\n",
       "      <td>0</td>\n",
       "      <td>1197.0</td>\n",
       "      <td>NaN</td>\n",
       "      <td>77674.5</td>\n",
       "      <td>0</td>\n",
       "      <td>2700000.0</td>\n",
       "      <td>NaN</td>\n",
       "      <td>NaN</td>\n",
       "      <td>0.0</td>\n",
       "      <td>Consumer credit</td>\n",
       "      <td>-21</td>\n",
       "      <td>NaN</td>\n",
       "    </tr>\n",
       "  </tbody>\n",
       "</table>\n",
       "</div>"
      ],
      "text/plain": [
       "   SK_ID_CURR  SK_ID_BUREAU CREDIT_ACTIVE CREDIT_CURRENCY  DAYS_CREDIT  \\\n",
       "0      215354       5714462        Closed      currency 1         -497   \n",
       "1      215354       5714463        Active      currency 1         -208   \n",
       "2      215354       5714464        Active      currency 1         -203   \n",
       "3      215354       5714465        Active      currency 1         -203   \n",
       "4      215354       5714466        Active      currency 1         -629   \n",
       "\n",
       "   CREDIT_DAY_OVERDUE  DAYS_CREDIT_ENDDATE  DAYS_ENDDATE_FACT  \\\n",
       "0                   0               -153.0             -153.0   \n",
       "1                   0               1075.0                NaN   \n",
       "2                   0                528.0                NaN   \n",
       "3                   0                  NaN                NaN   \n",
       "4                   0               1197.0                NaN   \n",
       "\n",
       "   AMT_CREDIT_MAX_OVERDUE  CNT_CREDIT_PROLONG  AMT_CREDIT_SUM  \\\n",
       "0                     NaN                   0         91323.0   \n",
       "1                     NaN                   0        225000.0   \n",
       "2                     NaN                   0        464323.5   \n",
       "3                     NaN                   0         90000.0   \n",
       "4                 77674.5                   0       2700000.0   \n",
       "\n",
       "   AMT_CREDIT_SUM_DEBT  AMT_CREDIT_SUM_LIMIT  AMT_CREDIT_SUM_OVERDUE  \\\n",
       "0                  0.0                   NaN                     0.0   \n",
       "1             171342.0                   NaN                     0.0   \n",
       "2                  NaN                   NaN                     0.0   \n",
       "3                  NaN                   NaN                     0.0   \n",
       "4                  NaN                   NaN                     0.0   \n",
       "\n",
       "       CREDIT_TYPE  DAYS_CREDIT_UPDATE  AMT_ANNUITY  \n",
       "0  Consumer credit                -131          NaN  \n",
       "1      Credit card                 -20          NaN  \n",
       "2  Consumer credit                 -16          NaN  \n",
       "3      Credit card                 -16          NaN  \n",
       "4  Consumer credit                 -21          NaN  "
      ]
     },
     "execution_count": 4,
     "metadata": {},
     "output_type": "execute_result"
    }
   ],
   "source": [
    "df_bureau.head(5)"
   ]
  },
  {
   "cell_type": "markdown",
   "metadata": {},
   "source": [
    "#### The above dataframe df_bureau contains information about the previous credits of clients that were reported to the Credit Bureau by other financial institutions. It specifically pertains to clients who have a loan in our sample. For each loan in our sample, there can be multiple rows in the dataset, corresponding to the number of credits the client had before the application date. The dataset includes various features such as the status of the credit, currency type, duration of the credit, maximum amount overdue, credit type, and other relevant details. This information provides insights into the client's credit history and can be valuable for assessing their creditworthiness and financial behavior."
   ]
  },
  {
   "cell_type": "code",
   "execution_count": 5,
   "metadata": {
    "scrolled": true
   },
   "outputs": [
    {
     "name": "stdout",
     "output_type": "stream",
     "text": [
      "(307511, 122)\n",
      "(48744, 121)\n",
      "(1716428, 17)\n"
     ]
    }
   ],
   "source": [
    "print(df_train.shape)\n",
    "print(df_test.shape)\n",
    "print(df_bureau.shape)"
   ]
  },
  {
   "cell_type": "markdown",
   "metadata": {},
   "source": [
    "### 3.1 Column Types"
   ]
  },
  {
   "cell_type": "code",
   "execution_count": 6,
   "metadata": {
    "scrolled": true
   },
   "outputs": [
    {
     "data": {
      "text/plain": [
       "float64    65\n",
       "int64      41\n",
       "object     16\n",
       "dtype: int64"
      ]
     },
     "execution_count": 6,
     "metadata": {},
     "output_type": "execute_result"
    }
   ],
   "source": [
    "df_train.dtypes.value_counts()"
   ]
  },
  {
   "cell_type": "code",
   "execution_count": 7,
   "metadata": {},
   "outputs": [
    {
     "data": {
      "text/plain": [
       "float64    65\n",
       "int64      40\n",
       "object     16\n",
       "dtype: int64"
      ]
     },
     "execution_count": 7,
     "metadata": {},
     "output_type": "execute_result"
    }
   ],
   "source": [
    "df_test.dtypes.value_counts()"
   ]
  },
  {
   "cell_type": "code",
   "execution_count": 8,
   "metadata": {},
   "outputs": [
    {
     "data": {
      "text/plain": [
       "float64    8\n",
       "int64      6\n",
       "object     3\n",
       "dtype: int64"
      ]
     },
     "execution_count": 8,
     "metadata": {},
     "output_type": "execute_result"
    }
   ],
   "source": [
    "df_bureau.dtypes.value_counts()"
   ]
  },
  {
   "cell_type": "markdown",
   "metadata": {},
   "source": [
    "### 3.2 Majority Class Classifier Counts"
   ]
  },
  {
   "cell_type": "code",
   "execution_count": 9,
   "metadata": {
    "scrolled": true
   },
   "outputs": [
    {
     "name": "stdout",
     "output_type": "stream",
     "text": [
      "percentage of rows having target as 0 (i.e. customers who do not default):  91.92711805431351\n",
      "percentage of rows having target as 1 (i.e. customers who default): 8.072881945686495\n"
     ]
    }
   ],
   "source": [
    "target_counts=df_train['TARGET'].value_counts()\n",
    "target_percent=target_counts/target_counts.sum()*100\n",
    "print(\"percentage of rows having target as 0 (i.e. customers who do not default): \",target_percent[0])\n",
    "print(\"percentage of rows having target as 1 (i.e. customers who default):\",target_percent[1])"
   ]
  },
  {
   "cell_type": "code",
   "execution_count": 10,
   "metadata": {},
   "outputs": [
    {
     "name": "stdout",
     "output_type": "stream",
     "text": [
      "(282686, 122)\n",
      "(24825, 122)\n"
     ]
    }
   ],
   "source": [
    "print(df_train[df_train[\"TARGET\"]==0].shape)\n",
    "print(df_train[df_train[\"TARGET\"]==1].shape)"
   ]
  },
  {
   "cell_type": "markdown",
   "metadata": {},
   "source": [
    "#### In the dataset, approximately 91.93% of the rows correspond to customers who do not default on their loans, while around 8.07% of the rows represent customers who default. This makes the customers who do not default a major class classifier"
   ]
  },
  {
   "cell_type": "markdown",
   "metadata": {},
   "source": [
    "## 4. Examining Missing Values for train data"
   ]
  },
  {
   "cell_type": "markdown",
   "metadata": {},
   "source": [
    "### 4.1 Identifying the number of columns that have missing values "
   ]
  },
  {
   "cell_type": "code",
   "execution_count": 11,
   "metadata": {},
   "outputs": [],
   "source": [
    "def missing_values_table(df):\n",
    "        # Total missing values\n",
    "        missing_val = df.isnull().sum() \n",
    "        # Percentage of missing values\n",
    "        missing_val_percent = 100 * df.isnull().sum() / len(df)\n",
    "        # Make a table with the results\n",
    "        missing_val_table = pd.concat([missing_val, missing_val_percent], axis=1)\n",
    "        # Rename the columns\n",
    "        missing_val_table_ren_columns = missing_val_table.rename(\n",
    "        columns = {0 : 'Missing Values', 1 : 'Percentage of Missing Values'})\n",
    "        # Sort the table by percentage of missing descending\n",
    "        missing_val_table_ren_columns = missing_val_table_ren_columns[\n",
    "            missing_val_table_ren_columns.iloc[:,1] != 0].sort_values(\n",
    "        'Percentage of Missing Values', ascending=False).round(1) \n",
    "        # Print some summary information\n",
    "        print (\"There are \" + str(missing_val_table_ren_columns.shape[0]) +\n",
    "              \" columns that have missing values.\")\n",
    "       \n",
    "        # Return the dataframe with missing information\n",
    "        return missing_val_table_ren_columns.head()"
   ]
  },
  {
   "cell_type": "code",
   "execution_count": 12,
   "metadata": {},
   "outputs": [
    {
     "name": "stdout",
     "output_type": "stream",
     "text": [
      "There are 67 columns that have missing values.\n"
     ]
    },
    {
     "data": {
      "text/html": [
       "<div>\n",
       "<style scoped>\n",
       "    .dataframe tbody tr th:only-of-type {\n",
       "        vertical-align: middle;\n",
       "    }\n",
       "\n",
       "    .dataframe tbody tr th {\n",
       "        vertical-align: top;\n",
       "    }\n",
       "\n",
       "    .dataframe thead th {\n",
       "        text-align: right;\n",
       "    }\n",
       "</style>\n",
       "<table border=\"1\" class=\"dataframe\">\n",
       "  <thead>\n",
       "    <tr style=\"text-align: right;\">\n",
       "      <th></th>\n",
       "      <th>Missing Values</th>\n",
       "      <th>Percentage of Missing Values</th>\n",
       "    </tr>\n",
       "  </thead>\n",
       "  <tbody>\n",
       "    <tr>\n",
       "      <th>COMMONAREA_MEDI</th>\n",
       "      <td>214865</td>\n",
       "      <td>69.9</td>\n",
       "    </tr>\n",
       "    <tr>\n",
       "      <th>COMMONAREA_AVG</th>\n",
       "      <td>214865</td>\n",
       "      <td>69.9</td>\n",
       "    </tr>\n",
       "    <tr>\n",
       "      <th>COMMONAREA_MODE</th>\n",
       "      <td>214865</td>\n",
       "      <td>69.9</td>\n",
       "    </tr>\n",
       "    <tr>\n",
       "      <th>NONLIVINGAPARTMENTS_MEDI</th>\n",
       "      <td>213514</td>\n",
       "      <td>69.4</td>\n",
       "    </tr>\n",
       "    <tr>\n",
       "      <th>NONLIVINGAPARTMENTS_MODE</th>\n",
       "      <td>213514</td>\n",
       "      <td>69.4</td>\n",
       "    </tr>\n",
       "  </tbody>\n",
       "</table>\n",
       "</div>"
      ],
      "text/plain": [
       "                          Missing Values  Percentage of Missing Values\n",
       "COMMONAREA_MEDI                   214865                          69.9\n",
       "COMMONAREA_AVG                    214865                          69.9\n",
       "COMMONAREA_MODE                   214865                          69.9\n",
       "NONLIVINGAPARTMENTS_MEDI          213514                          69.4\n",
       "NONLIVINGAPARTMENTS_MODE          213514                          69.4"
      ]
     },
     "execution_count": 12,
     "metadata": {},
     "output_type": "execute_result"
    }
   ],
   "source": [
    "missing_values_table(df_train)"
   ]
  },
  {
   "cell_type": "markdown",
   "metadata": {},
   "source": [
    "#### We can see that 67 out of 122 columns have missing values. We can consider dropping the columns whose percentage of missing data is more than 66% in the code below."
   ]
  },
  {
   "cell_type": "markdown",
   "metadata": {},
   "source": [
    "### 4.2 Dropping columns with missing data percentage>66 "
   ]
  },
  {
   "cell_type": "code",
   "execution_count": 13,
   "metadata": {},
   "outputs": [],
   "source": [
    "threshold = 66  # Setting the threshold percentage\n",
    "# Calculating the total and percentage of missing values for each column\n",
    "total = df_train.isnull().sum()\n",
    "percentage = (df_train.isnull().sum() / df_train.isnull().count()) * 100\n",
    "# Creating a mask to identify columns with more than the threshold percentage of missing values\n",
    "mask = percentage > threshold\n",
    "# Selecting the columns to remove\n",
    "columns_to_remove = total[mask].index\n",
    "# Removing the columns from the DataFrame\n",
    "df_train = df_train.drop(columns=columns_to_remove)"
   ]
  },
  {
   "cell_type": "code",
   "execution_count": 14,
   "metadata": {},
   "outputs": [
    {
     "data": {
      "text/plain": [
       "(307511, 106)"
      ]
     },
     "execution_count": 14,
     "metadata": {},
     "output_type": "execute_result"
    }
   ],
   "source": [
    "df_train.shape"
   ]
  },
  {
   "cell_type": "markdown",
   "metadata": {},
   "source": [
    "#### 16 columns were successfully dropped, thereby reducing the count of columns to 106. We will be using these 106 columns for further data preparation"
   ]
  },
  {
   "cell_type": "markdown",
   "metadata": {},
   "source": [
    "### 4.3 Dealing with XNA values in the Gender Column"
   ]
  },
  {
   "cell_type": "markdown",
   "metadata": {},
   "source": [
    "#### We observed that the dataset has additional XNA value under CODE_GENDER Column. Therefore, we removed the 4 rows that had XNA values. This resulted in reducing the row count from 307511 to 307507 that will be used going forward"
   ]
  },
  {
   "cell_type": "code",
   "execution_count": 15,
   "metadata": {},
   "outputs": [
    {
     "data": {
      "text/plain": [
       "F    202448\n",
       "M    105059\n",
       "Name: CODE_GENDER, dtype: int64"
      ]
     },
     "execution_count": 15,
     "metadata": {},
     "output_type": "execute_result"
    }
   ],
   "source": [
    "df_train = df_train[df_train['CODE_GENDER'] != 'XNA']\n",
    "df_train['CODE_GENDER'].value_counts()"
   ]
  },
  {
   "cell_type": "markdown",
   "metadata": {},
   "source": [
    "## 5. Examining Missing Values for test data"
   ]
  },
  {
   "cell_type": "markdown",
   "metadata": {},
   "source": [
    "### 5.1 Identifying the number of columns that have missing values"
   ]
  },
  {
   "cell_type": "code",
   "execution_count": 16,
   "metadata": {
    "scrolled": true
   },
   "outputs": [
    {
     "name": "stdout",
     "output_type": "stream",
     "text": [
      "There are 64 columns that have missing values.\n"
     ]
    },
    {
     "data": {
      "text/html": [
       "<div>\n",
       "<style scoped>\n",
       "    .dataframe tbody tr th:only-of-type {\n",
       "        vertical-align: middle;\n",
       "    }\n",
       "\n",
       "    .dataframe tbody tr th {\n",
       "        vertical-align: top;\n",
       "    }\n",
       "\n",
       "    .dataframe thead th {\n",
       "        text-align: right;\n",
       "    }\n",
       "</style>\n",
       "<table border=\"1\" class=\"dataframe\">\n",
       "  <thead>\n",
       "    <tr style=\"text-align: right;\">\n",
       "      <th></th>\n",
       "      <th>Missing Values</th>\n",
       "      <th>Percentage of Missing Values</th>\n",
       "    </tr>\n",
       "  </thead>\n",
       "  <tbody>\n",
       "    <tr>\n",
       "      <th>COMMONAREA_MODE</th>\n",
       "      <td>33495</td>\n",
       "      <td>68.7</td>\n",
       "    </tr>\n",
       "    <tr>\n",
       "      <th>COMMONAREA_MEDI</th>\n",
       "      <td>33495</td>\n",
       "      <td>68.7</td>\n",
       "    </tr>\n",
       "    <tr>\n",
       "      <th>COMMONAREA_AVG</th>\n",
       "      <td>33495</td>\n",
       "      <td>68.7</td>\n",
       "    </tr>\n",
       "    <tr>\n",
       "      <th>NONLIVINGAPARTMENTS_MEDI</th>\n",
       "      <td>33347</td>\n",
       "      <td>68.4</td>\n",
       "    </tr>\n",
       "    <tr>\n",
       "      <th>NONLIVINGAPARTMENTS_AVG</th>\n",
       "      <td>33347</td>\n",
       "      <td>68.4</td>\n",
       "    </tr>\n",
       "  </tbody>\n",
       "</table>\n",
       "</div>"
      ],
      "text/plain": [
       "                          Missing Values  Percentage of Missing Values\n",
       "COMMONAREA_MODE                    33495                          68.7\n",
       "COMMONAREA_MEDI                    33495                          68.7\n",
       "COMMONAREA_AVG                     33495                          68.7\n",
       "NONLIVINGAPARTMENTS_MEDI           33347                          68.4\n",
       "NONLIVINGAPARTMENTS_AVG            33347                          68.4"
      ]
     },
     "execution_count": 16,
     "metadata": {},
     "output_type": "execute_result"
    }
   ],
   "source": [
    "missing_values_table(df_test)"
   ]
  },
  {
   "cell_type": "markdown",
   "metadata": {},
   "source": [
    "### 5.2 Dropping columns with missing data percentage>66"
   ]
  },
  {
   "cell_type": "markdown",
   "metadata": {},
   "source": [
    "#### Here we are dropping columns with missing values greater than 65% but retaining the OWN_CAR_AGE column as it might have some importance towards predicting the target after building the model"
   ]
  },
  {
   "cell_type": "code",
   "execution_count": 17,
   "metadata": {},
   "outputs": [
    {
     "data": {
      "text/html": [
       "<div>\n",
       "<style scoped>\n",
       "    .dataframe tbody tr th:only-of-type {\n",
       "        vertical-align: middle;\n",
       "    }\n",
       "\n",
       "    .dataframe tbody tr th {\n",
       "        vertical-align: top;\n",
       "    }\n",
       "\n",
       "    .dataframe thead th {\n",
       "        text-align: right;\n",
       "    }\n",
       "</style>\n",
       "<table border=\"1\" class=\"dataframe\">\n",
       "  <thead>\n",
       "    <tr style=\"text-align: right;\">\n",
       "      <th></th>\n",
       "      <th>SK_ID_CURR</th>\n",
       "      <th>NAME_CONTRACT_TYPE</th>\n",
       "      <th>CODE_GENDER</th>\n",
       "      <th>FLAG_OWN_CAR</th>\n",
       "      <th>FLAG_OWN_REALTY</th>\n",
       "      <th>CNT_CHILDREN</th>\n",
       "      <th>AMT_INCOME_TOTAL</th>\n",
       "      <th>AMT_CREDIT</th>\n",
       "      <th>AMT_ANNUITY</th>\n",
       "      <th>AMT_GOODS_PRICE</th>\n",
       "      <th>...</th>\n",
       "      <th>FLAG_DOCUMENT_18</th>\n",
       "      <th>FLAG_DOCUMENT_19</th>\n",
       "      <th>FLAG_DOCUMENT_20</th>\n",
       "      <th>FLAG_DOCUMENT_21</th>\n",
       "      <th>AMT_REQ_CREDIT_BUREAU_HOUR</th>\n",
       "      <th>AMT_REQ_CREDIT_BUREAU_DAY</th>\n",
       "      <th>AMT_REQ_CREDIT_BUREAU_WEEK</th>\n",
       "      <th>AMT_REQ_CREDIT_BUREAU_MON</th>\n",
       "      <th>AMT_REQ_CREDIT_BUREAU_QRT</th>\n",
       "      <th>AMT_REQ_CREDIT_BUREAU_YEAR</th>\n",
       "    </tr>\n",
       "  </thead>\n",
       "  <tbody>\n",
       "    <tr>\n",
       "      <th>0</th>\n",
       "      <td>100001</td>\n",
       "      <td>Cash loans</td>\n",
       "      <td>F</td>\n",
       "      <td>N</td>\n",
       "      <td>Y</td>\n",
       "      <td>0</td>\n",
       "      <td>135000.0</td>\n",
       "      <td>568800.0</td>\n",
       "      <td>20560.5</td>\n",
       "      <td>450000.0</td>\n",
       "      <td>...</td>\n",
       "      <td>0</td>\n",
       "      <td>0</td>\n",
       "      <td>0</td>\n",
       "      <td>0</td>\n",
       "      <td>0.0</td>\n",
       "      <td>0.0</td>\n",
       "      <td>0.0</td>\n",
       "      <td>0.0</td>\n",
       "      <td>0.0</td>\n",
       "      <td>0.0</td>\n",
       "    </tr>\n",
       "    <tr>\n",
       "      <th>1</th>\n",
       "      <td>100005</td>\n",
       "      <td>Cash loans</td>\n",
       "      <td>M</td>\n",
       "      <td>N</td>\n",
       "      <td>Y</td>\n",
       "      <td>0</td>\n",
       "      <td>99000.0</td>\n",
       "      <td>222768.0</td>\n",
       "      <td>17370.0</td>\n",
       "      <td>180000.0</td>\n",
       "      <td>...</td>\n",
       "      <td>0</td>\n",
       "      <td>0</td>\n",
       "      <td>0</td>\n",
       "      <td>0</td>\n",
       "      <td>0.0</td>\n",
       "      <td>0.0</td>\n",
       "      <td>0.0</td>\n",
       "      <td>0.0</td>\n",
       "      <td>0.0</td>\n",
       "      <td>3.0</td>\n",
       "    </tr>\n",
       "    <tr>\n",
       "      <th>2</th>\n",
       "      <td>100013</td>\n",
       "      <td>Cash loans</td>\n",
       "      <td>M</td>\n",
       "      <td>Y</td>\n",
       "      <td>Y</td>\n",
       "      <td>0</td>\n",
       "      <td>202500.0</td>\n",
       "      <td>663264.0</td>\n",
       "      <td>69777.0</td>\n",
       "      <td>630000.0</td>\n",
       "      <td>...</td>\n",
       "      <td>0</td>\n",
       "      <td>0</td>\n",
       "      <td>0</td>\n",
       "      <td>0</td>\n",
       "      <td>0.0</td>\n",
       "      <td>0.0</td>\n",
       "      <td>0.0</td>\n",
       "      <td>0.0</td>\n",
       "      <td>1.0</td>\n",
       "      <td>4.0</td>\n",
       "    </tr>\n",
       "    <tr>\n",
       "      <th>3</th>\n",
       "      <td>100028</td>\n",
       "      <td>Cash loans</td>\n",
       "      <td>F</td>\n",
       "      <td>N</td>\n",
       "      <td>Y</td>\n",
       "      <td>2</td>\n",
       "      <td>315000.0</td>\n",
       "      <td>1575000.0</td>\n",
       "      <td>49018.5</td>\n",
       "      <td>1575000.0</td>\n",
       "      <td>...</td>\n",
       "      <td>0</td>\n",
       "      <td>0</td>\n",
       "      <td>0</td>\n",
       "      <td>0</td>\n",
       "      <td>0.0</td>\n",
       "      <td>0.0</td>\n",
       "      <td>0.0</td>\n",
       "      <td>0.0</td>\n",
       "      <td>0.0</td>\n",
       "      <td>3.0</td>\n",
       "    </tr>\n",
       "    <tr>\n",
       "      <th>4</th>\n",
       "      <td>100038</td>\n",
       "      <td>Cash loans</td>\n",
       "      <td>M</td>\n",
       "      <td>Y</td>\n",
       "      <td>N</td>\n",
       "      <td>1</td>\n",
       "      <td>180000.0</td>\n",
       "      <td>625500.0</td>\n",
       "      <td>32067.0</td>\n",
       "      <td>625500.0</td>\n",
       "      <td>...</td>\n",
       "      <td>0</td>\n",
       "      <td>0</td>\n",
       "      <td>0</td>\n",
       "      <td>0</td>\n",
       "      <td>NaN</td>\n",
       "      <td>NaN</td>\n",
       "      <td>NaN</td>\n",
       "      <td>NaN</td>\n",
       "      <td>NaN</td>\n",
       "      <td>NaN</td>\n",
       "    </tr>\n",
       "  </tbody>\n",
       "</table>\n",
       "<p>5 rows × 105 columns</p>\n",
       "</div>"
      ],
      "text/plain": [
       "   SK_ID_CURR NAME_CONTRACT_TYPE CODE_GENDER FLAG_OWN_CAR FLAG_OWN_REALTY  \\\n",
       "0      100001         Cash loans           F            N               Y   \n",
       "1      100005         Cash loans           M            N               Y   \n",
       "2      100013         Cash loans           M            Y               Y   \n",
       "3      100028         Cash loans           F            N               Y   \n",
       "4      100038         Cash loans           M            Y               N   \n",
       "\n",
       "   CNT_CHILDREN  AMT_INCOME_TOTAL  AMT_CREDIT  AMT_ANNUITY  AMT_GOODS_PRICE  \\\n",
       "0             0          135000.0    568800.0      20560.5         450000.0   \n",
       "1             0           99000.0    222768.0      17370.0         180000.0   \n",
       "2             0          202500.0    663264.0      69777.0         630000.0   \n",
       "3             2          315000.0   1575000.0      49018.5        1575000.0   \n",
       "4             1          180000.0    625500.0      32067.0         625500.0   \n",
       "\n",
       "   ... FLAG_DOCUMENT_18 FLAG_DOCUMENT_19 FLAG_DOCUMENT_20 FLAG_DOCUMENT_21  \\\n",
       "0  ...                0                0                0                0   \n",
       "1  ...                0                0                0                0   \n",
       "2  ...                0                0                0                0   \n",
       "3  ...                0                0                0                0   \n",
       "4  ...                0                0                0                0   \n",
       "\n",
       "  AMT_REQ_CREDIT_BUREAU_HOUR  AMT_REQ_CREDIT_BUREAU_DAY  \\\n",
       "0                        0.0                        0.0   \n",
       "1                        0.0                        0.0   \n",
       "2                        0.0                        0.0   \n",
       "3                        0.0                        0.0   \n",
       "4                        NaN                        NaN   \n",
       "\n",
       "   AMT_REQ_CREDIT_BUREAU_WEEK  AMT_REQ_CREDIT_BUREAU_MON  \\\n",
       "0                         0.0                        0.0   \n",
       "1                         0.0                        0.0   \n",
       "2                         0.0                        0.0   \n",
       "3                         0.0                        0.0   \n",
       "4                         NaN                        NaN   \n",
       "\n",
       "   AMT_REQ_CREDIT_BUREAU_QRT  AMT_REQ_CREDIT_BUREAU_YEAR  \n",
       "0                        0.0                         0.0  \n",
       "1                        0.0                         3.0  \n",
       "2                        1.0                         4.0  \n",
       "3                        0.0                         3.0  \n",
       "4                        NaN                         NaN  \n",
       "\n",
       "[5 rows x 105 columns]"
      ]
     },
     "execution_count": 17,
     "metadata": {},
     "output_type": "execute_result"
    }
   ],
   "source": [
    "threshold = 65  # Setting the threshold percentage\n",
    "\n",
    "# Calculating the total and percentage of missing values for each column\n",
    "total = df_test.isnull().sum()\n",
    "percentage = (df_test.isnull().sum() / df_test.isnull().count()) * 100\n",
    "\n",
    "# Creating a mask to identify columns with more than the threshold percentage of missing values\n",
    "mask = percentage > threshold\n",
    "\n",
    "# Select the columns to remove, except for 'OWN_CAR_AVG'\n",
    "columns_to_remove = total[mask].index.tolist()\n",
    "columns_to_remove.remove('OWN_CAR_AGE')\n",
    "\n",
    "# Remove the columns from the DataFrame\n",
    "df_test = df_test.drop(columns=columns_to_remove)\n",
    "\n",
    "# Display the modified DataFrame\n",
    "df_test.head(5)\n"
   ]
  },
  {
   "cell_type": "markdown",
   "metadata": {},
   "source": [
    "### 5.3 Dealing with XNA values in the Gender Column"
   ]
  },
  {
   "cell_type": "code",
   "execution_count": 18,
   "metadata": {},
   "outputs": [
    {
     "data": {
      "text/plain": [
       "F    32678\n",
       "M    16066\n",
       "Name: CODE_GENDER, dtype: int64"
      ]
     },
     "execution_count": 18,
     "metadata": {},
     "output_type": "execute_result"
    }
   ],
   "source": [
    "df_test = df_test[df_test['CODE_GENDER'] != 'XNA']\n",
    "df_test['CODE_GENDER'].value_counts()"
   ]
  },
  {
   "cell_type": "markdown",
   "metadata": {},
   "source": [
    "## 6. Categorical Values"
   ]
  },
  {
   "cell_type": "markdown",
   "metadata": {},
   "source": [
    "### 6.1 Handling categorical values in the train data"
   ]
  },
  {
   "cell_type": "markdown",
   "metadata": {},
   "source": [
    "#### 6.1.1 Identifying the categorical columns"
   ]
  },
  {
   "cell_type": "code",
   "execution_count": 19,
   "metadata": {},
   "outputs": [
    {
     "name": "stdout",
     "output_type": "stream",
     "text": [
      "Categorical columns in the train set are :\n",
      "['NAME_CONTRACT_TYPE', 'CODE_GENDER', 'FLAG_OWN_CAR', 'FLAG_OWN_REALTY', 'NAME_TYPE_SUITE', 'NAME_INCOME_TYPE', 'NAME_EDUCATION_TYPE', 'NAME_FAMILY_STATUS', 'NAME_HOUSING_TYPE', 'OCCUPATION_TYPE', 'WEEKDAY_APPR_PROCESS_START', 'ORGANIZATION_TYPE', 'HOUSETYPE_MODE', 'WALLSMATERIAL_MODE', 'EMERGENCYSTATE_MODE']\n",
      "The number of categorical columns in the train set are: 15\n"
     ]
    }
   ],
   "source": [
    "#finding out the categorical columns before factorizing them\n",
    "columns = df_train.columns\n",
    "\n",
    "# Create an empty list to store the categorical columns\n",
    "categorical_columns = []\n",
    "\n",
    "# Iterate over each column and check if it has a non-numeric data type\n",
    "for column in columns:\n",
    "    if df_train[column].dtype != 'int64' and df_train[column].dtype != 'float64':\n",
    "        categorical_columns.append(column)\n",
    "\n",
    "# Print the list of categorical columns\n",
    "print(\"Categorical columns in the train set are :\")\n",
    "print(categorical_columns)\n",
    "print(\"The number of categorical columns in the train set are:\",len(df_train.select_dtypes(include=['object']).columns))"
   ]
  },
  {
   "cell_type": "markdown",
   "metadata": {},
   "source": [
    "#### 6.1.2 Identifying categorical columns that have missing values "
   ]
  },
  {
   "cell_type": "code",
   "execution_count": 20,
   "metadata": {
    "scrolled": false
   },
   "outputs": [
    {
     "name": "stdout",
     "output_type": "stream",
     "text": [
      "The following columns have missing values:\n",
      "NAME_TYPE_SUITE\n",
      "OCCUPATION_TYPE\n",
      "HOUSETYPE_MODE\n",
      "WALLSMATERIAL_MODE\n",
      "EMERGENCYSTATE_MODE\n"
     ]
    }
   ],
   "source": [
    "columns = ['NAME_CONTRACT_TYPE', 'CODE_GENDER', 'FLAG_OWN_CAR', 'FLAG_OWN_REALTY', 'NAME_TYPE_SUITE', 'NAME_INCOME_TYPE', 'NAME_EDUCATION_TYPE', 'NAME_FAMILY_STATUS', 'NAME_HOUSING_TYPE', 'OCCUPATION_TYPE', 'WEEKDAY_APPR_PROCESS_START', 'ORGANIZATION_TYPE', 'HOUSETYPE_MODE', 'WALLSMATERIAL_MODE', 'EMERGENCYSTATE_MODE']\n",
    "\n",
    "missing_values = df_train[columns].isnull().sum()\n",
    "\n",
    "columns_with_missing_values = missing_values[missing_values > 0].index.tolist()\n",
    "\n",
    "if len(columns_with_missing_values) > 0:\n",
    "    print(\"The following columns have missing values:\")\n",
    "    for column in columns_with_missing_values:\n",
    "        print(column)\n",
    "else:\n",
    "    print(\"No missing values found in the specified columns.\")"
   ]
  },
  {
   "cell_type": "code",
   "execution_count": 21,
   "metadata": {},
   "outputs": [],
   "source": [
    "#FIND COUNT"
   ]
  },
  {
   "cell_type": "markdown",
   "metadata": {},
   "source": [
    "#### 6.1.3 Filling NA values of the categorical columns with \"Missing\" value"
   ]
  },
  {
   "cell_type": "code",
   "execution_count": 22,
   "metadata": {},
   "outputs": [],
   "source": [
    "# List of categorical columns with missing values\n",
    "categorical_columns = ['NAME_TYPE_SUITE', 'OCCUPATION_TYPE', 'HOUSETYPE_MODE', 'WALLSMATERIAL_MODE', 'EMERGENCYSTATE_MODE']\n",
    "\n",
    "# Replace missing values with \"Missing\" in the categorical columns\n",
    "for column in categorical_columns:\n",
    "    df_train[column] = df_train[column].fillna(\"Missing\")\n"
   ]
  },
  {
   "cell_type": "code",
   "execution_count": 23,
   "metadata": {},
   "outputs": [
    {
     "data": {
      "text/plain": [
       "(307507, 106)"
      ]
     },
     "execution_count": 23,
     "metadata": {},
     "output_type": "execute_result"
    }
   ],
   "source": [
    "df_train.shape"
   ]
  },
  {
   "cell_type": "markdown",
   "metadata": {},
   "source": [
    "### 6.2 Handling categorical values in the test data"
   ]
  },
  {
   "cell_type": "markdown",
   "metadata": {},
   "source": [
    "#### 6.2.1 Identifying the categorical columns"
   ]
  },
  {
   "cell_type": "code",
   "execution_count": 24,
   "metadata": {
    "scrolled": true
   },
   "outputs": [
    {
     "name": "stdout",
     "output_type": "stream",
     "text": [
      "Categorical columns in the test set are :\n",
      "['NAME_CONTRACT_TYPE', 'CODE_GENDER', 'FLAG_OWN_CAR', 'FLAG_OWN_REALTY', 'NAME_TYPE_SUITE', 'NAME_INCOME_TYPE', 'NAME_EDUCATION_TYPE', 'NAME_FAMILY_STATUS', 'NAME_HOUSING_TYPE', 'OCCUPATION_TYPE', 'WEEKDAY_APPR_PROCESS_START', 'ORGANIZATION_TYPE', 'HOUSETYPE_MODE', 'WALLSMATERIAL_MODE', 'EMERGENCYSTATE_MODE']\n",
      "The number of categorical columns in the test set are: 15\n"
     ]
    }
   ],
   "source": [
    "#finding out the categorical columns before factorizing them\n",
    "columns = df_test.columns\n",
    "\n",
    "# Create an empty list to store the categorical columns\n",
    "categorical_columns = []\n",
    "\n",
    "# Iterate over each column and check if it has a non-numeric data type\n",
    "for column in columns:\n",
    "    if df_test[column].dtype != 'int64' and df_test[column].dtype != 'float64':\n",
    "        categorical_columns.append(column)\n",
    "\n",
    "# Print the list of categorical columns\n",
    "print(\"Categorical columns in the test set are :\")\n",
    "print(categorical_columns)\n",
    "print(\"The number of categorical columns in the test set are:\",len(df_test.select_dtypes(include=['object']).columns))"
   ]
  },
  {
   "cell_type": "markdown",
   "metadata": {},
   "source": [
    "#### 6.2.2 Identifying categorical columns that have missing values"
   ]
  },
  {
   "cell_type": "code",
   "execution_count": 25,
   "metadata": {
    "scrolled": true
   },
   "outputs": [
    {
     "name": "stdout",
     "output_type": "stream",
     "text": [
      "The following columns have missing values:\n",
      "NAME_TYPE_SUITE\n",
      "OCCUPATION_TYPE\n",
      "HOUSETYPE_MODE\n",
      "WALLSMATERIAL_MODE\n",
      "EMERGENCYSTATE_MODE\n"
     ]
    }
   ],
   "source": [
    "columns = ['NAME_CONTRACT_TYPE', 'CODE_GENDER', 'FLAG_OWN_CAR', 'FLAG_OWN_REALTY', 'NAME_TYPE_SUITE', 'NAME_INCOME_TYPE', 'NAME_EDUCATION_TYPE', 'NAME_FAMILY_STATUS', 'NAME_HOUSING_TYPE', 'OCCUPATION_TYPE', 'WEEKDAY_APPR_PROCESS_START', 'ORGANIZATION_TYPE', 'HOUSETYPE_MODE', 'WALLSMATERIAL_MODE', 'EMERGENCYSTATE_MODE']\n",
    "\n",
    "missing_values = df_test[columns].isnull().sum()\n",
    "\n",
    "columns_with_missing_values = missing_values[missing_values > 0].index.tolist()\n",
    "\n",
    "if len(columns_with_missing_values) > 0:\n",
    "    print(\"The following columns have missing values:\")\n",
    "    for column in columns_with_missing_values:\n",
    "        print(column)\n",
    "else:\n",
    "    print(\"No missing values found in the specified columns.\")"
   ]
  },
  {
   "cell_type": "markdown",
   "metadata": {},
   "source": [
    "#### 6.2.3 Filling NA values of the categorical columns with \"Missing\" value"
   ]
  },
  {
   "cell_type": "code",
   "execution_count": 26,
   "metadata": {},
   "outputs": [],
   "source": [
    "# List of categorical columns with missing values\n",
    "categorical_columns = ['NAME_TYPE_SUITE', 'OCCUPATION_TYPE', 'HOUSETYPE_MODE', 'WALLSMATERIAL_MODE', 'EMERGENCYSTATE_MODE']\n",
    "\n",
    "# Replace missing values with \"Missing\" in the categorical columns\n",
    "for column in categorical_columns:\n",
    "    df_test[column] = df_test[column].fillna(\"Missing\")\n"
   ]
  },
  {
   "cell_type": "code",
   "execution_count": 27,
   "metadata": {
    "scrolled": true
   },
   "outputs": [
    {
     "data": {
      "text/plain": [
       "(48744, 105)"
      ]
     },
     "execution_count": 27,
     "metadata": {},
     "output_type": "execute_result"
    }
   ],
   "source": [
    "df_test.shape"
   ]
  },
  {
   "cell_type": "markdown",
   "metadata": {},
   "source": [
    "#### Identifying unique values in 'NAME_INCOME_TYPE' and 'NAME_FAMILY_STATUS' column in both train and test data and dropping the column that are not present in either of them to assure the count of columns remain the same in both the datasets"
   ]
  },
  {
   "cell_type": "code",
   "execution_count": 28,
   "metadata": {
    "scrolled": true
   },
   "outputs": [
    {
     "data": {
      "text/plain": [
       "Working                 158771\n",
       "Commercial associate     71616\n",
       "Pensioner                55362\n",
       "State servant            21703\n",
       "Unemployed                  22\n",
       "Student                     18\n",
       "Businessman                 10\n",
       "Maternity leave              5\n",
       "Name: NAME_INCOME_TYPE, dtype: int64"
      ]
     },
     "execution_count": 28,
     "metadata": {},
     "output_type": "execute_result"
    }
   ],
   "source": [
    "df_train['NAME_INCOME_TYPE'].value_counts()"
   ]
  },
  {
   "cell_type": "code",
   "execution_count": 29,
   "metadata": {
    "scrolled": true
   },
   "outputs": [
    {
     "data": {
      "text/plain": [
       "Working                 24533\n",
       "Commercial associate    11402\n",
       "Pensioner                9273\n",
       "State servant            3532\n",
       "Student                     2\n",
       "Businessman                 1\n",
       "Unemployed                  1\n",
       "Name: NAME_INCOME_TYPE, dtype: int64"
      ]
     },
     "execution_count": 29,
     "metadata": {},
     "output_type": "execute_result"
    }
   ],
   "source": [
    "df_test['NAME_INCOME_TYPE'].value_counts()"
   ]
  },
  {
   "cell_type": "code",
   "execution_count": 30,
   "metadata": {
    "scrolled": true
   },
   "outputs": [
    {
     "data": {
      "text/plain": [
       "Married                 196429\n",
       "Single / not married     45444\n",
       "Civil marriage           29774\n",
       "Separated                19770\n",
       "Widow                    16088\n",
       "Unknown                      2\n",
       "Name: NAME_FAMILY_STATUS, dtype: int64"
      ]
     },
     "execution_count": 30,
     "metadata": {},
     "output_type": "execute_result"
    }
   ],
   "source": [
    "df_train['NAME_FAMILY_STATUS'].value_counts()"
   ]
  },
  {
   "cell_type": "code",
   "execution_count": 31,
   "metadata": {
    "scrolled": true
   },
   "outputs": [
    {
     "data": {
      "text/plain": [
       "Married                 32283\n",
       "Single / not married     7036\n",
       "Civil marriage           4261\n",
       "Separated                2955\n",
       "Widow                    2209\n",
       "Name: NAME_FAMILY_STATUS, dtype: int64"
      ]
     },
     "execution_count": 31,
     "metadata": {},
     "output_type": "execute_result"
    }
   ],
   "source": [
    "df_test['NAME_FAMILY_STATUS'].value_counts()"
   ]
  },
  {
   "cell_type": "code",
   "execution_count": 32,
   "metadata": {},
   "outputs": [],
   "source": [
    "#df_train.drop(df_train[df_train['NAME_INCOME_TYPE'] == 'Missing'].index, inplace=True)\n",
    "df_train.drop(df_train[df_train['NAME_INCOME_TYPE'] == 'Maternity leave'].index, inplace=True)\n",
    "df_train.drop(df_train[df_train['NAME_FAMILY_STATUS'] == 'Unknown'].index, inplace=True)"
   ]
  },
  {
   "cell_type": "markdown",
   "metadata": {},
   "source": [
    "## 6.3 Label Encoding and One Hot Encoding for train and test data"
   ]
  },
  {
   "cell_type": "markdown",
   "metadata": {},
   "source": [
    "##### We can observe that there are columns with more than 2 types of values. We use label encoding for columns with values equal to 2. Here \"Label encoding\" refers to the process of assigning unique integer labels to each category in a categorical variable. The labels are typically assigned in an arbitrary manner, without any specific order or meaning. For columns with values greater than two, we will one hot encode them. \"One-hot encoding\" is a technique used to represent categorical variables as binary vectors. It creates new binary columns, each corresponding to a unique category in the original variable, where a value of 1 indicates the presence of that category and 0 indicates the absence."
   ]
  },
  {
   "cell_type": "markdown",
   "metadata": {},
   "source": [
    "#### 6.3.1 Encoding train data"
   ]
  },
  {
   "cell_type": "code",
   "execution_count": 33,
   "metadata": {
    "scrolled": true
   },
   "outputs": [
    {
     "data": {
      "text/plain": [
       "NAME_CONTRACT_TYPE             2\n",
       "CODE_GENDER                    2\n",
       "FLAG_OWN_CAR                   2\n",
       "FLAG_OWN_REALTY                2\n",
       "NAME_TYPE_SUITE                8\n",
       "NAME_INCOME_TYPE               7\n",
       "NAME_EDUCATION_TYPE            5\n",
       "NAME_FAMILY_STATUS             5\n",
       "NAME_HOUSING_TYPE              6\n",
       "OCCUPATION_TYPE               19\n",
       "WEEKDAY_APPR_PROCESS_START     7\n",
       "ORGANIZATION_TYPE             58\n",
       "HOUSETYPE_MODE                 4\n",
       "WALLSMATERIAL_MODE             8\n",
       "EMERGENCYSTATE_MODE            3\n",
       "dtype: int64"
      ]
     },
     "execution_count": 33,
     "metadata": {},
     "output_type": "execute_result"
    }
   ],
   "source": [
    "df_train.select_dtypes(include='object').apply(pd.Series.nunique, axis = 0)"
   ]
  },
  {
   "cell_type": "markdown",
   "metadata": {},
   "source": [
    "#### 4 Columns with unique values less than or equal to two are label encoded and remaining 11 columns with unique values greater than 2 are one hot encoded as shown below"
   ]
  },
  {
   "cell_type": "code",
   "execution_count": 34,
   "metadata": {
    "scrolled": false
   },
   "outputs": [
    {
     "data": {
      "text/html": [
       "<div>\n",
       "<style scoped>\n",
       "    .dataframe tbody tr th:only-of-type {\n",
       "        vertical-align: middle;\n",
       "    }\n",
       "\n",
       "    .dataframe tbody tr th {\n",
       "        vertical-align: top;\n",
       "    }\n",
       "\n",
       "    .dataframe thead th {\n",
       "        text-align: right;\n",
       "    }\n",
       "</style>\n",
       "<table border=\"1\" class=\"dataframe\">\n",
       "  <thead>\n",
       "    <tr style=\"text-align: right;\">\n",
       "      <th></th>\n",
       "      <th>NAME_CONTRACT_TYPE</th>\n",
       "      <th>CODE_GENDER</th>\n",
       "      <th>FLAG_OWN_CAR</th>\n",
       "      <th>FLAG_OWN_REALTY</th>\n",
       "    </tr>\n",
       "  </thead>\n",
       "  <tbody>\n",
       "    <tr>\n",
       "      <th>0</th>\n",
       "      <td>0</td>\n",
       "      <td>1</td>\n",
       "      <td>0</td>\n",
       "      <td>1</td>\n",
       "    </tr>\n",
       "    <tr>\n",
       "      <th>1</th>\n",
       "      <td>0</td>\n",
       "      <td>0</td>\n",
       "      <td>0</td>\n",
       "      <td>0</td>\n",
       "    </tr>\n",
       "    <tr>\n",
       "      <th>2</th>\n",
       "      <td>1</td>\n",
       "      <td>1</td>\n",
       "      <td>1</td>\n",
       "      <td>1</td>\n",
       "    </tr>\n",
       "    <tr>\n",
       "      <th>3</th>\n",
       "      <td>0</td>\n",
       "      <td>0</td>\n",
       "      <td>0</td>\n",
       "      <td>1</td>\n",
       "    </tr>\n",
       "    <tr>\n",
       "      <th>4</th>\n",
       "      <td>0</td>\n",
       "      <td>1</td>\n",
       "      <td>0</td>\n",
       "      <td>1</td>\n",
       "    </tr>\n",
       "  </tbody>\n",
       "</table>\n",
       "</div>"
      ],
      "text/plain": [
       "   NAME_CONTRACT_TYPE  CODE_GENDER  FLAG_OWN_CAR  FLAG_OWN_REALTY\n",
       "0                   0            1             0                1\n",
       "1                   0            0             0                0\n",
       "2                   1            1             1                1\n",
       "3                   0            0             0                1\n",
       "4                   0            1             0                1"
      ]
     },
     "execution_count": 34,
     "metadata": {},
     "output_type": "execute_result"
    }
   ],
   "source": [
    "#Label Encoding\n",
    "from sklearn.preprocessing import LabelEncoder\n",
    "\n",
    "# Define the dataframe 'df' containing the columns\n",
    "\n",
    "# Define the columns to label encode based on values <= 2\n",
    "columns_to_encode = ['NAME_CONTRACT_TYPE', 'CODE_GENDER', 'FLAG_OWN_CAR', 'FLAG_OWN_REALTY']\n",
    "\n",
    "# Label encode the selected columns\n",
    "label_encoder = LabelEncoder()\n",
    "\n",
    "for column in columns_to_encode:\n",
    "    if df_train[column].nunique() <= 2:  # Check if number of unique values is less than or equal to 2\n",
    "        df_train[column] = label_encoder.fit_transform(df_train[column])\n",
    "df_train[['NAME_CONTRACT_TYPE', 'CODE_GENDER', 'FLAG_OWN_CAR', 'FLAG_OWN_REALTY']].head()"
   ]
  },
  {
   "cell_type": "code",
   "execution_count": 35,
   "metadata": {
    "scrolled": true
   },
   "outputs": [
    {
     "data": {
      "text/html": [
       "<div>\n",
       "<style scoped>\n",
       "    .dataframe tbody tr th:only-of-type {\n",
       "        vertical-align: middle;\n",
       "    }\n",
       "\n",
       "    .dataframe tbody tr th {\n",
       "        vertical-align: top;\n",
       "    }\n",
       "\n",
       "    .dataframe thead th {\n",
       "        text-align: right;\n",
       "    }\n",
       "</style>\n",
       "<table border=\"1\" class=\"dataframe\">\n",
       "  <thead>\n",
       "    <tr style=\"text-align: right;\">\n",
       "      <th></th>\n",
       "      <th>SK_ID_CURR</th>\n",
       "      <th>TARGET</th>\n",
       "      <th>NAME_CONTRACT_TYPE</th>\n",
       "      <th>CODE_GENDER</th>\n",
       "      <th>FLAG_OWN_CAR</th>\n",
       "      <th>FLAG_OWN_REALTY</th>\n",
       "      <th>CNT_CHILDREN</th>\n",
       "      <th>AMT_INCOME_TOTAL</th>\n",
       "      <th>AMT_CREDIT</th>\n",
       "      <th>AMT_ANNUITY</th>\n",
       "      <th>...</th>\n",
       "      <th>WALLSMATERIAL_MODE_Missing</th>\n",
       "      <th>WALLSMATERIAL_MODE_Mixed</th>\n",
       "      <th>WALLSMATERIAL_MODE_Monolithic</th>\n",
       "      <th>WALLSMATERIAL_MODE_Others</th>\n",
       "      <th>WALLSMATERIAL_MODE_Panel</th>\n",
       "      <th>WALLSMATERIAL_MODE_Stone, brick</th>\n",
       "      <th>WALLSMATERIAL_MODE_Wooden</th>\n",
       "      <th>EMERGENCYSTATE_MODE_Missing</th>\n",
       "      <th>EMERGENCYSTATE_MODE_No</th>\n",
       "      <th>EMERGENCYSTATE_MODE_Yes</th>\n",
       "    </tr>\n",
       "  </thead>\n",
       "  <tbody>\n",
       "    <tr>\n",
       "      <th>0</th>\n",
       "      <td>100002</td>\n",
       "      <td>1</td>\n",
       "      <td>0</td>\n",
       "      <td>1</td>\n",
       "      <td>0</td>\n",
       "      <td>1</td>\n",
       "      <td>0</td>\n",
       "      <td>202500.0</td>\n",
       "      <td>406597.5</td>\n",
       "      <td>24700.5</td>\n",
       "      <td>...</td>\n",
       "      <td>0</td>\n",
       "      <td>0</td>\n",
       "      <td>0</td>\n",
       "      <td>0</td>\n",
       "      <td>0</td>\n",
       "      <td>1</td>\n",
       "      <td>0</td>\n",
       "      <td>0</td>\n",
       "      <td>1</td>\n",
       "      <td>0</td>\n",
       "    </tr>\n",
       "    <tr>\n",
       "      <th>1</th>\n",
       "      <td>100003</td>\n",
       "      <td>0</td>\n",
       "      <td>0</td>\n",
       "      <td>0</td>\n",
       "      <td>0</td>\n",
       "      <td>0</td>\n",
       "      <td>0</td>\n",
       "      <td>270000.0</td>\n",
       "      <td>1293502.5</td>\n",
       "      <td>35698.5</td>\n",
       "      <td>...</td>\n",
       "      <td>0</td>\n",
       "      <td>0</td>\n",
       "      <td>0</td>\n",
       "      <td>0</td>\n",
       "      <td>0</td>\n",
       "      <td>0</td>\n",
       "      <td>0</td>\n",
       "      <td>0</td>\n",
       "      <td>1</td>\n",
       "      <td>0</td>\n",
       "    </tr>\n",
       "    <tr>\n",
       "      <th>2</th>\n",
       "      <td>100004</td>\n",
       "      <td>0</td>\n",
       "      <td>1</td>\n",
       "      <td>1</td>\n",
       "      <td>1</td>\n",
       "      <td>1</td>\n",
       "      <td>0</td>\n",
       "      <td>67500.0</td>\n",
       "      <td>135000.0</td>\n",
       "      <td>6750.0</td>\n",
       "      <td>...</td>\n",
       "      <td>1</td>\n",
       "      <td>0</td>\n",
       "      <td>0</td>\n",
       "      <td>0</td>\n",
       "      <td>0</td>\n",
       "      <td>0</td>\n",
       "      <td>0</td>\n",
       "      <td>1</td>\n",
       "      <td>0</td>\n",
       "      <td>0</td>\n",
       "    </tr>\n",
       "    <tr>\n",
       "      <th>3</th>\n",
       "      <td>100006</td>\n",
       "      <td>0</td>\n",
       "      <td>0</td>\n",
       "      <td>0</td>\n",
       "      <td>0</td>\n",
       "      <td>1</td>\n",
       "      <td>0</td>\n",
       "      <td>135000.0</td>\n",
       "      <td>312682.5</td>\n",
       "      <td>29686.5</td>\n",
       "      <td>...</td>\n",
       "      <td>1</td>\n",
       "      <td>0</td>\n",
       "      <td>0</td>\n",
       "      <td>0</td>\n",
       "      <td>0</td>\n",
       "      <td>0</td>\n",
       "      <td>0</td>\n",
       "      <td>1</td>\n",
       "      <td>0</td>\n",
       "      <td>0</td>\n",
       "    </tr>\n",
       "    <tr>\n",
       "      <th>4</th>\n",
       "      <td>100007</td>\n",
       "      <td>0</td>\n",
       "      <td>0</td>\n",
       "      <td>1</td>\n",
       "      <td>0</td>\n",
       "      <td>1</td>\n",
       "      <td>0</td>\n",
       "      <td>121500.0</td>\n",
       "      <td>513000.0</td>\n",
       "      <td>21865.5</td>\n",
       "      <td>...</td>\n",
       "      <td>1</td>\n",
       "      <td>0</td>\n",
       "      <td>0</td>\n",
       "      <td>0</td>\n",
       "      <td>0</td>\n",
       "      <td>0</td>\n",
       "      <td>0</td>\n",
       "      <td>1</td>\n",
       "      <td>0</td>\n",
       "      <td>0</td>\n",
       "    </tr>\n",
       "  </tbody>\n",
       "</table>\n",
       "<p>5 rows × 264 columns</p>\n",
       "</div>"
      ],
      "text/plain": [
       "   SK_ID_CURR  TARGET  NAME_CONTRACT_TYPE  CODE_GENDER  FLAG_OWN_CAR  \\\n",
       "0      100002       1                   0            1             0   \n",
       "1      100003       0                   0            0             0   \n",
       "2      100004       0                   1            1             1   \n",
       "3      100006       0                   0            0             0   \n",
       "4      100007       0                   0            1             0   \n",
       "\n",
       "   FLAG_OWN_REALTY  CNT_CHILDREN  AMT_INCOME_TOTAL  AMT_CREDIT  AMT_ANNUITY  \\\n",
       "0                1             0          202500.0    406597.5      24700.5   \n",
       "1                0             0          270000.0   1293502.5      35698.5   \n",
       "2                1             0           67500.0    135000.0       6750.0   \n",
       "3                1             0          135000.0    312682.5      29686.5   \n",
       "4                1             0          121500.0    513000.0      21865.5   \n",
       "\n",
       "   ...  WALLSMATERIAL_MODE_Missing  WALLSMATERIAL_MODE_Mixed  \\\n",
       "0  ...                           0                         0   \n",
       "1  ...                           0                         0   \n",
       "2  ...                           1                         0   \n",
       "3  ...                           1                         0   \n",
       "4  ...                           1                         0   \n",
       "\n",
       "   WALLSMATERIAL_MODE_Monolithic  WALLSMATERIAL_MODE_Others  \\\n",
       "0                              0                          0   \n",
       "1                              0                          0   \n",
       "2                              0                          0   \n",
       "3                              0                          0   \n",
       "4                              0                          0   \n",
       "\n",
       "   WALLSMATERIAL_MODE_Panel  WALLSMATERIAL_MODE_Stone, brick  \\\n",
       "0                         0                                1   \n",
       "1                         0                                0   \n",
       "2                         0                                0   \n",
       "3                         0                                0   \n",
       "4                         0                                0   \n",
       "\n",
       "   WALLSMATERIAL_MODE_Wooden  EMERGENCYSTATE_MODE_Missing  \\\n",
       "0                          0                            0   \n",
       "1                          0                            0   \n",
       "2                          0                            1   \n",
       "3                          0                            1   \n",
       "4                          0                            1   \n",
       "\n",
       "   EMERGENCYSTATE_MODE_No  EMERGENCYSTATE_MODE_Yes  \n",
       "0                       1                        0  \n",
       "1                       1                        0  \n",
       "2                       0                        0  \n",
       "3                       0                        0  \n",
       "4                       0                        0  \n",
       "\n",
       "[5 rows x 264 columns]"
      ]
     },
     "execution_count": 35,
     "metadata": {},
     "output_type": "execute_result"
    }
   ],
   "source": [
    "# One Hot Encoding\n",
    "categorical_columns =['NAME_TYPE_SUITE',\n",
    "                   'NAME_INCOME_TYPE', 'NAME_EDUCATION_TYPE', 'NAME_FAMILY_STATUS', 'NAME_HOUSING_TYPE',\n",
    "                   'OCCUPATION_TYPE', 'WEEKDAY_APPR_PROCESS_START', 'ORGANIZATION_TYPE', 'HOUSETYPE_MODE',\n",
    "                   'WALLSMATERIAL_MODE','NAME_TYPE_SUITE', 'OCCUPATION_TYPE', 'HOUSETYPE_MODE', 'WALLSMATERIAL_MODE', 'EMERGENCYSTATE_MODE']\n",
    "\n",
    "\n",
    "# Perform one-hot encoding using get_dummies()\n",
    "df_encoded_train = pd.get_dummies(df_train, columns=categorical_columns)\n",
    "\n",
    "# Print the encoded DataFrame\n",
    "df_encoded_train.head()\n"
   ]
  },
  {
   "cell_type": "markdown",
   "metadata": {},
   "source": [
    "#### 6.3.2 Encoding test data"
   ]
  },
  {
   "cell_type": "code",
   "execution_count": 36,
   "metadata": {
    "scrolled": false
   },
   "outputs": [
    {
     "data": {
      "text/plain": [
       "NAME_CONTRACT_TYPE             2\n",
       "CODE_GENDER                    2\n",
       "FLAG_OWN_CAR                   2\n",
       "FLAG_OWN_REALTY                2\n",
       "NAME_TYPE_SUITE                8\n",
       "NAME_INCOME_TYPE               7\n",
       "NAME_EDUCATION_TYPE            5\n",
       "NAME_FAMILY_STATUS             5\n",
       "NAME_HOUSING_TYPE              6\n",
       "OCCUPATION_TYPE               19\n",
       "WEEKDAY_APPR_PROCESS_START     7\n",
       "ORGANIZATION_TYPE             58\n",
       "HOUSETYPE_MODE                 4\n",
       "WALLSMATERIAL_MODE             8\n",
       "EMERGENCYSTATE_MODE            3\n",
       "dtype: int64"
      ]
     },
     "execution_count": 36,
     "metadata": {},
     "output_type": "execute_result"
    }
   ],
   "source": [
    "df_test.select_dtypes(include='object').apply(pd.Series.nunique, axis = 0)"
   ]
  },
  {
   "cell_type": "markdown",
   "metadata": {},
   "source": [
    "#### 4 Columns with unique values less than or equal to two are label encoded and remaining 11 columns with unique values greater than 2 are one hot encoded as shown below"
   ]
  },
  {
   "cell_type": "markdown",
   "metadata": {},
   "source": [
    "#### Performing Label and One Hot Encoding on test data "
   ]
  },
  {
   "cell_type": "code",
   "execution_count": 37,
   "metadata": {
    "scrolled": true
   },
   "outputs": [
    {
     "data": {
      "text/html": [
       "<div>\n",
       "<style scoped>\n",
       "    .dataframe tbody tr th:only-of-type {\n",
       "        vertical-align: middle;\n",
       "    }\n",
       "\n",
       "    .dataframe tbody tr th {\n",
       "        vertical-align: top;\n",
       "    }\n",
       "\n",
       "    .dataframe thead th {\n",
       "        text-align: right;\n",
       "    }\n",
       "</style>\n",
       "<table border=\"1\" class=\"dataframe\">\n",
       "  <thead>\n",
       "    <tr style=\"text-align: right;\">\n",
       "      <th></th>\n",
       "      <th>SK_ID_CURR</th>\n",
       "      <th>NAME_CONTRACT_TYPE</th>\n",
       "      <th>CODE_GENDER</th>\n",
       "      <th>FLAG_OWN_CAR</th>\n",
       "      <th>FLAG_OWN_REALTY</th>\n",
       "      <th>CNT_CHILDREN</th>\n",
       "      <th>AMT_INCOME_TOTAL</th>\n",
       "      <th>AMT_CREDIT</th>\n",
       "      <th>AMT_ANNUITY</th>\n",
       "      <th>AMT_GOODS_PRICE</th>\n",
       "      <th>...</th>\n",
       "      <th>WALLSMATERIAL_MODE_Missing</th>\n",
       "      <th>WALLSMATERIAL_MODE_Mixed</th>\n",
       "      <th>WALLSMATERIAL_MODE_Monolithic</th>\n",
       "      <th>WALLSMATERIAL_MODE_Others</th>\n",
       "      <th>WALLSMATERIAL_MODE_Panel</th>\n",
       "      <th>WALLSMATERIAL_MODE_Stone, brick</th>\n",
       "      <th>WALLSMATERIAL_MODE_Wooden</th>\n",
       "      <th>EMERGENCYSTATE_MODE_Missing</th>\n",
       "      <th>EMERGENCYSTATE_MODE_No</th>\n",
       "      <th>EMERGENCYSTATE_MODE_Yes</th>\n",
       "    </tr>\n",
       "  </thead>\n",
       "  <tbody>\n",
       "    <tr>\n",
       "      <th>0</th>\n",
       "      <td>100001</td>\n",
       "      <td>0</td>\n",
       "      <td>0</td>\n",
       "      <td>0</td>\n",
       "      <td>1</td>\n",
       "      <td>0</td>\n",
       "      <td>135000.0</td>\n",
       "      <td>568800.0</td>\n",
       "      <td>20560.5</td>\n",
       "      <td>450000.0</td>\n",
       "      <td>...</td>\n",
       "      <td>0</td>\n",
       "      <td>0</td>\n",
       "      <td>0</td>\n",
       "      <td>0</td>\n",
       "      <td>0</td>\n",
       "      <td>1</td>\n",
       "      <td>0</td>\n",
       "      <td>0</td>\n",
       "      <td>1</td>\n",
       "      <td>0</td>\n",
       "    </tr>\n",
       "    <tr>\n",
       "      <th>1</th>\n",
       "      <td>100005</td>\n",
       "      <td>0</td>\n",
       "      <td>1</td>\n",
       "      <td>0</td>\n",
       "      <td>1</td>\n",
       "      <td>0</td>\n",
       "      <td>99000.0</td>\n",
       "      <td>222768.0</td>\n",
       "      <td>17370.0</td>\n",
       "      <td>180000.0</td>\n",
       "      <td>...</td>\n",
       "      <td>1</td>\n",
       "      <td>0</td>\n",
       "      <td>0</td>\n",
       "      <td>0</td>\n",
       "      <td>0</td>\n",
       "      <td>0</td>\n",
       "      <td>0</td>\n",
       "      <td>1</td>\n",
       "      <td>0</td>\n",
       "      <td>0</td>\n",
       "    </tr>\n",
       "    <tr>\n",
       "      <th>2</th>\n",
       "      <td>100013</td>\n",
       "      <td>0</td>\n",
       "      <td>1</td>\n",
       "      <td>1</td>\n",
       "      <td>1</td>\n",
       "      <td>0</td>\n",
       "      <td>202500.0</td>\n",
       "      <td>663264.0</td>\n",
       "      <td>69777.0</td>\n",
       "      <td>630000.0</td>\n",
       "      <td>...</td>\n",
       "      <td>1</td>\n",
       "      <td>0</td>\n",
       "      <td>0</td>\n",
       "      <td>0</td>\n",
       "      <td>0</td>\n",
       "      <td>0</td>\n",
       "      <td>0</td>\n",
       "      <td>1</td>\n",
       "      <td>0</td>\n",
       "      <td>0</td>\n",
       "    </tr>\n",
       "    <tr>\n",
       "      <th>3</th>\n",
       "      <td>100028</td>\n",
       "      <td>0</td>\n",
       "      <td>0</td>\n",
       "      <td>0</td>\n",
       "      <td>1</td>\n",
       "      <td>2</td>\n",
       "      <td>315000.0</td>\n",
       "      <td>1575000.0</td>\n",
       "      <td>49018.5</td>\n",
       "      <td>1575000.0</td>\n",
       "      <td>...</td>\n",
       "      <td>0</td>\n",
       "      <td>0</td>\n",
       "      <td>0</td>\n",
       "      <td>0</td>\n",
       "      <td>1</td>\n",
       "      <td>0</td>\n",
       "      <td>0</td>\n",
       "      <td>0</td>\n",
       "      <td>1</td>\n",
       "      <td>0</td>\n",
       "    </tr>\n",
       "    <tr>\n",
       "      <th>4</th>\n",
       "      <td>100038</td>\n",
       "      <td>0</td>\n",
       "      <td>1</td>\n",
       "      <td>1</td>\n",
       "      <td>0</td>\n",
       "      <td>1</td>\n",
       "      <td>180000.0</td>\n",
       "      <td>625500.0</td>\n",
       "      <td>32067.0</td>\n",
       "      <td>625500.0</td>\n",
       "      <td>...</td>\n",
       "      <td>1</td>\n",
       "      <td>0</td>\n",
       "      <td>0</td>\n",
       "      <td>0</td>\n",
       "      <td>0</td>\n",
       "      <td>0</td>\n",
       "      <td>0</td>\n",
       "      <td>1</td>\n",
       "      <td>0</td>\n",
       "      <td>0</td>\n",
       "    </tr>\n",
       "  </tbody>\n",
       "</table>\n",
       "<p>5 rows × 263 columns</p>\n",
       "</div>"
      ],
      "text/plain": [
       "   SK_ID_CURR  NAME_CONTRACT_TYPE  CODE_GENDER  FLAG_OWN_CAR  FLAG_OWN_REALTY  \\\n",
       "0      100001                   0            0             0                1   \n",
       "1      100005                   0            1             0                1   \n",
       "2      100013                   0            1             1                1   \n",
       "3      100028                   0            0             0                1   \n",
       "4      100038                   0            1             1                0   \n",
       "\n",
       "   CNT_CHILDREN  AMT_INCOME_TOTAL  AMT_CREDIT  AMT_ANNUITY  AMT_GOODS_PRICE  \\\n",
       "0             0          135000.0    568800.0      20560.5         450000.0   \n",
       "1             0           99000.0    222768.0      17370.0         180000.0   \n",
       "2             0          202500.0    663264.0      69777.0         630000.0   \n",
       "3             2          315000.0   1575000.0      49018.5        1575000.0   \n",
       "4             1          180000.0    625500.0      32067.0         625500.0   \n",
       "\n",
       "   ...  WALLSMATERIAL_MODE_Missing  WALLSMATERIAL_MODE_Mixed  \\\n",
       "0  ...                           0                         0   \n",
       "1  ...                           1                         0   \n",
       "2  ...                           1                         0   \n",
       "3  ...                           0                         0   \n",
       "4  ...                           1                         0   \n",
       "\n",
       "   WALLSMATERIAL_MODE_Monolithic  WALLSMATERIAL_MODE_Others  \\\n",
       "0                              0                          0   \n",
       "1                              0                          0   \n",
       "2                              0                          0   \n",
       "3                              0                          0   \n",
       "4                              0                          0   \n",
       "\n",
       "   WALLSMATERIAL_MODE_Panel  WALLSMATERIAL_MODE_Stone, brick  \\\n",
       "0                         0                                1   \n",
       "1                         0                                0   \n",
       "2                         0                                0   \n",
       "3                         1                                0   \n",
       "4                         0                                0   \n",
       "\n",
       "   WALLSMATERIAL_MODE_Wooden  EMERGENCYSTATE_MODE_Missing  \\\n",
       "0                          0                            0   \n",
       "1                          0                            1   \n",
       "2                          0                            1   \n",
       "3                          0                            0   \n",
       "4                          0                            1   \n",
       "\n",
       "   EMERGENCYSTATE_MODE_No  EMERGENCYSTATE_MODE_Yes  \n",
       "0                       1                        0  \n",
       "1                       0                        0  \n",
       "2                       0                        0  \n",
       "3                       1                        0  \n",
       "4                       0                        0  \n",
       "\n",
       "[5 rows x 263 columns]"
      ]
     },
     "execution_count": 37,
     "metadata": {},
     "output_type": "execute_result"
    }
   ],
   "source": [
    "#Label Encoding\n",
    "from sklearn.preprocessing import LabelEncoder\n",
    "\n",
    "# Define the dataframe 'df' containing the columns\n",
    "\n",
    "# Define the columns to label encode based on values <= 2\n",
    "columns_to_encode = ['NAME_CONTRACT_TYPE', 'CODE_GENDER', 'FLAG_OWN_CAR', 'FLAG_OWN_REALTY', 'EMERGENCYSTATE_MODE']\n",
    "\n",
    "# Label encode the selected columns\n",
    "label_encoder = LabelEncoder()\n",
    "\n",
    "for column in columns_to_encode:\n",
    "    if df_test[column].nunique() <=2:  # Check if number of unique values is less than or equal to 2\n",
    "        df_test[column] = label_encoder.fit_transform(df_test[column])\n",
    "df_test.head(5)\n",
    "\n",
    "\n",
    "# Define a list of categorical columns to be one-hot encoded\n",
    "categorical_columns =['NAME_TYPE_SUITE',\n",
    "                   'NAME_INCOME_TYPE', 'NAME_EDUCATION_TYPE', 'NAME_FAMILY_STATUS', 'NAME_HOUSING_TYPE',\n",
    "                   'OCCUPATION_TYPE', 'WEEKDAY_APPR_PROCESS_START', 'ORGANIZATION_TYPE', 'HOUSETYPE_MODE',\n",
    "                   'WALLSMATERIAL_MODE','NAME_TYPE_SUITE', 'OCCUPATION_TYPE', 'HOUSETYPE_MODE', 'WALLSMATERIAL_MODE', 'EMERGENCYSTATE_MODE']\n",
    "\n",
    "\n",
    "# Perform one-hot encoding using get_dummies()\n",
    "df_encoded_test = pd.get_dummies(df_test, columns=categorical_columns)\n",
    "\n",
    "# Print the encoded DataFrame\n",
    "df_encoded_test.head()\n",
    "\n"
   ]
  },
  {
   "cell_type": "markdown",
   "metadata": {},
   "source": [
    "#### We encountered that one hot encoding has resulted in duplicate columns in both the test and train data. We are dropping duplicates while retaining the original columns as shown below "
   ]
  },
  {
   "cell_type": "code",
   "execution_count": 38,
   "metadata": {},
   "outputs": [
    {
     "name": "stdout",
     "output_type": "stream",
     "text": [
      "The number of duplicates in the train data are: 39\n",
      "The number of duplicates in the test data are: 39\n"
     ]
    }
   ],
   "source": [
    "# Assuming df_encoded_train is the DataFrame\n",
    "\n",
    "# Identify the duplicate columns\n",
    "duplicate_columns_train = df_encoded_train.columns[df_encoded_train.columns.duplicated()]\n",
    "duplicate_columns_test = df_encoded_test.columns[df_encoded_test.columns.duplicated()]\n",
    "# Print the duplicate column names\n",
    "print(\"The number of duplicates in the train data are:\",len(duplicate_columns_train))\n",
    "print(\"The number of duplicates in the test data are:\",len(duplicate_columns_test))"
   ]
  },
  {
   "cell_type": "code",
   "execution_count": 39,
   "metadata": {},
   "outputs": [
    {
     "data": {
      "text/html": [
       "<div>\n",
       "<style scoped>\n",
       "    .dataframe tbody tr th:only-of-type {\n",
       "        vertical-align: middle;\n",
       "    }\n",
       "\n",
       "    .dataframe tbody tr th {\n",
       "        vertical-align: top;\n",
       "    }\n",
       "\n",
       "    .dataframe thead th {\n",
       "        text-align: right;\n",
       "    }\n",
       "</style>\n",
       "<table border=\"1\" class=\"dataframe\">\n",
       "  <thead>\n",
       "    <tr style=\"text-align: right;\">\n",
       "      <th></th>\n",
       "      <th>SK_ID_CURR</th>\n",
       "      <th>TARGET</th>\n",
       "      <th>NAME_CONTRACT_TYPE</th>\n",
       "      <th>CODE_GENDER</th>\n",
       "      <th>FLAG_OWN_CAR</th>\n",
       "      <th>FLAG_OWN_REALTY</th>\n",
       "      <th>CNT_CHILDREN</th>\n",
       "      <th>AMT_INCOME_TOTAL</th>\n",
       "      <th>AMT_CREDIT</th>\n",
       "      <th>AMT_ANNUITY</th>\n",
       "      <th>...</th>\n",
       "      <th>WALLSMATERIAL_MODE_Missing</th>\n",
       "      <th>WALLSMATERIAL_MODE_Mixed</th>\n",
       "      <th>WALLSMATERIAL_MODE_Monolithic</th>\n",
       "      <th>WALLSMATERIAL_MODE_Others</th>\n",
       "      <th>WALLSMATERIAL_MODE_Panel</th>\n",
       "      <th>WALLSMATERIAL_MODE_Stone, brick</th>\n",
       "      <th>WALLSMATERIAL_MODE_Wooden</th>\n",
       "      <th>EMERGENCYSTATE_MODE_Missing</th>\n",
       "      <th>EMERGENCYSTATE_MODE_No</th>\n",
       "      <th>EMERGENCYSTATE_MODE_Yes</th>\n",
       "    </tr>\n",
       "  </thead>\n",
       "  <tbody>\n",
       "    <tr>\n",
       "      <th>0</th>\n",
       "      <td>100002</td>\n",
       "      <td>1</td>\n",
       "      <td>0</td>\n",
       "      <td>1</td>\n",
       "      <td>0</td>\n",
       "      <td>1</td>\n",
       "      <td>0</td>\n",
       "      <td>202500.0</td>\n",
       "      <td>406597.5</td>\n",
       "      <td>24700.5</td>\n",
       "      <td>...</td>\n",
       "      <td>0</td>\n",
       "      <td>0</td>\n",
       "      <td>0</td>\n",
       "      <td>0</td>\n",
       "      <td>0</td>\n",
       "      <td>1</td>\n",
       "      <td>0</td>\n",
       "      <td>0</td>\n",
       "      <td>1</td>\n",
       "      <td>0</td>\n",
       "    </tr>\n",
       "    <tr>\n",
       "      <th>1</th>\n",
       "      <td>100003</td>\n",
       "      <td>0</td>\n",
       "      <td>0</td>\n",
       "      <td>0</td>\n",
       "      <td>0</td>\n",
       "      <td>0</td>\n",
       "      <td>0</td>\n",
       "      <td>270000.0</td>\n",
       "      <td>1293502.5</td>\n",
       "      <td>35698.5</td>\n",
       "      <td>...</td>\n",
       "      <td>0</td>\n",
       "      <td>0</td>\n",
       "      <td>0</td>\n",
       "      <td>0</td>\n",
       "      <td>0</td>\n",
       "      <td>0</td>\n",
       "      <td>0</td>\n",
       "      <td>0</td>\n",
       "      <td>1</td>\n",
       "      <td>0</td>\n",
       "    </tr>\n",
       "    <tr>\n",
       "      <th>2</th>\n",
       "      <td>100004</td>\n",
       "      <td>0</td>\n",
       "      <td>1</td>\n",
       "      <td>1</td>\n",
       "      <td>1</td>\n",
       "      <td>1</td>\n",
       "      <td>0</td>\n",
       "      <td>67500.0</td>\n",
       "      <td>135000.0</td>\n",
       "      <td>6750.0</td>\n",
       "      <td>...</td>\n",
       "      <td>1</td>\n",
       "      <td>0</td>\n",
       "      <td>0</td>\n",
       "      <td>0</td>\n",
       "      <td>0</td>\n",
       "      <td>0</td>\n",
       "      <td>0</td>\n",
       "      <td>1</td>\n",
       "      <td>0</td>\n",
       "      <td>0</td>\n",
       "    </tr>\n",
       "    <tr>\n",
       "      <th>3</th>\n",
       "      <td>100006</td>\n",
       "      <td>0</td>\n",
       "      <td>0</td>\n",
       "      <td>0</td>\n",
       "      <td>0</td>\n",
       "      <td>1</td>\n",
       "      <td>0</td>\n",
       "      <td>135000.0</td>\n",
       "      <td>312682.5</td>\n",
       "      <td>29686.5</td>\n",
       "      <td>...</td>\n",
       "      <td>1</td>\n",
       "      <td>0</td>\n",
       "      <td>0</td>\n",
       "      <td>0</td>\n",
       "      <td>0</td>\n",
       "      <td>0</td>\n",
       "      <td>0</td>\n",
       "      <td>1</td>\n",
       "      <td>0</td>\n",
       "      <td>0</td>\n",
       "    </tr>\n",
       "    <tr>\n",
       "      <th>4</th>\n",
       "      <td>100007</td>\n",
       "      <td>0</td>\n",
       "      <td>0</td>\n",
       "      <td>1</td>\n",
       "      <td>0</td>\n",
       "      <td>1</td>\n",
       "      <td>0</td>\n",
       "      <td>121500.0</td>\n",
       "      <td>513000.0</td>\n",
       "      <td>21865.5</td>\n",
       "      <td>...</td>\n",
       "      <td>1</td>\n",
       "      <td>0</td>\n",
       "      <td>0</td>\n",
       "      <td>0</td>\n",
       "      <td>0</td>\n",
       "      <td>0</td>\n",
       "      <td>0</td>\n",
       "      <td>1</td>\n",
       "      <td>0</td>\n",
       "      <td>0</td>\n",
       "    </tr>\n",
       "  </tbody>\n",
       "</table>\n",
       "<p>5 rows × 225 columns</p>\n",
       "</div>"
      ],
      "text/plain": [
       "   SK_ID_CURR  TARGET  NAME_CONTRACT_TYPE  CODE_GENDER  FLAG_OWN_CAR  \\\n",
       "0      100002       1                   0            1             0   \n",
       "1      100003       0                   0            0             0   \n",
       "2      100004       0                   1            1             1   \n",
       "3      100006       0                   0            0             0   \n",
       "4      100007       0                   0            1             0   \n",
       "\n",
       "   FLAG_OWN_REALTY  CNT_CHILDREN  AMT_INCOME_TOTAL  AMT_CREDIT  AMT_ANNUITY  \\\n",
       "0                1             0          202500.0    406597.5      24700.5   \n",
       "1                0             0          270000.0   1293502.5      35698.5   \n",
       "2                1             0           67500.0    135000.0       6750.0   \n",
       "3                1             0          135000.0    312682.5      29686.5   \n",
       "4                1             0          121500.0    513000.0      21865.5   \n",
       "\n",
       "   ...  WALLSMATERIAL_MODE_Missing  WALLSMATERIAL_MODE_Mixed  \\\n",
       "0  ...                           0                         0   \n",
       "1  ...                           0                         0   \n",
       "2  ...                           1                         0   \n",
       "3  ...                           1                         0   \n",
       "4  ...                           1                         0   \n",
       "\n",
       "   WALLSMATERIAL_MODE_Monolithic  WALLSMATERIAL_MODE_Others  \\\n",
       "0                              0                          0   \n",
       "1                              0                          0   \n",
       "2                              0                          0   \n",
       "3                              0                          0   \n",
       "4                              0                          0   \n",
       "\n",
       "   WALLSMATERIAL_MODE_Panel  WALLSMATERIAL_MODE_Stone, brick  \\\n",
       "0                         0                                1   \n",
       "1                         0                                0   \n",
       "2                         0                                0   \n",
       "3                         0                                0   \n",
       "4                         0                                0   \n",
       "\n",
       "   WALLSMATERIAL_MODE_Wooden  EMERGENCYSTATE_MODE_Missing  \\\n",
       "0                          0                            0   \n",
       "1                          0                            0   \n",
       "2                          0                            1   \n",
       "3                          0                            1   \n",
       "4                          0                            1   \n",
       "\n",
       "   EMERGENCYSTATE_MODE_No  EMERGENCYSTATE_MODE_Yes  \n",
       "0                       1                        0  \n",
       "1                       1                        0  \n",
       "2                       0                        0  \n",
       "3                       0                        0  \n",
       "4                       0                        0  \n",
       "\n",
       "[5 rows x 225 columns]"
      ]
     },
     "execution_count": 39,
     "metadata": {},
     "output_type": "execute_result"
    }
   ],
   "source": [
    "# Assuming df_encoded_train is the DataFrame\n",
    "\n",
    "# Identify the duplicate columns\n",
    "duplicate_columns = df_encoded_train.columns[df_encoded_train.columns.duplicated()]\n",
    "\n",
    "# Drop duplicate columns while keeping one\n",
    "df_encoded_train_unique = df_encoded_train.loc[:, ~df_encoded_train.columns.duplicated()]\n",
    "\n",
    "# Print the DataFrame with duplicate columns dropped\n",
    "df_encoded_train_unique.head()\n"
   ]
  },
  {
   "cell_type": "code",
   "execution_count": 40,
   "metadata": {},
   "outputs": [
    {
     "data": {
      "text/plain": [
       "(307500, 225)"
      ]
     },
     "execution_count": 40,
     "metadata": {},
     "output_type": "execute_result"
    }
   ],
   "source": [
    "df_encoded_train_unique.shape"
   ]
  },
  {
   "cell_type": "code",
   "execution_count": 41,
   "metadata": {},
   "outputs": [
    {
     "data": {
      "text/html": [
       "<div>\n",
       "<style scoped>\n",
       "    .dataframe tbody tr th:only-of-type {\n",
       "        vertical-align: middle;\n",
       "    }\n",
       "\n",
       "    .dataframe tbody tr th {\n",
       "        vertical-align: top;\n",
       "    }\n",
       "\n",
       "    .dataframe thead th {\n",
       "        text-align: right;\n",
       "    }\n",
       "</style>\n",
       "<table border=\"1\" class=\"dataframe\">\n",
       "  <thead>\n",
       "    <tr style=\"text-align: right;\">\n",
       "      <th></th>\n",
       "      <th>SK_ID_CURR</th>\n",
       "      <th>NAME_CONTRACT_TYPE</th>\n",
       "      <th>CODE_GENDER</th>\n",
       "      <th>FLAG_OWN_CAR</th>\n",
       "      <th>FLAG_OWN_REALTY</th>\n",
       "      <th>CNT_CHILDREN</th>\n",
       "      <th>AMT_INCOME_TOTAL</th>\n",
       "      <th>AMT_CREDIT</th>\n",
       "      <th>AMT_ANNUITY</th>\n",
       "      <th>AMT_GOODS_PRICE</th>\n",
       "      <th>...</th>\n",
       "      <th>WALLSMATERIAL_MODE_Missing</th>\n",
       "      <th>WALLSMATERIAL_MODE_Mixed</th>\n",
       "      <th>WALLSMATERIAL_MODE_Monolithic</th>\n",
       "      <th>WALLSMATERIAL_MODE_Others</th>\n",
       "      <th>WALLSMATERIAL_MODE_Panel</th>\n",
       "      <th>WALLSMATERIAL_MODE_Stone, brick</th>\n",
       "      <th>WALLSMATERIAL_MODE_Wooden</th>\n",
       "      <th>EMERGENCYSTATE_MODE_Missing</th>\n",
       "      <th>EMERGENCYSTATE_MODE_No</th>\n",
       "      <th>EMERGENCYSTATE_MODE_Yes</th>\n",
       "    </tr>\n",
       "  </thead>\n",
       "  <tbody>\n",
       "    <tr>\n",
       "      <th>0</th>\n",
       "      <td>100001</td>\n",
       "      <td>0</td>\n",
       "      <td>0</td>\n",
       "      <td>0</td>\n",
       "      <td>1</td>\n",
       "      <td>0</td>\n",
       "      <td>135000.0</td>\n",
       "      <td>568800.0</td>\n",
       "      <td>20560.5</td>\n",
       "      <td>450000.0</td>\n",
       "      <td>...</td>\n",
       "      <td>0</td>\n",
       "      <td>0</td>\n",
       "      <td>0</td>\n",
       "      <td>0</td>\n",
       "      <td>0</td>\n",
       "      <td>1</td>\n",
       "      <td>0</td>\n",
       "      <td>0</td>\n",
       "      <td>1</td>\n",
       "      <td>0</td>\n",
       "    </tr>\n",
       "    <tr>\n",
       "      <th>1</th>\n",
       "      <td>100005</td>\n",
       "      <td>0</td>\n",
       "      <td>1</td>\n",
       "      <td>0</td>\n",
       "      <td>1</td>\n",
       "      <td>0</td>\n",
       "      <td>99000.0</td>\n",
       "      <td>222768.0</td>\n",
       "      <td>17370.0</td>\n",
       "      <td>180000.0</td>\n",
       "      <td>...</td>\n",
       "      <td>1</td>\n",
       "      <td>0</td>\n",
       "      <td>0</td>\n",
       "      <td>0</td>\n",
       "      <td>0</td>\n",
       "      <td>0</td>\n",
       "      <td>0</td>\n",
       "      <td>1</td>\n",
       "      <td>0</td>\n",
       "      <td>0</td>\n",
       "    </tr>\n",
       "    <tr>\n",
       "      <th>2</th>\n",
       "      <td>100013</td>\n",
       "      <td>0</td>\n",
       "      <td>1</td>\n",
       "      <td>1</td>\n",
       "      <td>1</td>\n",
       "      <td>0</td>\n",
       "      <td>202500.0</td>\n",
       "      <td>663264.0</td>\n",
       "      <td>69777.0</td>\n",
       "      <td>630000.0</td>\n",
       "      <td>...</td>\n",
       "      <td>1</td>\n",
       "      <td>0</td>\n",
       "      <td>0</td>\n",
       "      <td>0</td>\n",
       "      <td>0</td>\n",
       "      <td>0</td>\n",
       "      <td>0</td>\n",
       "      <td>1</td>\n",
       "      <td>0</td>\n",
       "      <td>0</td>\n",
       "    </tr>\n",
       "    <tr>\n",
       "      <th>3</th>\n",
       "      <td>100028</td>\n",
       "      <td>0</td>\n",
       "      <td>0</td>\n",
       "      <td>0</td>\n",
       "      <td>1</td>\n",
       "      <td>2</td>\n",
       "      <td>315000.0</td>\n",
       "      <td>1575000.0</td>\n",
       "      <td>49018.5</td>\n",
       "      <td>1575000.0</td>\n",
       "      <td>...</td>\n",
       "      <td>0</td>\n",
       "      <td>0</td>\n",
       "      <td>0</td>\n",
       "      <td>0</td>\n",
       "      <td>1</td>\n",
       "      <td>0</td>\n",
       "      <td>0</td>\n",
       "      <td>0</td>\n",
       "      <td>1</td>\n",
       "      <td>0</td>\n",
       "    </tr>\n",
       "    <tr>\n",
       "      <th>4</th>\n",
       "      <td>100038</td>\n",
       "      <td>0</td>\n",
       "      <td>1</td>\n",
       "      <td>1</td>\n",
       "      <td>0</td>\n",
       "      <td>1</td>\n",
       "      <td>180000.0</td>\n",
       "      <td>625500.0</td>\n",
       "      <td>32067.0</td>\n",
       "      <td>625500.0</td>\n",
       "      <td>...</td>\n",
       "      <td>1</td>\n",
       "      <td>0</td>\n",
       "      <td>0</td>\n",
       "      <td>0</td>\n",
       "      <td>0</td>\n",
       "      <td>0</td>\n",
       "      <td>0</td>\n",
       "      <td>1</td>\n",
       "      <td>0</td>\n",
       "      <td>0</td>\n",
       "    </tr>\n",
       "  </tbody>\n",
       "</table>\n",
       "<p>5 rows × 224 columns</p>\n",
       "</div>"
      ],
      "text/plain": [
       "   SK_ID_CURR  NAME_CONTRACT_TYPE  CODE_GENDER  FLAG_OWN_CAR  FLAG_OWN_REALTY  \\\n",
       "0      100001                   0            0             0                1   \n",
       "1      100005                   0            1             0                1   \n",
       "2      100013                   0            1             1                1   \n",
       "3      100028                   0            0             0                1   \n",
       "4      100038                   0            1             1                0   \n",
       "\n",
       "   CNT_CHILDREN  AMT_INCOME_TOTAL  AMT_CREDIT  AMT_ANNUITY  AMT_GOODS_PRICE  \\\n",
       "0             0          135000.0    568800.0      20560.5         450000.0   \n",
       "1             0           99000.0    222768.0      17370.0         180000.0   \n",
       "2             0          202500.0    663264.0      69777.0         630000.0   \n",
       "3             2          315000.0   1575000.0      49018.5        1575000.0   \n",
       "4             1          180000.0    625500.0      32067.0         625500.0   \n",
       "\n",
       "   ...  WALLSMATERIAL_MODE_Missing  WALLSMATERIAL_MODE_Mixed  \\\n",
       "0  ...                           0                         0   \n",
       "1  ...                           1                         0   \n",
       "2  ...                           1                         0   \n",
       "3  ...                           0                         0   \n",
       "4  ...                           1                         0   \n",
       "\n",
       "   WALLSMATERIAL_MODE_Monolithic  WALLSMATERIAL_MODE_Others  \\\n",
       "0                              0                          0   \n",
       "1                              0                          0   \n",
       "2                              0                          0   \n",
       "3                              0                          0   \n",
       "4                              0                          0   \n",
       "\n",
       "   WALLSMATERIAL_MODE_Panel  WALLSMATERIAL_MODE_Stone, brick  \\\n",
       "0                         0                                1   \n",
       "1                         0                                0   \n",
       "2                         0                                0   \n",
       "3                         1                                0   \n",
       "4                         0                                0   \n",
       "\n",
       "   WALLSMATERIAL_MODE_Wooden  EMERGENCYSTATE_MODE_Missing  \\\n",
       "0                          0                            0   \n",
       "1                          0                            1   \n",
       "2                          0                            1   \n",
       "3                          0                            0   \n",
       "4                          0                            1   \n",
       "\n",
       "   EMERGENCYSTATE_MODE_No  EMERGENCYSTATE_MODE_Yes  \n",
       "0                       1                        0  \n",
       "1                       0                        0  \n",
       "2                       0                        0  \n",
       "3                       1                        0  \n",
       "4                       0                        0  \n",
       "\n",
       "[5 rows x 224 columns]"
      ]
     },
     "execution_count": 41,
     "metadata": {},
     "output_type": "execute_result"
    }
   ],
   "source": [
    "# Assuming df_encoded_train is the DataFrame\n",
    "\n",
    "# Identify the duplicate columns\n",
    "duplicate_columns = df_encoded_test.columns[df_encoded_test.columns.duplicated()]\n",
    "\n",
    "# Drop duplicate columns while keeping one\n",
    "df_encoded_test_unique = df_encoded_test.loc[:, ~df_encoded_test.columns.duplicated()]\n",
    "\n",
    "# Print the DataFrame with duplicate columns dropped\n",
    "df_encoded_test_unique.head()\n"
   ]
  },
  {
   "cell_type": "code",
   "execution_count": 42,
   "metadata": {},
   "outputs": [
    {
     "data": {
      "text/plain": [
       "(48744, 224)"
      ]
     },
     "execution_count": 42,
     "metadata": {},
     "output_type": "execute_result"
    }
   ],
   "source": [
    "df_encoded_test_unique.shape"
   ]
  },
  {
   "cell_type": "markdown",
   "metadata": {},
   "source": [
    "### Conclusion based on the above evaluation: We have converted all the categorical columns to numerical columns in both the train and test data while keeping the column size same( Except the 'TARGET' column in test data)"
   ]
  },
  {
   "cell_type": "markdown",
   "metadata": {},
   "source": [
    "## 7. Numerical Columns"
   ]
  },
  {
   "cell_type": "markdown",
   "metadata": {},
   "source": [
    "#### 7.1 Identifying the percentage of missing values in each numerical column of the train dataset"
   ]
  },
  {
   "cell_type": "code",
   "execution_count": 43,
   "metadata": {},
   "outputs": [
    {
     "name": "stdout",
     "output_type": "stream",
     "text": [
      "OWN_CAR_AGE                     65.990569\n",
      "LANDAREA_AVG                    59.376585\n",
      "LANDAREA_MEDI                   59.376585\n",
      "LANDAREA_MODE                   59.376585\n",
      "BASEMENTAREA_MEDI               58.516423\n",
      "BASEMENTAREA_MODE               58.516423\n",
      "BASEMENTAREA_AVG                58.516423\n",
      "EXT_SOURCE_1                    56.381789\n",
      "NONLIVINGAREA_MODE              55.179187\n",
      "NONLIVINGAREA_MEDI              55.179187\n",
      "NONLIVINGAREA_AVG               55.179187\n",
      "ELEVATORS_MEDI                  53.296260\n",
      "ELEVATORS_MODE                  53.296260\n",
      "ELEVATORS_AVG                   53.296260\n",
      "APARTMENTS_MODE                 50.749919\n",
      "APARTMENTS_AVG                  50.749919\n",
      "APARTMENTS_MEDI                 50.749919\n",
      "ENTRANCES_MEDI                  50.348943\n",
      "ENTRANCES_MODE                  50.348943\n",
      "ENTRANCES_AVG                   50.348943\n",
      "LIVINGAREA_MEDI                 50.193496\n",
      "LIVINGAREA_MODE                 50.193496\n",
      "LIVINGAREA_AVG                  50.193496\n",
      "FLOORSMAX_MODE                  49.760976\n",
      "FLOORSMAX_AVG                   49.760976\n",
      "FLOORSMAX_MEDI                  49.760976\n",
      "YEARS_BEGINEXPLUATATION_MODE    48.781138\n",
      "YEARS_BEGINEXPLUATATION_MEDI    48.781138\n",
      "YEARS_BEGINEXPLUATATION_AVG     48.781138\n",
      "TOTALAREA_MODE                  48.268618\n",
      "EXT_SOURCE_3                    19.824065\n",
      "AMT_REQ_CREDIT_BUREAU_MON       13.500488\n",
      "AMT_REQ_CREDIT_BUREAU_HOUR      13.500488\n",
      "AMT_REQ_CREDIT_BUREAU_QRT       13.500488\n",
      "AMT_REQ_CREDIT_BUREAU_WEEK      13.500488\n",
      "AMT_REQ_CREDIT_BUREAU_DAY       13.500488\n",
      "AMT_REQ_CREDIT_BUREAU_YEAR      13.500488\n",
      "DEF_60_CNT_SOCIAL_CIRCLE         0.332033\n",
      "OBS_60_CNT_SOCIAL_CIRCLE         0.332033\n",
      "DEF_30_CNT_SOCIAL_CIRCLE         0.332033\n",
      "OBS_30_CNT_SOCIAL_CIRCLE         0.332033\n",
      "EXT_SOURCE_2                     0.214634\n",
      "AMT_GOODS_PRICE                  0.089756\n",
      "AMT_ANNUITY                      0.003902\n",
      "DAYS_LAST_PHONE_CHANGE           0.000325\n",
      "dtype: float64\n"
     ]
    }
   ],
   "source": [
    "# Assuming your dataset is stored in a variable named 'df'\n",
    "numerical_columns = df_encoded_train_unique.select_dtypes(include='number').columns\n",
    "missing_value_counts = df_encoded_train_unique[numerical_columns].isnull().sum()\n",
    "total_values = len(df_train)\n",
    "\n",
    "missing_value_percentages = (missing_value_counts / total_values) * 100\n",
    "\n",
    "numerical_columns_with_missing_values = missing_value_percentages[missing_value_percentages > 0]\n",
    "print(numerical_columns_with_missing_values.sort_values(ascending=False))"
   ]
  },
  {
   "cell_type": "markdown",
   "metadata": {},
   "source": [
    "#### 7.1.1 Binning OWN_CAR_AGE values and removing NA values"
   ]
  },
  {
   "cell_type": "code",
   "execution_count": 44,
   "metadata": {
    "scrolled": false
   },
   "outputs": [
    {
     "name": "stderr",
     "output_type": "stream",
     "text": [
      "/var/folders/wr/jqh8vp057dn07j_tw67dppvw0000gn/T/ipykernel_84471/392136176.py:2: SettingWithCopyWarning: \n",
      "A value is trying to be set on a copy of a slice from a DataFrame\n",
      "\n",
      "See the caveats in the documentation: https://pandas.pydata.org/pandas-docs/stable/user_guide/indexing.html#returning-a-view-versus-a-copy\n",
      "  df_encoded_train_unique['OWN_CAR_AGE'].fillna(0, inplace=True)\n",
      "/var/folders/wr/jqh8vp057dn07j_tw67dppvw0000gn/T/ipykernel_84471/392136176.py:3: SettingWithCopyWarning: \n",
      "A value is trying to be set on a copy of a slice from a DataFrame.\n",
      "Try using .loc[row_indexer,col_indexer] = value instead\n",
      "\n",
      "See the caveats in the documentation: https://pandas.pydata.org/pandas-docs/stable/user_guide/indexing.html#returning-a-view-versus-a-copy\n",
      "  df_encoded_train_unique['OWN_CAR_AGE'] = df_encoded_train_unique['OWN_CAR_AGE'].apply(lambda x: 0 if x == 0 else (1 if 10 <= x <= 20 else (2 if 21 <= x <= 30 else 3)))\n"
     ]
    },
    {
     "data": {
      "text/plain": [
       "0    205055\n",
       "3     56297\n",
       "1     38026\n",
       "2      8122\n",
       "Name: OWN_CAR_AGE, dtype: int64"
      ]
     },
     "execution_count": 44,
     "metadata": {},
     "output_type": "execute_result"
    }
   ],
   "source": [
    "def process_own_car_age(df):\n",
    "    df_encoded_train_unique['OWN_CAR_AGE'].fillna(0, inplace=True)\n",
    "    df_encoded_train_unique['OWN_CAR_AGE'] = df_encoded_train_unique['OWN_CAR_AGE'].apply(lambda x: 0 if x == 0 else (1 if 10 <= x <= 20 else (2 if 21 <= x <= 30 else 3)))\n",
    "    return df_encoded_train\n",
    "process_own_car_age(df_encoded_train_unique)\n",
    "df_encoded_train_unique['OWN_CAR_AGE'].value_counts()\n",
    "\n"
   ]
  },
  {
   "cell_type": "markdown",
   "metadata": {},
   "source": [
    "#### 7.1.2 DAYS_EMPLOYED column has 365243 as a NA value"
   ]
  },
  {
   "cell_type": "markdown",
   "metadata": {},
   "source": [
    "#### Replacing this value with the mean of the column and converting the negative values to positive using absolute method"
   ]
  },
  {
   "cell_type": "code",
   "execution_count": 45,
   "metadata": {},
   "outputs": [
    {
     "name": "stderr",
     "output_type": "stream",
     "text": [
      "/var/folders/wr/jqh8vp057dn07j_tw67dppvw0000gn/T/ipykernel_84471/2772748304.py:1: SettingWithCopyWarning: \n",
      "A value is trying to be set on a copy of a slice from a DataFrame.\n",
      "Try using .loc[row_indexer,col_indexer] = value instead\n",
      "\n",
      "See the caveats in the documentation: https://pandas.pydata.org/pandas-docs/stable/user_guide/indexing.html#returning-a-view-versus-a-copy\n",
      "  df_encoded_train_unique['DAYS_EMPLOYED']=df_encoded_train_unique['DAYS_EMPLOYED'].abs()\n",
      "/var/folders/wr/jqh8vp057dn07j_tw67dppvw0000gn/T/ipykernel_84471/2772748304.py:4: SettingWithCopyWarning: \n",
      "A value is trying to be set on a copy of a slice from a DataFrame\n",
      "\n",
      "See the caveats in the documentation: https://pandas.pydata.org/pandas-docs/stable/user_guide/indexing.html#returning-a-view-versus-a-copy\n",
      "  df_encoded_train_unique['DAYS_EMPLOYED'].replace(365243, mean_value, inplace=True)\n"
     ]
    },
    {
     "data": {
      "text/plain": [
       "count    307500.000000\n",
       "mean       2384.150631\n",
       "std        2117.364389\n",
       "min           0.000000\n",
       "25%         933.000000\n",
       "50%        2219.000000\n",
       "75%        2760.000000\n",
       "max       17912.000000\n",
       "Name: DAYS_EMPLOYED, dtype: float64"
      ]
     },
     "execution_count": 45,
     "metadata": {},
     "output_type": "execute_result"
    }
   ],
   "source": [
    "df_encoded_train_unique['DAYS_EMPLOYED']=df_encoded_train_unique['DAYS_EMPLOYED'].abs()\n",
    "\n",
    "mean_value = df_encoded_train_unique.loc[df_encoded_train_unique['DAYS_EMPLOYED'] != 365243, 'DAYS_EMPLOYED'].mean()\n",
    "df_encoded_train_unique['DAYS_EMPLOYED'].replace(365243, mean_value, inplace=True)\n",
    "df_encoded_train_unique['DAYS_EMPLOYED'].describe()"
   ]
  },
  {
   "cell_type": "markdown",
   "metadata": {},
   "source": [
    "#### 7.1.3 Converting columns with negative values to positive values"
   ]
  },
  {
   "cell_type": "markdown",
   "metadata": {},
   "source": [
    "##### DAYS_BIRTH, DAYS_REGISTRATION, DAYS_ID_PUBLISH, DAYS_EMPLOYED have negative values which are converted to positive using absolute method"
   ]
  },
  {
   "cell_type": "code",
   "execution_count": 46,
   "metadata": {},
   "outputs": [
    {
     "name": "stderr",
     "output_type": "stream",
     "text": [
      "/var/folders/wr/jqh8vp057dn07j_tw67dppvw0000gn/T/ipykernel_84471/1167011642.py:1: SettingWithCopyWarning: \n",
      "A value is trying to be set on a copy of a slice from a DataFrame.\n",
      "Try using .loc[row_indexer,col_indexer] = value instead\n",
      "\n",
      "See the caveats in the documentation: https://pandas.pydata.org/pandas-docs/stable/user_guide/indexing.html#returning-a-view-versus-a-copy\n",
      "  df_encoded_train_unique['DAYS_BIRTH']=df_encoded_train_unique['DAYS_BIRTH'].abs()\n",
      "/var/folders/wr/jqh8vp057dn07j_tw67dppvw0000gn/T/ipykernel_84471/1167011642.py:2: SettingWithCopyWarning: \n",
      "A value is trying to be set on a copy of a slice from a DataFrame.\n",
      "Try using .loc[row_indexer,col_indexer] = value instead\n",
      "\n",
      "See the caveats in the documentation: https://pandas.pydata.org/pandas-docs/stable/user_guide/indexing.html#returning-a-view-versus-a-copy\n",
      "  df_encoded_train_unique['DAYS_REGISTRATION']=df_encoded_train_unique['DAYS_REGISTRATION'].abs()\n",
      "/var/folders/wr/jqh8vp057dn07j_tw67dppvw0000gn/T/ipykernel_84471/1167011642.py:3: SettingWithCopyWarning: \n",
      "A value is trying to be set on a copy of a slice from a DataFrame.\n",
      "Try using .loc[row_indexer,col_indexer] = value instead\n",
      "\n",
      "See the caveats in the documentation: https://pandas.pydata.org/pandas-docs/stable/user_guide/indexing.html#returning-a-view-versus-a-copy\n",
      "  df_encoded_train_unique['DAYS_ID_PUBLISH']=df_encoded_train_unique['DAYS_ID_PUBLISH'].abs()\n",
      "/var/folders/wr/jqh8vp057dn07j_tw67dppvw0000gn/T/ipykernel_84471/1167011642.py:4: SettingWithCopyWarning: \n",
      "A value is trying to be set on a copy of a slice from a DataFrame.\n",
      "Try using .loc[row_indexer,col_indexer] = value instead\n",
      "\n",
      "See the caveats in the documentation: https://pandas.pydata.org/pandas-docs/stable/user_guide/indexing.html#returning-a-view-versus-a-copy\n",
      "  df_encoded_train_unique['DAYS_EMPLOYED']=df_encoded_train_unique['DAYS_EMPLOYED'].abs()\n"
     ]
    }
   ],
   "source": [
    "df_encoded_train_unique['DAYS_BIRTH']=df_encoded_train_unique['DAYS_BIRTH'].abs()\n",
    "df_encoded_train_unique['DAYS_REGISTRATION']=df_encoded_train_unique['DAYS_REGISTRATION'].abs()\n",
    "df_encoded_train_unique['DAYS_ID_PUBLISH']=df_encoded_train_unique['DAYS_ID_PUBLISH'].abs()\n",
    "df_encoded_train_unique['DAYS_EMPLOYED']=df_encoded_train_unique['DAYS_EMPLOYED'].abs()"
   ]
  },
  {
   "cell_type": "code",
   "execution_count": 47,
   "metadata": {},
   "outputs": [
    {
     "name": "stdout",
     "output_type": "stream",
     "text": [
      "count    307500.000000\n",
      "mean      16037.069246\n",
      "std        4363.988872\n",
      "min        7489.000000\n",
      "25%       12413.000000\n",
      "50%       15750.000000\n",
      "75%       19682.000000\n",
      "max       25229.000000\n",
      "Name: DAYS_BIRTH, dtype: float64\n",
      "count    307500.000000\n",
      "mean       4986.152449\n",
      "std        3522.883278\n",
      "min           0.000000\n",
      "25%        2010.000000\n",
      "50%        4504.000000\n",
      "75%        7479.250000\n",
      "max       24672.000000\n",
      "Name: DAYS_REGISTRATION, dtype: float64\n",
      "count    307500.000000\n",
      "mean       2994.203493\n",
      "std        1509.452794\n",
      "min           0.000000\n",
      "25%        1720.000000\n",
      "50%        3254.000000\n",
      "75%        4299.000000\n",
      "max        7197.000000\n",
      "Name: DAYS_ID_PUBLISH, dtype: float64\n",
      "count    307500.000000\n",
      "mean       2384.150631\n",
      "std        2117.364389\n",
      "min           0.000000\n",
      "25%         933.000000\n",
      "50%        2219.000000\n",
      "75%        2760.000000\n",
      "max       17912.000000\n",
      "Name: DAYS_EMPLOYED, dtype: float64\n"
     ]
    }
   ],
   "source": [
    "print(df_encoded_train_unique['DAYS_BIRTH'].describe())\n",
    "print(df_encoded_train_unique['DAYS_REGISTRATION'].describe())\n",
    "print(df_encoded_train_unique['DAYS_ID_PUBLISH'].describe())\n",
    "print(df_encoded_train_unique['DAYS_EMPLOYED'].describe())"
   ]
  },
  {
   "cell_type": "markdown",
   "metadata": {},
   "source": [
    "#### 7.2 Identifying the percentage of missing values in each numerical column of the test dataset"
   ]
  },
  {
   "cell_type": "code",
   "execution_count": 48,
   "metadata": {},
   "outputs": [
    {
     "name": "stdout",
     "output_type": "stream",
     "text": [
      "OWN_CAR_AGE                     66.289184\n",
      "LANDAREA_AVG                    57.964057\n",
      "LANDAREA_MEDI                   57.964057\n",
      "LANDAREA_MODE                   57.964057\n",
      "BASEMENTAREA_AVG                56.706466\n",
      "BASEMENTAREA_MODE               56.706466\n",
      "BASEMENTAREA_MEDI               56.706466\n",
      "NONLIVINGAREA_MEDI              53.512227\n",
      "NONLIVINGAREA_MODE              53.512227\n",
      "NONLIVINGAREA_AVG               53.512227\n",
      "ELEVATORS_MODE                  51.676104\n",
      "ELEVATORS_MEDI                  51.676104\n",
      "ELEVATORS_AVG                   51.676104\n",
      "APARTMENTS_MODE                 49.005006\n",
      "APARTMENTS_MEDI                 49.005006\n",
      "APARTMENTS_AVG                  49.005006\n",
      "ENTRANCES_AVG                   48.373133\n",
      "ENTRANCES_MEDI                  48.373133\n",
      "ENTRANCES_MODE                  48.373133\n",
      "LIVINGAREA_MEDI                 48.317742\n",
      "LIVINGAREA_MODE                 48.317742\n",
      "LIVINGAREA_AVG                  48.317742\n",
      "FLOORSMAX_MODE                  47.843837\n",
      "FLOORSMAX_AVG                   47.843837\n",
      "FLOORSMAX_MEDI                  47.843837\n",
      "YEARS_BEGINEXPLUATATION_MODE    46.889874\n",
      "YEARS_BEGINEXPLUATATION_MEDI    46.889874\n",
      "YEARS_BEGINEXPLUATATION_AVG     46.889874\n",
      "TOTALAREA_MODE                  46.413918\n",
      "EXT_SOURCE_1                    42.122107\n",
      "EXT_SOURCE_3                    17.782701\n",
      "AMT_REQ_CREDIT_BUREAU_HOUR      12.409732\n",
      "AMT_REQ_CREDIT_BUREAU_QRT       12.409732\n",
      "AMT_REQ_CREDIT_BUREAU_MON       12.409732\n",
      "AMT_REQ_CREDIT_BUREAU_WEEK      12.409732\n",
      "AMT_REQ_CREDIT_BUREAU_DAY       12.409732\n",
      "AMT_REQ_CREDIT_BUREAU_YEAR      12.409732\n",
      "DEF_60_CNT_SOCIAL_CIRCLE         0.059495\n",
      "OBS_60_CNT_SOCIAL_CIRCLE         0.059495\n",
      "DEF_30_CNT_SOCIAL_CIRCLE         0.059495\n",
      "OBS_30_CNT_SOCIAL_CIRCLE         0.059495\n",
      "AMT_ANNUITY                      0.049237\n",
      "EXT_SOURCE_2                     0.016412\n",
      "dtype: float64\n"
     ]
    }
   ],
   "source": [
    "numerical_columns = df_encoded_test_unique.select_dtypes(include='number').columns\n",
    "missing_value_counts = df_encoded_test_unique[numerical_columns].isnull().sum()\n",
    "total_values = len(df_test)\n",
    "\n",
    "missing_value_percentages = (missing_value_counts / total_values) * 100\n",
    "\n",
    "numerical_columns_with_missing_values = missing_value_percentages[missing_value_percentages > 0]\n",
    "print(numerical_columns_with_missing_values.sort_values(ascending=False))"
   ]
  },
  {
   "cell_type": "markdown",
   "metadata": {},
   "source": [
    "#### 7.2.1 Binning OWN_CAR_AGE values and removing NA values"
   ]
  },
  {
   "cell_type": "code",
   "execution_count": 49,
   "metadata": {},
   "outputs": [
    {
     "name": "stderr",
     "output_type": "stream",
     "text": [
      "/var/folders/wr/jqh8vp057dn07j_tw67dppvw0000gn/T/ipykernel_84471/3692629660.py:2: SettingWithCopyWarning: \n",
      "A value is trying to be set on a copy of a slice from a DataFrame\n",
      "\n",
      "See the caveats in the documentation: https://pandas.pydata.org/pandas-docs/stable/user_guide/indexing.html#returning-a-view-versus-a-copy\n",
      "  df_encoded_test_unique['OWN_CAR_AGE'].fillna(0, inplace=True)\n",
      "/var/folders/wr/jqh8vp057dn07j_tw67dppvw0000gn/T/ipykernel_84471/3692629660.py:3: SettingWithCopyWarning: \n",
      "A value is trying to be set on a copy of a slice from a DataFrame.\n",
      "Try using .loc[row_indexer,col_indexer] = value instead\n",
      "\n",
      "See the caveats in the documentation: https://pandas.pydata.org/pandas-docs/stable/user_guide/indexing.html#returning-a-view-versus-a-copy\n",
      "  df_encoded_test_unique['OWN_CAR_AGE'] = df_encoded_test_unique['OWN_CAR_AGE'].apply(lambda x: 0 if x == 0 else (1 if 10 <= x <= 20 else (2 if 21 <= x <= 30 else 3)))\n"
     ]
    },
    {
     "data": {
      "text/plain": [
       "0    32430\n",
       "3     9160\n",
       "1     5939\n",
       "2     1215\n",
       "Name: OWN_CAR_AGE, dtype: int64"
      ]
     },
     "execution_count": 49,
     "metadata": {},
     "output_type": "execute_result"
    }
   ],
   "source": [
    "def process_own_car_age(df):\n",
    "    df_encoded_test_unique['OWN_CAR_AGE'].fillna(0, inplace=True)\n",
    "    df_encoded_test_unique['OWN_CAR_AGE'] = df_encoded_test_unique['OWN_CAR_AGE'].apply(lambda x: 0 if x == 0 else (1 if 10 <= x <= 20 else (2 if 21 <= x <= 30 else 3)))\n",
    "    return df_encoded_test_unique\n",
    "process_own_car_age(df_encoded_test_unique)\n",
    "df_encoded_test_unique['OWN_CAR_AGE'].value_counts()"
   ]
  },
  {
   "cell_type": "markdown",
   "metadata": {},
   "source": [
    "#### 7.2.2 DAYS_EMPLOYED column has 365243 as a NA value"
   ]
  },
  {
   "cell_type": "markdown",
   "metadata": {},
   "source": [
    "#### Replacing this value with the mean of the column and converting the negative values to positive using absolute method"
   ]
  },
  {
   "cell_type": "code",
   "execution_count": 50,
   "metadata": {},
   "outputs": [
    {
     "name": "stderr",
     "output_type": "stream",
     "text": [
      "/var/folders/wr/jqh8vp057dn07j_tw67dppvw0000gn/T/ipykernel_84471/1070129205.py:1: SettingWithCopyWarning: \n",
      "A value is trying to be set on a copy of a slice from a DataFrame.\n",
      "Try using .loc[row_indexer,col_indexer] = value instead\n",
      "\n",
      "See the caveats in the documentation: https://pandas.pydata.org/pandas-docs/stable/user_guide/indexing.html#returning-a-view-versus-a-copy\n",
      "  df_encoded_test_unique['DAYS_EMPLOYED']=df_encoded_test_unique['DAYS_EMPLOYED'].abs()\n",
      "/var/folders/wr/jqh8vp057dn07j_tw67dppvw0000gn/T/ipykernel_84471/1070129205.py:4: SettingWithCopyWarning: \n",
      "A value is trying to be set on a copy of a slice from a DataFrame\n",
      "\n",
      "See the caveats in the documentation: https://pandas.pydata.org/pandas-docs/stable/user_guide/indexing.html#returning-a-view-versus-a-copy\n",
      "  df_encoded_test_unique['DAYS_EMPLOYED'].replace(365243, mean_value, inplace=True)\n"
     ]
    },
    {
     "data": {
      "text/plain": [
       "count    48744.000000\n",
       "mean      2476.738941\n",
       "std       2076.829996\n",
       "min          1.000000\n",
       "25%       1048.000000\n",
       "50%       2432.000000\n",
       "75%       2910.000000\n",
       "max      17463.000000\n",
       "Name: DAYS_EMPLOYED, dtype: float64"
      ]
     },
     "execution_count": 50,
     "metadata": {},
     "output_type": "execute_result"
    }
   ],
   "source": [
    "df_encoded_test_unique['DAYS_EMPLOYED']=df_encoded_test_unique['DAYS_EMPLOYED'].abs()\n",
    "\n",
    "mean_value = df_encoded_test_unique.loc[df_encoded_test_unique['DAYS_EMPLOYED'] != 365243, 'DAYS_EMPLOYED'].mean()\n",
    "df_encoded_test_unique['DAYS_EMPLOYED'].replace(365243, mean_value, inplace=True)\n",
    "df_encoded_test_unique['DAYS_EMPLOYED'].describe()"
   ]
  },
  {
   "cell_type": "markdown",
   "metadata": {},
   "source": [
    "#### 7.2.3 Converting columns with negative values to positive values"
   ]
  },
  {
   "cell_type": "markdown",
   "metadata": {},
   "source": [
    "#### DAYS_BIRTH, DAYS_REGISTRATION, DAYS_ID_PUBLISH, DAYS_EMPLOYED have negative values which are converted to positive using absolute method"
   ]
  },
  {
   "cell_type": "code",
   "execution_count": 51,
   "metadata": {},
   "outputs": [
    {
     "name": "stderr",
     "output_type": "stream",
     "text": [
      "/var/folders/wr/jqh8vp057dn07j_tw67dppvw0000gn/T/ipykernel_84471/550849824.py:1: SettingWithCopyWarning: \n",
      "A value is trying to be set on a copy of a slice from a DataFrame.\n",
      "Try using .loc[row_indexer,col_indexer] = value instead\n",
      "\n",
      "See the caveats in the documentation: https://pandas.pydata.org/pandas-docs/stable/user_guide/indexing.html#returning-a-view-versus-a-copy\n",
      "  df_encoded_test_unique['DAYS_BIRTH']=df_encoded_test_unique['DAYS_BIRTH'].abs()\n",
      "/var/folders/wr/jqh8vp057dn07j_tw67dppvw0000gn/T/ipykernel_84471/550849824.py:2: SettingWithCopyWarning: \n",
      "A value is trying to be set on a copy of a slice from a DataFrame.\n",
      "Try using .loc[row_indexer,col_indexer] = value instead\n",
      "\n",
      "See the caveats in the documentation: https://pandas.pydata.org/pandas-docs/stable/user_guide/indexing.html#returning-a-view-versus-a-copy\n",
      "  df_encoded_test_unique['DAYS_REGISTRATION']=df_encoded_test_unique['DAYS_REGISTRATION'].abs()\n",
      "/var/folders/wr/jqh8vp057dn07j_tw67dppvw0000gn/T/ipykernel_84471/550849824.py:3: SettingWithCopyWarning: \n",
      "A value is trying to be set on a copy of a slice from a DataFrame.\n",
      "Try using .loc[row_indexer,col_indexer] = value instead\n",
      "\n",
      "See the caveats in the documentation: https://pandas.pydata.org/pandas-docs/stable/user_guide/indexing.html#returning-a-view-versus-a-copy\n",
      "  df_encoded_test_unique['DAYS_ID_PUBLISH']=df_encoded_test_unique['DAYS_ID_PUBLISH'].abs()\n",
      "/var/folders/wr/jqh8vp057dn07j_tw67dppvw0000gn/T/ipykernel_84471/550849824.py:4: SettingWithCopyWarning: \n",
      "A value is trying to be set on a copy of a slice from a DataFrame.\n",
      "Try using .loc[row_indexer,col_indexer] = value instead\n",
      "\n",
      "See the caveats in the documentation: https://pandas.pydata.org/pandas-docs/stable/user_guide/indexing.html#returning-a-view-versus-a-copy\n",
      "  df_encoded_test_unique['DAYS_EMPLOYED']=df_encoded_test_unique['DAYS_EMPLOYED'].abs()\n"
     ]
    }
   ],
   "source": [
    "df_encoded_test_unique['DAYS_BIRTH']=df_encoded_test_unique['DAYS_BIRTH'].abs()\n",
    "df_encoded_test_unique['DAYS_REGISTRATION']=df_encoded_test_unique['DAYS_REGISTRATION'].abs()\n",
    "df_encoded_test_unique['DAYS_ID_PUBLISH']=df_encoded_test_unique['DAYS_ID_PUBLISH'].abs()\n",
    "df_encoded_test_unique['DAYS_EMPLOYED']=df_encoded_test_unique['DAYS_EMPLOYED'].abs()"
   ]
  },
  {
   "cell_type": "code",
   "execution_count": 52,
   "metadata": {},
   "outputs": [
    {
     "name": "stdout",
     "output_type": "stream",
     "text": [
      "count    48744.000000\n",
      "mean     16068.084605\n",
      "std       4325.900393\n",
      "min       7338.000000\n",
      "25%      12496.000000\n",
      "50%      15785.000000\n",
      "75%      19637.000000\n",
      "max      25195.000000\n",
      "Name: DAYS_BIRTH, dtype: float64\n",
      "count    48744.000000\n",
      "mean      4967.652716\n",
      "std       3552.612035\n",
      "min          0.000000\n",
      "25%       1901.000000\n",
      "50%       4490.000000\n",
      "75%       7459.250000\n",
      "max      23722.000000\n",
      "Name: DAYS_REGISTRATION, dtype: float64\n",
      "count    48744.000000\n",
      "mean      3051.712949\n",
      "std       1569.276709\n",
      "min          0.000000\n",
      "25%       1706.000000\n",
      "50%       3234.000000\n",
      "75%       4448.000000\n",
      "max       6348.000000\n",
      "Name: DAYS_ID_PUBLISH, dtype: float64\n",
      "count    48744.000000\n",
      "mean      2476.738941\n",
      "std       2076.829996\n",
      "min          1.000000\n",
      "25%       1048.000000\n",
      "50%       2432.000000\n",
      "75%       2910.000000\n",
      "max      17463.000000\n",
      "Name: DAYS_EMPLOYED, dtype: float64\n"
     ]
    }
   ],
   "source": [
    "print(df_encoded_test_unique['DAYS_BIRTH'].describe())\n",
    "print(df_encoded_test_unique['DAYS_REGISTRATION'].describe())\n",
    "print(df_encoded_test_unique['DAYS_ID_PUBLISH'].describe())\n",
    "print(df_encoded_test_unique['DAYS_EMPLOYED'].describe())"
   ]
  },
  {
   "cell_type": "markdown",
   "metadata": {},
   "source": [
    "## 8. Finding Correlations "
   ]
  },
  {
   "cell_type": "code",
   "execution_count": 53,
   "metadata": {},
   "outputs": [],
   "source": [
    "correlations = df_encoded_train_unique.corr()['TARGET'].sort_values(ascending= False)"
   ]
  },
  {
   "cell_type": "markdown",
   "metadata": {},
   "source": [
    "#### Identifying top and bottom 10 columns that have positive and negative correlation with the 'TARGET'"
   ]
  },
  {
   "cell_type": "code",
   "execution_count": 54,
   "metadata": {},
   "outputs": [
    {
     "data": {
      "text/plain": [
       "TARGET                                               1.000000\n",
       "REGION_RATING_CLIENT_W_CITY                          0.060875\n",
       "REGION_RATING_CLIENT                                 0.058882\n",
       "NAME_INCOME_TYPE_Working                             0.057504\n",
       "DAYS_LAST_PHONE_CHANGE                               0.055228\n",
       "CODE_GENDER                                          0.054729\n",
       "REG_CITY_NOT_WORK_CITY                               0.050981\n",
       "NAME_EDUCATION_TYPE_Secondary / secondary special    0.049804\n",
       "FLAG_EMP_PHONE                                       0.045978\n",
       "REG_CITY_NOT_LIVE_CITY                               0.044401\n",
       "Name: TARGET, dtype: float64"
      ]
     },
     "execution_count": 54,
     "metadata": {},
     "output_type": "execute_result"
    }
   ],
   "source": [
    "correlations.head(10)"
   ]
  },
  {
   "cell_type": "code",
   "execution_count": 55,
   "metadata": {},
   "outputs": [
    {
     "data": {
      "text/plain": [
       "FLOORSMAX_AVG                          -0.044005\n",
       "ORGANIZATION_TYPE_XNA                  -0.045983\n",
       "NAME_INCOME_TYPE_Pensioner             -0.046205\n",
       "DAYS_ID_PUBLISH                        -0.051455\n",
       "NAME_EDUCATION_TYPE_Higher education   -0.056578\n",
       "DAYS_EMPLOYED                          -0.070088\n",
       "DAYS_BIRTH                             -0.078236\n",
       "EXT_SOURCE_1                           -0.155333\n",
       "EXT_SOURCE_2                           -0.160451\n",
       "EXT_SOURCE_3                           -0.178926\n",
       "Name: TARGET, dtype: float64"
      ]
     },
     "execution_count": 55,
     "metadata": {},
     "output_type": "execute_result"
    }
   ],
   "source": [
    "correlations.tail(10)"
   ]
  },
  {
   "cell_type": "markdown",
   "metadata": {},
   "source": [
    "## 9. Feature Engineering "
   ]
  },
  {
   "cell_type": "markdown",
   "metadata": {},
   "source": [
    "####  Adding new features to the train and test data to improve the performance and effectiveness of the models that we'll use to predict defaulting. Also, it helps to mitigate overfitting of the model"
   ]
  },
  {
   "cell_type": "markdown",
   "metadata": {},
   "source": [
    "### 9.1 Adding new columns in the train data"
   ]
  },
  {
   "cell_type": "code",
   "execution_count": 56,
   "metadata": {},
   "outputs": [
    {
     "name": "stderr",
     "output_type": "stream",
     "text": [
      "/var/folders/wr/jqh8vp057dn07j_tw67dppvw0000gn/T/ipykernel_84471/863280389.py:1: SettingWithCopyWarning: \n",
      "A value is trying to be set on a copy of a slice from a DataFrame.\n",
      "Try using .loc[row_indexer,col_indexer] = value instead\n",
      "\n",
      "See the caveats in the documentation: https://pandas.pydata.org/pandas-docs/stable/user_guide/indexing.html#returning-a-view-versus-a-copy\n",
      "  df_encoded_train_unique['APPS_EXT_SOURCE_MEAN'] = df_encoded_train_unique[['EXT_SOURCE_1', 'EXT_SOURCE_2', 'EXT_SOURCE_3']].mean(axis = 1)\n",
      "/var/folders/wr/jqh8vp057dn07j_tw67dppvw0000gn/T/ipykernel_84471/863280389.py:2: SettingWithCopyWarning: \n",
      "A value is trying to be set on a copy of a slice from a DataFrame.\n",
      "Try using .loc[row_indexer,col_indexer] = value instead\n",
      "\n",
      "See the caveats in the documentation: https://pandas.pydata.org/pandas-docs/stable/user_guide/indexing.html#returning-a-view-versus-a-copy\n",
      "  df_encoded_train_unique['APPS_EXT_SOURCE_STD'] = df_encoded_train_unique[['EXT_SOURCE_1', 'EXT_SOURCE_2', 'EXT_SOURCE_3']].std(axis=1)\n",
      "/var/folders/wr/jqh8vp057dn07j_tw67dppvw0000gn/T/ipykernel_84471/863280389.py:3: SettingWithCopyWarning: \n",
      "A value is trying to be set on a copy of a slice from a DataFrame.\n",
      "Try using .loc[row_indexer,col_indexer] = value instead\n",
      "\n",
      "See the caveats in the documentation: https://pandas.pydata.org/pandas-docs/stable/user_guide/indexing.html#returning-a-view-versus-a-copy\n",
      "  df_encoded_train_unique['APPS_EXT_SOURCE_STD'] = df_encoded_train_unique['APPS_EXT_SOURCE_STD'].fillna(df_encoded_train_unique['APPS_EXT_SOURCE_STD'].mean())\n",
      "/var/folders/wr/jqh8vp057dn07j_tw67dppvw0000gn/T/ipykernel_84471/863280389.py:6: SettingWithCopyWarning: \n",
      "A value is trying to be set on a copy of a slice from a DataFrame.\n",
      "Try using .loc[row_indexer,col_indexer] = value instead\n",
      "\n",
      "See the caveats in the documentation: https://pandas.pydata.org/pandas-docs/stable/user_guide/indexing.html#returning-a-view-versus-a-copy\n",
      "  df_encoded_train_unique['APPS_ANNUITY_CREDIT_RATIO'] = df_encoded_train_unique['AMT_ANNUITY']/df_encoded_train_unique['AMT_CREDIT']\n",
      "/var/folders/wr/jqh8vp057dn07j_tw67dppvw0000gn/T/ipykernel_84471/863280389.py:7: SettingWithCopyWarning: \n",
      "A value is trying to be set on a copy of a slice from a DataFrame.\n",
      "Try using .loc[row_indexer,col_indexer] = value instead\n",
      "\n",
      "See the caveats in the documentation: https://pandas.pydata.org/pandas-docs/stable/user_guide/indexing.html#returning-a-view-versus-a-copy\n",
      "  df_encoded_train_unique['APPS_GOODS_CREDIT_RATIO'] = df_encoded_train_unique['AMT_GOODS_PRICE']/df_encoded_train_unique['AMT_CREDIT']\n",
      "/var/folders/wr/jqh8vp057dn07j_tw67dppvw0000gn/T/ipykernel_84471/863280389.py:10: SettingWithCopyWarning: \n",
      "A value is trying to be set on a copy of a slice from a DataFrame.\n",
      "Try using .loc[row_indexer,col_indexer] = value instead\n",
      "\n",
      "See the caveats in the documentation: https://pandas.pydata.org/pandas-docs/stable/user_guide/indexing.html#returning-a-view-versus-a-copy\n",
      "  df_encoded_train_unique['APPS_ANNUITY_INCOME_RATIO'] =df_encoded_train_unique['AMT_ANNUITY']/df_encoded_train_unique['AMT_INCOME_TOTAL']\n",
      "/var/folders/wr/jqh8vp057dn07j_tw67dppvw0000gn/T/ipykernel_84471/863280389.py:11: SettingWithCopyWarning: \n",
      "A value is trying to be set on a copy of a slice from a DataFrame.\n",
      "Try using .loc[row_indexer,col_indexer] = value instead\n",
      "\n",
      "See the caveats in the documentation: https://pandas.pydata.org/pandas-docs/stable/user_guide/indexing.html#returning-a-view-versus-a-copy\n",
      "  df_encoded_train_unique['APPS_CREDIT_INCOME_RATIO'] = df_encoded_train_unique['AMT_CREDIT']/df_encoded_train_unique['AMT_INCOME_TOTAL']\n",
      "/var/folders/wr/jqh8vp057dn07j_tw67dppvw0000gn/T/ipykernel_84471/863280389.py:12: SettingWithCopyWarning: \n",
      "A value is trying to be set on a copy of a slice from a DataFrame.\n",
      "Try using .loc[row_indexer,col_indexer] = value instead\n",
      "\n",
      "See the caveats in the documentation: https://pandas.pydata.org/pandas-docs/stable/user_guide/indexing.html#returning-a-view-versus-a-copy\n",
      "  df_encoded_train_unique['APPS_GOODS_INCOME_RATIO'] = df_encoded_train_unique['AMT_GOODS_PRICE']/df_encoded_train_unique['AMT_INCOME_TOTAL']\n",
      "/var/folders/wr/jqh8vp057dn07j_tw67dppvw0000gn/T/ipykernel_84471/863280389.py:13: SettingWithCopyWarning: \n",
      "A value is trying to be set on a copy of a slice from a DataFrame.\n",
      "Try using .loc[row_indexer,col_indexer] = value instead\n",
      "\n",
      "See the caveats in the documentation: https://pandas.pydata.org/pandas-docs/stable/user_guide/indexing.html#returning-a-view-versus-a-copy\n",
      "  df_encoded_train_unique['APPS_CNT_FAM_INCOME_RATIO'] = df_encoded_train_unique['AMT_INCOME_TOTAL']/df_encoded_train_unique['CNT_FAM_MEMBERS']\n",
      "/var/folders/wr/jqh8vp057dn07j_tw67dppvw0000gn/T/ipykernel_84471/863280389.py:16: SettingWithCopyWarning: \n",
      "A value is trying to be set on a copy of a slice from a DataFrame.\n",
      "Try using .loc[row_indexer,col_indexer] = value instead\n",
      "\n",
      "See the caveats in the documentation: https://pandas.pydata.org/pandas-docs/stable/user_guide/indexing.html#returning-a-view-versus-a-copy\n",
      "  df_encoded_train_unique['APPS_EMPLOYED_BIRTH_RATIO'] = df_encoded_train_unique['DAYS_EMPLOYED']/df_encoded_train_unique['DAYS_BIRTH']\n",
      "/var/folders/wr/jqh8vp057dn07j_tw67dppvw0000gn/T/ipykernel_84471/863280389.py:17: SettingWithCopyWarning: \n",
      "A value is trying to be set on a copy of a slice from a DataFrame.\n",
      "Try using .loc[row_indexer,col_indexer] = value instead\n",
      "\n",
      "See the caveats in the documentation: https://pandas.pydata.org/pandas-docs/stable/user_guide/indexing.html#returning-a-view-versus-a-copy\n",
      "  df_encoded_train_unique['APPS_INCOME_EMPLOYED_RATIO'] = df_encoded_train_unique['AMT_INCOME_TOTAL']/df_encoded_train_unique['DAYS_EMPLOYED']\n",
      "/var/folders/wr/jqh8vp057dn07j_tw67dppvw0000gn/T/ipykernel_84471/863280389.py:18: SettingWithCopyWarning: \n",
      "A value is trying to be set on a copy of a slice from a DataFrame.\n",
      "Try using .loc[row_indexer,col_indexer] = value instead\n",
      "\n",
      "See the caveats in the documentation: https://pandas.pydata.org/pandas-docs/stable/user_guide/indexing.html#returning-a-view-versus-a-copy\n",
      "  df_encoded_train_unique['APPS_INCOME_BIRTH_RATIO'] = df_encoded_train_unique['AMT_INCOME_TOTAL']/df_encoded_train_unique['DAYS_BIRTH']\n",
      "/var/folders/wr/jqh8vp057dn07j_tw67dppvw0000gn/T/ipykernel_84471/863280389.py:19: SettingWithCopyWarning: \n",
      "A value is trying to be set on a copy of a slice from a DataFrame.\n",
      "Try using .loc[row_indexer,col_indexer] = value instead\n",
      "\n",
      "See the caveats in the documentation: https://pandas.pydata.org/pandas-docs/stable/user_guide/indexing.html#returning-a-view-versus-a-copy\n",
      "  df_encoded_train_unique['APPS_CAR_BIRTH_RATIO'] = df_encoded_train_unique['OWN_CAR_AGE'] / df_encoded_train_unique['DAYS_BIRTH']\n",
      "/var/folders/wr/jqh8vp057dn07j_tw67dppvw0000gn/T/ipykernel_84471/863280389.py:20: SettingWithCopyWarning: \n",
      "A value is trying to be set on a copy of a slice from a DataFrame.\n",
      "Try using .loc[row_indexer,col_indexer] = value instead\n",
      "\n",
      "See the caveats in the documentation: https://pandas.pydata.org/pandas-docs/stable/user_guide/indexing.html#returning-a-view-versus-a-copy\n",
      "  df_encoded_train_unique['APPS_CAR_EMPLOYED_RATIO'] = df_encoded_train_unique['OWN_CAR_AGE'] /df_encoded_train_unique['DAYS_EMPLOYED']\n"
     ]
    }
   ],
   "source": [
    "df_encoded_train_unique['APPS_EXT_SOURCE_MEAN'] = df_encoded_train_unique[['EXT_SOURCE_1', 'EXT_SOURCE_2', 'EXT_SOURCE_3']].mean(axis = 1)\n",
    "df_encoded_train_unique['APPS_EXT_SOURCE_STD'] = df_encoded_train_unique[['EXT_SOURCE_1', 'EXT_SOURCE_2', 'EXT_SOURCE_3']].std(axis=1)\n",
    "df_encoded_train_unique['APPS_EXT_SOURCE_STD'] = df_encoded_train_unique['APPS_EXT_SOURCE_STD'].fillna(df_encoded_train_unique['APPS_EXT_SOURCE_STD'].mean())\n",
    "    \n",
    "    # AMT_CREDIT \n",
    "df_encoded_train_unique['APPS_ANNUITY_CREDIT_RATIO'] = df_encoded_train_unique['AMT_ANNUITY']/df_encoded_train_unique['AMT_CREDIT']\n",
    "df_encoded_train_unique['APPS_GOODS_CREDIT_RATIO'] = df_encoded_train_unique['AMT_GOODS_PRICE']/df_encoded_train_unique['AMT_CREDIT']\n",
    "    \n",
    "    # AMT_INCOME_TOTAL \n",
    "df_encoded_train_unique['APPS_ANNUITY_INCOME_RATIO'] =df_encoded_train_unique['AMT_ANNUITY']/df_encoded_train_unique['AMT_INCOME_TOTAL']\n",
    "df_encoded_train_unique['APPS_CREDIT_INCOME_RATIO'] = df_encoded_train_unique['AMT_CREDIT']/df_encoded_train_unique['AMT_INCOME_TOTAL']\n",
    "df_encoded_train_unique['APPS_GOODS_INCOME_RATIO'] = df_encoded_train_unique['AMT_GOODS_PRICE']/df_encoded_train_unique['AMT_INCOME_TOTAL']\n",
    "df_encoded_train_unique['APPS_CNT_FAM_INCOME_RATIO'] = df_encoded_train_unique['AMT_INCOME_TOTAL']/df_encoded_train_unique['CNT_FAM_MEMBERS']\n",
    "    \n",
    "    # DAYS_BIRTH, DAYS_EMPLOYED \n",
    "df_encoded_train_unique['APPS_EMPLOYED_BIRTH_RATIO'] = df_encoded_train_unique['DAYS_EMPLOYED']/df_encoded_train_unique['DAYS_BIRTH']\n",
    "df_encoded_train_unique['APPS_INCOME_EMPLOYED_RATIO'] = df_encoded_train_unique['AMT_INCOME_TOTAL']/df_encoded_train_unique['DAYS_EMPLOYED']\n",
    "df_encoded_train_unique['APPS_INCOME_BIRTH_RATIO'] = df_encoded_train_unique['AMT_INCOME_TOTAL']/df_encoded_train_unique['DAYS_BIRTH']\n",
    "df_encoded_train_unique['APPS_CAR_BIRTH_RATIO'] = df_encoded_train_unique['OWN_CAR_AGE'] / df_encoded_train_unique['DAYS_BIRTH']\n",
    "df_encoded_train_unique['APPS_CAR_EMPLOYED_RATIO'] = df_encoded_train_unique['OWN_CAR_AGE'] /df_encoded_train_unique['DAYS_EMPLOYED']"
   ]
  },
  {
   "cell_type": "code",
   "execution_count": 57,
   "metadata": {},
   "outputs": [],
   "source": [
    "def kde_target(var_name, df):\n",
    "    \n",
    "    # Calculate the correlation coefficient between the new variable and the target\n",
    "    corr = df_encoded_train_unique['TARGET'].corr(df[var_name])\n",
    "    \n",
    "    # Calculate medians for repaid vs not repaid\n",
    "    avg_repaid = df_encoded_train_unique.loc[df['TARGET'] == 0, var_name].median()\n",
    "    avg_not_repaid = df_encoded_train_unique.loc[df['TARGET'] == 1, var_name].median()\n",
    "    \n",
    "    plt.figure(figsize=(12, 6))\n",
    "    \n",
    "    # Plot the distribution for target == 0 and target == 1\n",
    "    sns.kdeplot(df_encoded_train_unique.loc[df['TARGET'] == 0, var_name], label='Not default')\n",
    "    sns.kdeplot(df_encoded_train_unique.loc[df['TARGET'] == 1, var_name], label='Default')\n",
    "    \n",
    "    # Label the plot\n",
    "    plt.xlabel(var_name)\n",
    "    plt.ylabel('Density')\n",
    "    plt.title('%s Distribution' % var_name)\n",
    "    plt.legend()\n",
    "    \n",
    "    # Print out the correlation\n",
    "    print('The correlation between %s and the TARGET is %0.4f' % (var_name, corr))\n",
    "    # Print out average values\n",
    "    print('Median value for loan that was not repaid = %0.4f' % avg_not_repaid)\n",
    "    print('Median value for loan that was repaid = %0.4f' % avg_repaid)\n",
    "    "
   ]
  },
  {
   "cell_type": "markdown",
   "metadata": {},
   "source": [
    "### Testing some new features with the target using the training dataset\n"
   ]
  },
  {
   "cell_type": "markdown",
   "metadata": {},
   "source": [
    "We picked 3 random new features to visualize their relationship with the target and see if they can add predictive power to the dataset. This will help us evaluate if our feature engineering can be impactuful when trying to find out best model."
   ]
  },
  {
   "cell_type": "code",
   "execution_count": 58,
   "metadata": {},
   "outputs": [
    {
     "name": "stdout",
     "output_type": "stream",
     "text": [
      "The correlation between APPS_ANNUITY_CREDIT_RATIO and the TARGET is 0.0127\n",
      "Median value for loan that was not repaid = 0.0500\n",
      "Median value for loan that was repaid = 0.0500\n"
     ]
    },
    {
     "data": {
      "image/png": "[encoded data removed]",
      "text/plain": [
       "<Figure size 1200x600 with 1 Axes>"
      ]
     },
     "metadata": {},
     "output_type": "display_data"
    }
   ],
   "source": [
    "kde_target('APPS_ANNUITY_CREDIT_RATIO', df_encoded_train_unique)"
   ]
  },
  {
   "cell_type": "markdown",
   "metadata": {},
   "source": [
    "The correlation between APPS_ANNUITY_CREDIT_RATIO and the TARGET is 0.0127\n",
    "Median value for loan that was not repaid = 0.0500\n",
    "Median value for loan that was repaid = 0.0500"
   ]
  },
  {
   "cell_type": "code",
   "execution_count": 59,
   "metadata": {},
   "outputs": [
    {
     "name": "stdout",
     "output_type": "stream",
     "text": [
      "The correlation between APPS_CREDIT_INCOME_RATIO and the TARGET is -0.0078\n",
      "Median value for loan that was not repaid = 3.2529\n",
      "Median value for loan that was repaid = 3.2667\n"
     ]
    },
    {
     "data": {
      "image/png": "[encoded data removed]",
      "text/plain": [
       "<Figure size 1200x600 with 1 Axes>"
      ]
     },
     "metadata": {},
     "output_type": "display_data"
    }
   ],
   "source": [
    "kde_target('APPS_CREDIT_INCOME_RATIO', df_encoded_train_unique)"
   ]
  },
  {
   "cell_type": "markdown",
   "metadata": {},
   "source": [
    "The correlation between APPS_CREDIT_INCOME_RATIO and the TARGET is -0.0078\n",
    "Median value for loan that was not repaid = 3.2529\n",
    "Median value for loan that was repaid = 3.2667"
   ]
  },
  {
   "cell_type": "code",
   "execution_count": 60,
   "metadata": {},
   "outputs": [
    {
     "name": "stdout",
     "output_type": "stream",
     "text": [
      "The correlation between APPS_EMPLOYED_BIRTH_RATIO and the TARGET is -0.0553\n",
      "Median value for loan that was not repaid = 0.1030\n",
      "Median value for loan that was repaid = 0.1115\n"
     ]
    },
    {
     "data": {
      "image/png": "[encoded data removed]",
      "text/plain": [
       "<Figure size 1200x600 with 1 Axes>"
      ]
     },
     "metadata": {},
     "output_type": "display_data"
    }
   ],
   "source": [
    "kde_target('APPS_EMPLOYED_BIRTH_RATIO', df_encoded_train_unique)"
   ]
  },
  {
   "cell_type": "markdown",
   "metadata": {},
   "source": [
    "#### The correlation between APPS_EMPLOYED_BIRTH_RATIO and the TARGET is 0.0422, Median value for loan that was not repaid = 0.0790, Median value for loan that was repaid = 0.0898"
   ]
  },
  {
   "cell_type": "markdown",
   "metadata": {},
   "source": [
    "### 9.2 Adding new columns in the test data"
   ]
  },
  {
   "cell_type": "code",
   "execution_count": 61,
   "metadata": {},
   "outputs": [
    {
     "name": "stderr",
     "output_type": "stream",
     "text": [
      "/var/folders/wr/jqh8vp057dn07j_tw67dppvw0000gn/T/ipykernel_84471/2369205670.py:1: SettingWithCopyWarning: \n",
      "A value is trying to be set on a copy of a slice from a DataFrame.\n",
      "Try using .loc[row_indexer,col_indexer] = value instead\n",
      "\n",
      "See the caveats in the documentation: https://pandas.pydata.org/pandas-docs/stable/user_guide/indexing.html#returning-a-view-versus-a-copy\n",
      "  df_encoded_test_unique['APPS_EXT_SOURCE_MEAN'] = df_encoded_test_unique[['EXT_SOURCE_1', 'EXT_SOURCE_2', 'EXT_SOURCE_3']].mean(axis = 1)\n",
      "/var/folders/wr/jqh8vp057dn07j_tw67dppvw0000gn/T/ipykernel_84471/2369205670.py:2: SettingWithCopyWarning: \n",
      "A value is trying to be set on a copy of a slice from a DataFrame.\n",
      "Try using .loc[row_indexer,col_indexer] = value instead\n",
      "\n",
      "See the caveats in the documentation: https://pandas.pydata.org/pandas-docs/stable/user_guide/indexing.html#returning-a-view-versus-a-copy\n",
      "  df_encoded_test_unique['APPS_EXT_SOURCE_STD'] = df_encoded_test_unique[['EXT_SOURCE_1', 'EXT_SOURCE_2', 'EXT_SOURCE_3']].std(axis=1)\n",
      "/var/folders/wr/jqh8vp057dn07j_tw67dppvw0000gn/T/ipykernel_84471/2369205670.py:3: SettingWithCopyWarning: \n",
      "A value is trying to be set on a copy of a slice from a DataFrame.\n",
      "Try using .loc[row_indexer,col_indexer] = value instead\n",
      "\n",
      "See the caveats in the documentation: https://pandas.pydata.org/pandas-docs/stable/user_guide/indexing.html#returning-a-view-versus-a-copy\n",
      "  df_encoded_test_unique['APPS_EXT_SOURCE_STD'] = df_encoded_test_unique['APPS_EXT_SOURCE_STD'].fillna(df_encoded_test_unique['APPS_EXT_SOURCE_STD'].mean())\n",
      "/var/folders/wr/jqh8vp057dn07j_tw67dppvw0000gn/T/ipykernel_84471/2369205670.py:6: SettingWithCopyWarning: \n",
      "A value is trying to be set on a copy of a slice from a DataFrame.\n",
      "Try using .loc[row_indexer,col_indexer] = value instead\n",
      "\n",
      "See the caveats in the documentation: https://pandas.pydata.org/pandas-docs/stable/user_guide/indexing.html#returning-a-view-versus-a-copy\n",
      "  df_encoded_test_unique['APPS_ANNUITY_CREDIT_RATIO'] = df_encoded_test_unique['AMT_ANNUITY']/df_encoded_test_unique['AMT_CREDIT']\n",
      "/var/folders/wr/jqh8vp057dn07j_tw67dppvw0000gn/T/ipykernel_84471/2369205670.py:7: SettingWithCopyWarning: \n",
      "A value is trying to be set on a copy of a slice from a DataFrame.\n",
      "Try using .loc[row_indexer,col_indexer] = value instead\n",
      "\n",
      "See the caveats in the documentation: https://pandas.pydata.org/pandas-docs/stable/user_guide/indexing.html#returning-a-view-versus-a-copy\n",
      "  df_encoded_test_unique['APPS_GOODS_CREDIT_RATIO'] = df_encoded_test_unique['AMT_GOODS_PRICE']/df_encoded_test_unique['AMT_CREDIT']\n",
      "/var/folders/wr/jqh8vp057dn07j_tw67dppvw0000gn/T/ipykernel_84471/2369205670.py:10: SettingWithCopyWarning: \n",
      "A value is trying to be set on a copy of a slice from a DataFrame.\n",
      "Try using .loc[row_indexer,col_indexer] = value instead\n",
      "\n",
      "See the caveats in the documentation: https://pandas.pydata.org/pandas-docs/stable/user_guide/indexing.html#returning-a-view-versus-a-copy\n",
      "  df_encoded_test_unique['APPS_ANNUITY_INCOME_RATIO'] =df_encoded_test_unique['AMT_ANNUITY']/df_encoded_test_unique['AMT_INCOME_TOTAL']\n",
      "/var/folders/wr/jqh8vp057dn07j_tw67dppvw0000gn/T/ipykernel_84471/2369205670.py:11: SettingWithCopyWarning: \n",
      "A value is trying to be set on a copy of a slice from a DataFrame.\n",
      "Try using .loc[row_indexer,col_indexer] = value instead\n",
      "\n",
      "See the caveats in the documentation: https://pandas.pydata.org/pandas-docs/stable/user_guide/indexing.html#returning-a-view-versus-a-copy\n",
      "  df_encoded_test_unique['APPS_CREDIT_INCOME_RATIO'] = df_encoded_test_unique['AMT_CREDIT']/df_encoded_test_unique['AMT_INCOME_TOTAL']\n",
      "/var/folders/wr/jqh8vp057dn07j_tw67dppvw0000gn/T/ipykernel_84471/2369205670.py:12: SettingWithCopyWarning: \n",
      "A value is trying to be set on a copy of a slice from a DataFrame.\n",
      "Try using .loc[row_indexer,col_indexer] = value instead\n",
      "\n",
      "See the caveats in the documentation: https://pandas.pydata.org/pandas-docs/stable/user_guide/indexing.html#returning-a-view-versus-a-copy\n",
      "  df_encoded_test_unique['APPS_GOODS_INCOME_RATIO'] = df_encoded_test_unique['AMT_GOODS_PRICE']/df_encoded_test_unique['AMT_INCOME_TOTAL']\n",
      "/var/folders/wr/jqh8vp057dn07j_tw67dppvw0000gn/T/ipykernel_84471/2369205670.py:13: SettingWithCopyWarning: \n",
      "A value is trying to be set on a copy of a slice from a DataFrame.\n",
      "Try using .loc[row_indexer,col_indexer] = value instead\n",
      "\n",
      "See the caveats in the documentation: https://pandas.pydata.org/pandas-docs/stable/user_guide/indexing.html#returning-a-view-versus-a-copy\n",
      "  df_encoded_test_unique['APPS_CNT_FAM_INCOME_RATIO'] = df_encoded_test_unique['AMT_INCOME_TOTAL']/df_encoded_test_unique['CNT_FAM_MEMBERS']\n",
      "/var/folders/wr/jqh8vp057dn07j_tw67dppvw0000gn/T/ipykernel_84471/2369205670.py:16: SettingWithCopyWarning: \n",
      "A value is trying to be set on a copy of a slice from a DataFrame.\n",
      "Try using .loc[row_indexer,col_indexer] = value instead\n",
      "\n",
      "See the caveats in the documentation: https://pandas.pydata.org/pandas-docs/stable/user_guide/indexing.html#returning-a-view-versus-a-copy\n",
      "  df_encoded_test_unique['APPS_EMPLOYED_BIRTH_RATIO'] = df_encoded_test_unique['DAYS_EMPLOYED']/df_encoded_test_unique['DAYS_BIRTH']\n",
      "/var/folders/wr/jqh8vp057dn07j_tw67dppvw0000gn/T/ipykernel_84471/2369205670.py:17: SettingWithCopyWarning: \n",
      "A value is trying to be set on a copy of a slice from a DataFrame.\n",
      "Try using .loc[row_indexer,col_indexer] = value instead\n",
      "\n",
      "See the caveats in the documentation: https://pandas.pydata.org/pandas-docs/stable/user_guide/indexing.html#returning-a-view-versus-a-copy\n",
      "  df_encoded_test_unique['APPS_INCOME_EMPLOYED_RATIO'] = df_encoded_test_unique['AMT_INCOME_TOTAL']/df_encoded_test_unique['DAYS_EMPLOYED']\n",
      "/var/folders/wr/jqh8vp057dn07j_tw67dppvw0000gn/T/ipykernel_84471/2369205670.py:18: SettingWithCopyWarning: \n",
      "A value is trying to be set on a copy of a slice from a DataFrame.\n",
      "Try using .loc[row_indexer,col_indexer] = value instead\n",
      "\n",
      "See the caveats in the documentation: https://pandas.pydata.org/pandas-docs/stable/user_guide/indexing.html#returning-a-view-versus-a-copy\n",
      "  df_encoded_test_unique['APPS_INCOME_BIRTH_RATIO'] = df_encoded_test_unique['AMT_INCOME_TOTAL']/df_encoded_test_unique['DAYS_BIRTH']\n",
      "/var/folders/wr/jqh8vp057dn07j_tw67dppvw0000gn/T/ipykernel_84471/2369205670.py:19: SettingWithCopyWarning: \n",
      "A value is trying to be set on a copy of a slice from a DataFrame.\n",
      "Try using .loc[row_indexer,col_indexer] = value instead\n",
      "\n",
      "See the caveats in the documentation: https://pandas.pydata.org/pandas-docs/stable/user_guide/indexing.html#returning-a-view-versus-a-copy\n",
      "  df_encoded_test_unique['APPS_CAR_BIRTH_RATIO'] = df_encoded_test_unique['OWN_CAR_AGE'] / df_encoded_test_unique['DAYS_BIRTH']\n",
      "/var/folders/wr/jqh8vp057dn07j_tw67dppvw0000gn/T/ipykernel_84471/2369205670.py:20: SettingWithCopyWarning: \n",
      "A value is trying to be set on a copy of a slice from a DataFrame.\n",
      "Try using .loc[row_indexer,col_indexer] = value instead\n",
      "\n",
      "See the caveats in the documentation: https://pandas.pydata.org/pandas-docs/stable/user_guide/indexing.html#returning-a-view-versus-a-copy\n",
      "  df_encoded_test_unique['APPS_CAR_EMPLOYED_RATIO'] = df_encoded_test_unique['OWN_CAR_AGE'] /df_encoded_test_unique['DAYS_EMPLOYED']\n"
     ]
    }
   ],
   "source": [
    "df_encoded_test_unique['APPS_EXT_SOURCE_MEAN'] = df_encoded_test_unique[['EXT_SOURCE_1', 'EXT_SOURCE_2', 'EXT_SOURCE_3']].mean(axis = 1)\n",
    "df_encoded_test_unique['APPS_EXT_SOURCE_STD'] = df_encoded_test_unique[['EXT_SOURCE_1', 'EXT_SOURCE_2', 'EXT_SOURCE_3']].std(axis=1)\n",
    "df_encoded_test_unique['APPS_EXT_SOURCE_STD'] = df_encoded_test_unique['APPS_EXT_SOURCE_STD'].fillna(df_encoded_test_unique['APPS_EXT_SOURCE_STD'].mean())\n",
    "    \n",
    "    # AMT_CREDIT \n",
    "df_encoded_test_unique['APPS_ANNUITY_CREDIT_RATIO'] = df_encoded_test_unique['AMT_ANNUITY']/df_encoded_test_unique['AMT_CREDIT']\n",
    "df_encoded_test_unique['APPS_GOODS_CREDIT_RATIO'] = df_encoded_test_unique['AMT_GOODS_PRICE']/df_encoded_test_unique['AMT_CREDIT']\n",
    "    \n",
    "    # AMT_INCOME_TOTAL \n",
    "df_encoded_test_unique['APPS_ANNUITY_INCOME_RATIO'] =df_encoded_test_unique['AMT_ANNUITY']/df_encoded_test_unique['AMT_INCOME_TOTAL']\n",
    "df_encoded_test_unique['APPS_CREDIT_INCOME_RATIO'] = df_encoded_test_unique['AMT_CREDIT']/df_encoded_test_unique['AMT_INCOME_TOTAL']\n",
    "df_encoded_test_unique['APPS_GOODS_INCOME_RATIO'] = df_encoded_test_unique['AMT_GOODS_PRICE']/df_encoded_test_unique['AMT_INCOME_TOTAL']\n",
    "df_encoded_test_unique['APPS_CNT_FAM_INCOME_RATIO'] = df_encoded_test_unique['AMT_INCOME_TOTAL']/df_encoded_test_unique['CNT_FAM_MEMBERS']\n",
    "    \n",
    "    # DAYS_BIRTH, DAYS_EMPLOYED \n",
    "df_encoded_test_unique['APPS_EMPLOYED_BIRTH_RATIO'] = df_encoded_test_unique['DAYS_EMPLOYED']/df_encoded_test_unique['DAYS_BIRTH']\n",
    "df_encoded_test_unique['APPS_INCOME_EMPLOYED_RATIO'] = df_encoded_test_unique['AMT_INCOME_TOTAL']/df_encoded_test_unique['DAYS_EMPLOYED']\n",
    "df_encoded_test_unique['APPS_INCOME_BIRTH_RATIO'] = df_encoded_test_unique['AMT_INCOME_TOTAL']/df_encoded_test_unique['DAYS_BIRTH']\n",
    "df_encoded_test_unique['APPS_CAR_BIRTH_RATIO'] = df_encoded_test_unique['OWN_CAR_AGE'] / df_encoded_test_unique['DAYS_BIRTH']\n",
    "df_encoded_test_unique['APPS_CAR_EMPLOYED_RATIO'] = df_encoded_test_unique['OWN_CAR_AGE'] /df_encoded_test_unique['DAYS_EMPLOYED']"
   ]
  },
  {
   "cell_type": "markdown",
   "metadata": {},
   "source": [
    "### 9.3 Adding new columns in the bureau data"
   ]
  },
  {
   "cell_type": "code",
   "execution_count": 62,
   "metadata": {},
   "outputs": [],
   "source": [
    "df_bureau['BUREAU_ENDDATE_FACT_DIFF'] = df_bureau['DAYS_CREDIT_ENDDATE'] - df_bureau['DAYS_ENDDATE_FACT']\n",
    "df_bureau['BUREAU_CREDIT_FACT_DIFF'] = df_bureau['DAYS_CREDIT'] - df_bureau['DAYS_ENDDATE_FACT']\n",
    "df_bureau['BUREAU_CREDIT_ENDDATE_DIFF'] = df_bureau['DAYS_CREDIT'] - df_bureau['DAYS_CREDIT_ENDDATE']\n",
    "  \n",
    "\n",
    "df_bureau['BUREAU_CREDIT_DEBT_RATIO']=df_bureau['AMT_CREDIT_SUM_DEBT']/df_bureau['AMT_CREDIT_SUM']\n",
    "\n",
    "df_bureau['BUREAU_CREDIT_DEBT_DIFF'] = df_bureau['AMT_CREDIT_SUM_DEBT'] -df_bureau['AMT_CREDIT_SUM']\n",
    "    \n",
    "\n",
    "df_bureau['BUREAU_IS_DPD'] = df_bureau['CREDIT_DAY_OVERDUE'].apply(lambda x: 1 if x > 0 else 0)\n",
    "df_bureau['BUREAU_IS_DPD_OVER120'] = df_bureau['CREDIT_DAY_OVERDUE'].apply(lambda x: 1 if x >120 else 0)"
   ]
  },
  {
   "cell_type": "code",
   "execution_count": 63,
   "metadata": {},
   "outputs": [],
   "source": [
    "  bureau_agg_dict = {\n",
    "  'SK_ID_BUREAU':['count'],\n",
    "  'DAYS_CREDIT':['min', 'max', 'mean'],\n",
    "  'CREDIT_DAY_OVERDUE':['min', 'max', 'mean'],\n",
    "  'DAYS_CREDIT_ENDDATE':['min', 'max', 'mean'],\n",
    "  'DAYS_ENDDATE_FACT':['min', 'max', 'mean'],\n",
    "  'AMT_CREDIT_MAX_OVERDUE': ['max', 'mean'],\n",
    "  'AMT_CREDIT_SUM': ['max', 'mean', 'sum'],\n",
    "  'AMT_CREDIT_SUM_DEBT': ['max', 'mean', 'sum'],\n",
    "  'AMT_CREDIT_SUM_OVERDUE': ['max', 'mean', 'sum'],\n",
    "  'AMT_ANNUITY': ['max', 'mean', 'sum'],\n",
    "  'BUREAU_ENDDATE_FACT_DIFF':['min', 'max', 'mean'],\n",
    "  'BUREAU_CREDIT_FACT_DIFF':['min', 'max', 'mean'],\n",
    "  'BUREAU_CREDIT_ENDDATE_DIFF':['min', 'max', 'mean'],\n",
    "  'BUREAU_CREDIT_DEBT_RATIO':['min', 'max', 'mean'],\n",
    "  'BUREAU_CREDIT_DEBT_DIFF':['min', 'max', 'mean'],\n",
    "  'BUREAU_IS_DPD':['mean', 'sum'],\n",
    "  'BUREAU_IS_DPD_OVER120':['mean', 'sum']\n",
    "  }"
   ]
  },
  {
   "cell_type": "code",
   "execution_count": 64,
   "metadata": {
    "scrolled": false
   },
   "outputs": [
    {
     "name": "stderr",
     "output_type": "stream",
     "text": [
      "/var/folders/wr/jqh8vp057dn07j_tw67dppvw0000gn/T/ipykernel_84471/2269447969.py:4: FutureWarning: Index.ravel returning ndarray is deprecated; in a future version this will return a view on self.\n",
      "  bureau_day_amt_agg.columns = ['BUREAU_'+('_').join(column).upper() for column in bureau_day_amt_agg.columns.ravel()]\n"
     ]
    }
   ],
   "source": [
    "bureau_grp =df_bureau.groupby('SK_ID_CURR')\n",
    "bureau_day_amt_agg = bureau_grp.agg(bureau_agg_dict)\n",
    "bureau_day_amt_agg.head()\n",
    "bureau_day_amt_agg.columns = ['BUREAU_'+('_').join(column).upper() for column in bureau_day_amt_agg.columns.ravel()]\n",
    "bureau_day_amt_agg = bureau_day_amt_agg.reset_index()\n"
   ]
  },
  {
   "cell_type": "code",
   "execution_count": 65,
   "metadata": {
    "scrolled": true
   },
   "outputs": [
    {
     "data": {
      "text/html": [
       "<div>\n",
       "<style scoped>\n",
       "    .dataframe tbody tr th:only-of-type {\n",
       "        vertical-align: middle;\n",
       "    }\n",
       "\n",
       "    .dataframe tbody tr th {\n",
       "        vertical-align: top;\n",
       "    }\n",
       "\n",
       "    .dataframe thead th {\n",
       "        text-align: right;\n",
       "    }\n",
       "</style>\n",
       "<table border=\"1\" class=\"dataframe\">\n",
       "  <thead>\n",
       "    <tr style=\"text-align: right;\">\n",
       "      <th></th>\n",
       "      <th>SK_ID_CURR</th>\n",
       "      <th>BUREAU_SK_ID_BUREAU_COUNT</th>\n",
       "      <th>BUREAU_DAYS_CREDIT_MIN</th>\n",
       "      <th>BUREAU_DAYS_CREDIT_MAX</th>\n",
       "      <th>BUREAU_DAYS_CREDIT_MEAN</th>\n",
       "      <th>BUREAU_CREDIT_DAY_OVERDUE_MIN</th>\n",
       "      <th>BUREAU_CREDIT_DAY_OVERDUE_MAX</th>\n",
       "      <th>BUREAU_CREDIT_DAY_OVERDUE_MEAN</th>\n",
       "      <th>BUREAU_DAYS_CREDIT_ENDDATE_MIN</th>\n",
       "      <th>BUREAU_DAYS_CREDIT_ENDDATE_MAX</th>\n",
       "      <th>...</th>\n",
       "      <th>BUREAU_BUREAU_CREDIT_DEBT_RATIO_MIN</th>\n",
       "      <th>BUREAU_BUREAU_CREDIT_DEBT_RATIO_MAX</th>\n",
       "      <th>BUREAU_BUREAU_CREDIT_DEBT_RATIO_MEAN</th>\n",
       "      <th>BUREAU_BUREAU_CREDIT_DEBT_DIFF_MIN</th>\n",
       "      <th>BUREAU_BUREAU_CREDIT_DEBT_DIFF_MAX</th>\n",
       "      <th>BUREAU_BUREAU_CREDIT_DEBT_DIFF_MEAN</th>\n",
       "      <th>BUREAU_BUREAU_IS_DPD_MEAN</th>\n",
       "      <th>BUREAU_BUREAU_IS_DPD_SUM</th>\n",
       "      <th>BUREAU_BUREAU_IS_DPD_OVER120_MEAN</th>\n",
       "      <th>BUREAU_BUREAU_IS_DPD_OVER120_SUM</th>\n",
       "    </tr>\n",
       "  </thead>\n",
       "  <tbody>\n",
       "    <tr>\n",
       "      <th>0</th>\n",
       "      <td>100001</td>\n",
       "      <td>7</td>\n",
       "      <td>-1572</td>\n",
       "      <td>-49</td>\n",
       "      <td>-735.000000</td>\n",
       "      <td>0</td>\n",
       "      <td>0</td>\n",
       "      <td>0.0</td>\n",
       "      <td>-1329.0</td>\n",
       "      <td>1778.0</td>\n",
       "      <td>...</td>\n",
       "      <td>0.0</td>\n",
       "      <td>0.987405</td>\n",
       "      <td>0.282518</td>\n",
       "      <td>-279720.0</td>\n",
       "      <td>-4761.0</td>\n",
       "      <td>-122382.642857</td>\n",
       "      <td>0.0</td>\n",
       "      <td>0</td>\n",
       "      <td>0.0</td>\n",
       "      <td>0</td>\n",
       "    </tr>\n",
       "    <tr>\n",
       "      <th>1</th>\n",
       "      <td>100002</td>\n",
       "      <td>8</td>\n",
       "      <td>-1437</td>\n",
       "      <td>-103</td>\n",
       "      <td>-874.000000</td>\n",
       "      <td>0</td>\n",
       "      <td>0</td>\n",
       "      <td>0.0</td>\n",
       "      <td>-1072.0</td>\n",
       "      <td>780.0</td>\n",
       "      <td>...</td>\n",
       "      <td>0.0</td>\n",
       "      <td>0.546180</td>\n",
       "      <td>0.136545</td>\n",
       "      <td>-204219.0</td>\n",
       "      <td>0.0</td>\n",
       "      <td>-98388.513000</td>\n",
       "      <td>0.0</td>\n",
       "      <td>0</td>\n",
       "      <td>0.0</td>\n",
       "      <td>0</td>\n",
       "    </tr>\n",
       "    <tr>\n",
       "      <th>2</th>\n",
       "      <td>100003</td>\n",
       "      <td>4</td>\n",
       "      <td>-2586</td>\n",
       "      <td>-606</td>\n",
       "      <td>-1400.750000</td>\n",
       "      <td>0</td>\n",
       "      <td>0</td>\n",
       "      <td>0.0</td>\n",
       "      <td>-2434.0</td>\n",
       "      <td>1216.0</td>\n",
       "      <td>...</td>\n",
       "      <td>0.0</td>\n",
       "      <td>0.000000</td>\n",
       "      <td>0.000000</td>\n",
       "      <td>-810000.0</td>\n",
       "      <td>-22248.0</td>\n",
       "      <td>-254350.125000</td>\n",
       "      <td>0.0</td>\n",
       "      <td>0</td>\n",
       "      <td>0.0</td>\n",
       "      <td>0</td>\n",
       "    </tr>\n",
       "    <tr>\n",
       "      <th>3</th>\n",
       "      <td>100004</td>\n",
       "      <td>2</td>\n",
       "      <td>-1326</td>\n",
       "      <td>-408</td>\n",
       "      <td>-867.000000</td>\n",
       "      <td>0</td>\n",
       "      <td>0</td>\n",
       "      <td>0.0</td>\n",
       "      <td>-595.0</td>\n",
       "      <td>-382.0</td>\n",
       "      <td>...</td>\n",
       "      <td>0.0</td>\n",
       "      <td>0.000000</td>\n",
       "      <td>0.000000</td>\n",
       "      <td>-94537.8</td>\n",
       "      <td>-94500.0</td>\n",
       "      <td>-94518.900000</td>\n",
       "      <td>0.0</td>\n",
       "      <td>0</td>\n",
       "      <td>0.0</td>\n",
       "      <td>0</td>\n",
       "    </tr>\n",
       "    <tr>\n",
       "      <th>4</th>\n",
       "      <td>100005</td>\n",
       "      <td>3</td>\n",
       "      <td>-373</td>\n",
       "      <td>-62</td>\n",
       "      <td>-190.666667</td>\n",
       "      <td>0</td>\n",
       "      <td>0</td>\n",
       "      <td>0.0</td>\n",
       "      <td>-128.0</td>\n",
       "      <td>1324.0</td>\n",
       "      <td>...</td>\n",
       "      <td>0.0</td>\n",
       "      <td>0.954794</td>\n",
       "      <td>0.601256</td>\n",
       "      <td>-58500.0</td>\n",
       "      <td>-4504.5</td>\n",
       "      <td>-29572.500000</td>\n",
       "      <td>0.0</td>\n",
       "      <td>0</td>\n",
       "      <td>0.0</td>\n",
       "      <td>0</td>\n",
       "    </tr>\n",
       "  </tbody>\n",
       "</table>\n",
       "<p>5 rows × 47 columns</p>\n",
       "</div>"
      ],
      "text/plain": [
       "   SK_ID_CURR  BUREAU_SK_ID_BUREAU_COUNT  BUREAU_DAYS_CREDIT_MIN  \\\n",
       "0      100001                          7                   -1572   \n",
       "1      100002                          8                   -1437   \n",
       "2      100003                          4                   -2586   \n",
       "3      100004                          2                   -1326   \n",
       "4      100005                          3                    -373   \n",
       "\n",
       "   BUREAU_DAYS_CREDIT_MAX  BUREAU_DAYS_CREDIT_MEAN  \\\n",
       "0                     -49              -735.000000   \n",
       "1                    -103              -874.000000   \n",
       "2                    -606             -1400.750000   \n",
       "3                    -408              -867.000000   \n",
       "4                     -62              -190.666667   \n",
       "\n",
       "   BUREAU_CREDIT_DAY_OVERDUE_MIN  BUREAU_CREDIT_DAY_OVERDUE_MAX  \\\n",
       "0                              0                              0   \n",
       "1                              0                              0   \n",
       "2                              0                              0   \n",
       "3                              0                              0   \n",
       "4                              0                              0   \n",
       "\n",
       "   BUREAU_CREDIT_DAY_OVERDUE_MEAN  BUREAU_DAYS_CREDIT_ENDDATE_MIN  \\\n",
       "0                             0.0                         -1329.0   \n",
       "1                             0.0                         -1072.0   \n",
       "2                             0.0                         -2434.0   \n",
       "3                             0.0                          -595.0   \n",
       "4                             0.0                          -128.0   \n",
       "\n",
       "   BUREAU_DAYS_CREDIT_ENDDATE_MAX  ...  BUREAU_BUREAU_CREDIT_DEBT_RATIO_MIN  \\\n",
       "0                          1778.0  ...                                  0.0   \n",
       "1                           780.0  ...                                  0.0   \n",
       "2                          1216.0  ...                                  0.0   \n",
       "3                          -382.0  ...                                  0.0   \n",
       "4                          1324.0  ...                                  0.0   \n",
       "\n",
       "   BUREAU_BUREAU_CREDIT_DEBT_RATIO_MAX  BUREAU_BUREAU_CREDIT_DEBT_RATIO_MEAN  \\\n",
       "0                             0.987405                              0.282518   \n",
       "1                             0.546180                              0.136545   \n",
       "2                             0.000000                              0.000000   \n",
       "3                             0.000000                              0.000000   \n",
       "4                             0.954794                              0.601256   \n",
       "\n",
       "   BUREAU_BUREAU_CREDIT_DEBT_DIFF_MIN  BUREAU_BUREAU_CREDIT_DEBT_DIFF_MAX  \\\n",
       "0                           -279720.0                             -4761.0   \n",
       "1                           -204219.0                                 0.0   \n",
       "2                           -810000.0                            -22248.0   \n",
       "3                            -94537.8                            -94500.0   \n",
       "4                            -58500.0                             -4504.5   \n",
       "\n",
       "   BUREAU_BUREAU_CREDIT_DEBT_DIFF_MEAN  BUREAU_BUREAU_IS_DPD_MEAN  \\\n",
       "0                       -122382.642857                        0.0   \n",
       "1                        -98388.513000                        0.0   \n",
       "2                       -254350.125000                        0.0   \n",
       "3                        -94518.900000                        0.0   \n",
       "4                        -29572.500000                        0.0   \n",
       "\n",
       "   BUREAU_BUREAU_IS_DPD_SUM  BUREAU_BUREAU_IS_DPD_OVER120_MEAN  \\\n",
       "0                         0                                0.0   \n",
       "1                         0                                0.0   \n",
       "2                         0                                0.0   \n",
       "3                         0                                0.0   \n",
       "4                         0                                0.0   \n",
       "\n",
       "   BUREAU_BUREAU_IS_DPD_OVER120_SUM  \n",
       "0                                 0  \n",
       "1                                 0  \n",
       "2                                 0  \n",
       "3                                 0  \n",
       "4                                 0  \n",
       "\n",
       "[5 rows x 47 columns]"
      ]
     },
     "execution_count": 65,
     "metadata": {},
     "output_type": "execute_result"
    }
   ],
   "source": [
    "bureau_day_amt_agg.head(5)"
   ]
  },
  {
   "cell_type": "markdown",
   "metadata": {},
   "source": [
    "### 9.4 Merging beureau data with train and test data"
   ]
  },
  {
   "cell_type": "markdown",
   "metadata": {},
   "source": [
    "#### Merging the above newly added columns from bureau data to the train and test respectively so that it might help improve the performance of the model. We can find that once we run our data on the model"
   ]
  },
  {
   "cell_type": "code",
   "execution_count": 66,
   "metadata": {},
   "outputs": [
    {
     "name": "stdout",
     "output_type": "stream",
     "text": [
      "(307500, 238)\n",
      "(48744, 237)\n"
     ]
    }
   ],
   "source": [
    "df_encoded_train_unique.merge(bureau_day_amt_agg, on='SK_ID_CURR', how='left')\n",
    "df_encoded_test_unique.merge(bureau_day_amt_agg, on='SK_ID_CURR', how='left')\n",
    "print(df_encoded_train_unique.shape)\n",
    "print(df_encoded_test_unique.shape)"
   ]
  },
  {
   "cell_type": "markdown",
   "metadata": {},
   "source": [
    "### 9.5 Correlation of 'TARGET' with newly added columns"
   ]
  },
  {
   "cell_type": "code",
   "execution_count": 67,
   "metadata": {},
   "outputs": [
    {
     "data": {
      "image/png": "[encoded data removed]",
      "text/plain": [
       "<Figure size 1000x800 with 2 Axes>"
      ]
     },
     "metadata": {},
     "output_type": "display_data"
    }
   ],
   "source": [
    "new_columns = [\n",
    "    'APPS_EXT_SOURCE_MEAN',\n",
    "    'APPS_EXT_SOURCE_STD',\n",
    "    'APPS_ANNUITY_CREDIT_RATIO',\n",
    "    'APPS_GOODS_CREDIT_RATIO',\n",
    "    'APPS_ANNUITY_INCOME_RATIO',\n",
    "    'APPS_CREDIT_INCOME_RATIO',\n",
    "    'APPS_GOODS_INCOME_RATIO',\n",
    "    'APPS_CNT_FAM_INCOME_RATIO',\n",
    "    'APPS_EMPLOYED_BIRTH_RATIO',\n",
    "    'APPS_INCOME_EMPLOYED_RATIO',\n",
    "    'APPS_INCOME_BIRTH_RATIO',\n",
    "    'APPS_CAR_BIRTH_RATIO',\n",
    "    'APPS_CAR_EMPLOYED_RATIO'\n",
    "]\n",
    "\n",
    "correlation_matrix = df_encoded_train_unique[new_columns + ['TARGET']].corr()\n",
    "\n",
    "plt.figure(figsize=(10, 8))\n",
    "sns.heatmap(correlation_matrix, annot=True, cmap='coolwarm')\n",
    "plt.title(\"Correlation Heatmap\")\n",
    "plt.show()\n"
   ]
  },
  {
   "cell_type": "markdown",
   "metadata": {},
   "source": [
    "#### As seen above many of the newly created features above have a nominal correlation with the TARGET than the original features. However this does not mean that keeping these features in our original dataset going to impact our final predictions in the expected way. "
   ]
  },
  {
   "cell_type": "markdown",
   "metadata": {},
   "source": [
    "## 10.  MODEL BUILDING"
   ]
  },
  {
   "cell_type": "markdown",
   "metadata": {},
   "source": [
    "### 10.1 Obtaining a balanced dataframe"
   ]
  },
  {
   "cell_type": "markdown",
   "metadata": {},
   "source": [
    "#### The number of rows sampled is determined by multiplying the number of rows in the positive class subset (df_encoded_train[df_encoded_train[\"TARGET\"]==1].shape[0]) with a ratio of 70/30. This ratio ensures that the resulting balanced DataFrame has a 70:30 distribution between the positive and negative classes"
   ]
  },
  {
   "cell_type": "code",
   "execution_count": 68,
   "metadata": {},
   "outputs": [
    {
     "data": {
      "text/plain": [
       "(70922, 238)"
      ]
     },
     "execution_count": 68,
     "metadata": {},
     "output_type": "execute_result"
    }
   ],
   "source": [
    "balanced_df = pd.concat((df_encoded_train_unique[df_encoded_train_unique[\"TARGET\"]==1], \\\n",
    "                        df_encoded_train_unique[df_encoded_train_unique[\"TARGET\"]==0]. \n",
    "                        sample(n=int(df_encoded_train_unique[df_encoded_train_unique[\"TARGET\"]==1].shape[0]*(65/35)))))\n",
    "balanced_df.shape"
   ]
  },
  {
   "cell_type": "markdown",
   "metadata": {},
   "source": [
    "#### While feature engineering we have added few new columns, they contain infinity values. Let us see what columns are those and figure out a way to fix it"
   ]
  },
  {
   "cell_type": "code",
   "execution_count": 69,
   "metadata": {
    "scrolled": true
   },
   "outputs": [
    {
     "name": "stdout",
     "output_type": "stream",
     "text": [
      "Index(['AMT_GOODS_PRICE', 'EXT_SOURCE_1', 'EXT_SOURCE_2', 'EXT_SOURCE_3',\n",
      "       'APARTMENTS_AVG', 'BASEMENTAREA_AVG', 'YEARS_BEGINEXPLUATATION_AVG',\n",
      "       'ELEVATORS_AVG', 'ENTRANCES_AVG', 'FLOORSMAX_AVG', 'LANDAREA_AVG',\n",
      "       'LIVINGAREA_AVG', 'NONLIVINGAREA_AVG', 'APARTMENTS_MODE',\n",
      "       'BASEMENTAREA_MODE', 'YEARS_BEGINEXPLUATATION_MODE', 'ELEVATORS_MODE',\n",
      "       'ENTRANCES_MODE', 'FLOORSMAX_MODE', 'LANDAREA_MODE', 'LIVINGAREA_MODE',\n",
      "       'NONLIVINGAREA_MODE', 'APARTMENTS_MEDI', 'BASEMENTAREA_MEDI',\n",
      "       'YEARS_BEGINEXPLUATATION_MEDI', 'ELEVATORS_MEDI', 'ENTRANCES_MEDI',\n",
      "       'FLOORSMAX_MEDI', 'LANDAREA_MEDI', 'LIVINGAREA_MEDI',\n",
      "       'NONLIVINGAREA_MEDI', 'TOTALAREA_MODE', 'OBS_30_CNT_SOCIAL_CIRCLE',\n",
      "       'DEF_30_CNT_SOCIAL_CIRCLE', 'OBS_60_CNT_SOCIAL_CIRCLE',\n",
      "       'DEF_60_CNT_SOCIAL_CIRCLE', 'AMT_REQ_CREDIT_BUREAU_HOUR',\n",
      "       'AMT_REQ_CREDIT_BUREAU_DAY', 'AMT_REQ_CREDIT_BUREAU_WEEK',\n",
      "       'AMT_REQ_CREDIT_BUREAU_MON', 'AMT_REQ_CREDIT_BUREAU_QRT',\n",
      "       'AMT_REQ_CREDIT_BUREAU_YEAR', 'APPS_EXT_SOURCE_MEAN',\n",
      "       'APPS_GOODS_CREDIT_RATIO', 'APPS_GOODS_INCOME_RATIO',\n",
      "       'APPS_INCOME_EMPLOYED_RATIO', 'APPS_CAR_EMPLOYED_RATIO'],\n",
      "      dtype='object')\n"
     ]
    }
   ],
   "source": [
    "columns_with_infinity = balanced_df.columns[~np.isfinite(balanced_df).all()]\n",
    "print(columns_with_infinity)\n"
   ]
  },
  {
   "cell_type": "markdown",
   "metadata": {},
   "source": [
    "#### Above are the columns with infinity values and they can be replaced by either mean or median of the column(we have used median)"
   ]
  },
  {
   "cell_type": "code",
   "execution_count": 70,
   "metadata": {},
   "outputs": [],
   "source": [
    "import pandas as pd\n",
    "import numpy as np\n",
    "from sklearn.impute import SimpleImputer\n",
    "\n",
    "# Assuming balanced_df is the DataFrame containing the data\n",
    "\n",
    "# Replace infinite values with NaN\n",
    "balanced_df.replace([np.inf, -np.inf], np.nan, inplace=True)\n",
    "\n",
    "# Handle missing values by replacing NaN with column medians\n",
    "imputer = SimpleImputer(strategy='median')\n",
    "balanced_df = pd.DataFrame(imputer.fit_transform(balanced_df), columns=balanced_df.columns)\n"
   ]
  },
  {
   "cell_type": "markdown",
   "metadata": {},
   "source": [
    "### 10.2 Logistic Regression "
   ]
  },
  {
   "cell_type": "code",
   "execution_count": 71,
   "metadata": {
    "scrolled": true
   },
   "outputs": [
    {
     "name": "stderr",
     "output_type": "stream",
     "text": [
      "/Users/shivs/opt/anaconda3/lib/python3.9/site-packages/sklearn/linear_model/_logistic.py:814: ConvergenceWarning: lbfgs failed to converge (status=1):\n",
      "STOP: TOTAL NO. of ITERATIONS REACHED LIMIT.\n",
      "\n",
      "Increase the number of iterations (max_iter) or scale the data as shown in:\n",
      "    https://scikit-learn.org/stable/modules/preprocessing.html\n",
      "Please also refer to the documentation for alternative solver options:\n",
      "    https://scikit-learn.org/stable/modules/linear_model.html#logistic-regression\n",
      "  n_iter_i = _check_optimize_result(\n"
     ]
    },
    {
     "name": "stdout",
     "output_type": "stream",
     "text": [
      "Train Accuracy: 0.7163403070306854\n",
      "Test Accuracy: 0.7237927388086006\n",
      "Train AUC: 0.7532453780891644\n",
      "Test AUC: 0.7536878409793446\n"
     ]
    }
   ],
   "source": [
    "X = balanced_df.drop('TARGET', axis=1)\n",
    "y = balanced_df['TARGET']\n",
    "\n",
    "# Handling missing values\n",
    "imputer = SimpleImputer(strategy='median')\n",
    "X_imputed = imputer.fit_transform(X)\n",
    "\n",
    "# Scaling the features\n",
    "scaler = StandardScaler()\n",
    "X_scaled = scaler.fit_transform(X_imputed)\n",
    "\n",
    "# Splitting the data into training and testing sets\n",
    "X_train, X_test, y_train, y_test = train_test_split(X_scaled, y, test_size=0.2, random_state=40)\n",
    "\n",
    "# Fitting a logistic regression model\n",
    "logreg = LogisticRegression()\n",
    "logreg.fit(X_train, y_train)\n",
    "\n",
    "# Predicting the target variable on the training and testing sets\n",
    "train_predictions = logreg.predict(X_train)\n",
    "test_predictions = logreg.predict(X_test)\n",
    "\n",
    "# Calculating the accuracy scores\n",
    "train_accuracy = accuracy_score(y_train, train_predictions)\n",
    "test_accuracy = accuracy_score(y_test, test_predictions)\n",
    "\n",
    "# Calculating the AUC scores\n",
    "train_auc = roc_auc_score(y_train, logreg.predict_proba(X_train)[:, 1])\n",
    "test_auc = roc_auc_score(y_test, logreg.predict_proba(X_test)[:, 1])\n",
    "\n",
    "print(\"Train Accuracy:\", train_accuracy)\n",
    "print(\"Test Accuracy:\", test_accuracy)\n",
    "print(\"Train AUC:\", train_auc)\n",
    "print(\"Test AUC:\", test_auc)\n",
    "\n",
    "# Handling missing values in the test dataframe\n",
    "X_test_imputed = imputer.transform(df_encoded_test_unique)\n",
    "\n",
    "# Scaling the features in the test dataframe\n",
    "X_test_scaled = scaler.transform(X_test_imputed)\n",
    "\n",
    "# Predicting the target variable on the test dataframe\n",
    "test_predictions = logreg.predict(X_test_scaled)\n",
    "\n",
    "output_df = pd.DataFrame({'SK_ID_CURR': df_encoded_test_unique['SK_ID_CURR'], 'TARGET': test_predictions})\n",
    "output_df.to_csv('logistic_regression_predictions.csv', index=False)"
   ]
  },
  {
   "cell_type": "markdown",
   "metadata": {},
   "source": [
    "#### The above fit model is a logistic regression model. When trained on the train data and tested on the test data it achieved an accuracy of ~0.72 and a kaggle public score of 0.64. It means that the model predicts the customers who default with an accuracy of 72%"
   ]
  },
  {
   "cell_type": "markdown",
   "metadata": {},
   "source": [
    "### 10.3 Random Forest Model"
   ]
  },
  {
   "cell_type": "code",
   "execution_count": 72,
   "metadata": {},
   "outputs": [
    {
     "name": "stdout",
     "output_type": "stream",
     "text": [
      "Cross-validation scores: [0.71413465 0.7093761  0.72160042 0.71014365 0.71102494]\n",
      "Mean cross-validation score: 0.7132559529258694\n",
      "Train accuracy: 0.8321201332463825\n",
      "Test Accuracy: 0.7157560803665844\n"
     ]
    },
    {
     "name": "stderr",
     "output_type": "stream",
     "text": [
      "/Users/shivs/opt/anaconda3/lib/python3.9/site-packages/sklearn/base.py:450: UserWarning: X does not have valid feature names, but RandomForestClassifier was fitted with feature names\n",
      "  warnings.warn(\n"
     ]
    }
   ],
   "source": [
    "from sklearn.ensemble import RandomForestClassifier\n",
    "from sklearn.model_selection import train_test_split, cross_val_score\n",
    "\n",
    "# Separate the features (X) and the target variable (y)\n",
    "X = balanced_df.drop('TARGET', axis=1)\n",
    "y = balanced_df['TARGET']\n",
    "\n",
    "# Split the data into training and testing sets\n",
    "X_train, X_test, y_train, y_test = train_test_split(X, y, test_size=0.2, random_state=42)\n",
    "\n",
    "# hyperparameter values\n",
    "n_estimators = 300\n",
    "max_depth = None\n",
    "max_features = \"sqrt\"\n",
    "min_samples_split = 10\n",
    "min_samples_leaf = 10\n",
    "\n",
    "# Random Forest classifier\n",
    "rf = RandomForestClassifier(n_estimators=n_estimators, max_depth=max_depth, max_features=max_features,\n",
    "                            min_samples_split=min_samples_split, min_samples_leaf=min_samples_leaf)\n",
    "\n",
    "# cross-validation\n",
    "cv_scores = cross_val_score(rf, X_train, y_train, cv=5)\n",
    "print(\"Cross-validation scores:\", cv_scores)\n",
    "print(\"Mean cross-validation score:\", cv_scores.mean())\n",
    "\n",
    "# fit on training data\n",
    "rf.fit(X_train, y_train)\n",
    "\n",
    "# predict target on test\n",
    "predictions = rf.predict(X_test)\n",
    "\n",
    "predictions_t=rf.predict(X_train)\n",
    "# accuracy\n",
    "accuracy = accuracy_score(y_test, predictions)\n",
    "print(\"Train accuracy:\",accuracy_score(y_train,predictions_t))\n",
    "print(\"Test Accuracy:\", accuracy)\n",
    "\n",
    "\n",
    "\n",
    "# Handling missing values in the test dataframe\n",
    "X_test_imputed = imputer.transform(df_encoded_test_unique)\n",
    "\n",
    "# Scaling the features in the test dataframe\n",
    "X_test_scaled = scaler.transform(X_test_imputed)\n",
    "\n",
    "# Predicting the target variable on the test dataframe\n",
    "test_predictions = rf.predict(X_test_scaled)\n",
    "\n",
    "\n",
    "output_df = pd.DataFrame({'SK_ID_CURR': df_encoded_test_unique['SK_ID_CURR'], 'TARGET': test_predictions})\n",
    "output_df.to_csv('rf_predictions.csv', index=False)"
   ]
  },
  {
   "cell_type": "markdown",
   "metadata": {},
   "source": [
    "### 10.4 Gradient Boosting(Lightgbm)"
   ]
  },
  {
   "cell_type": "code",
   "execution_count": 73,
   "metadata": {
    "scrolled": true
   },
   "outputs": [
    {
     "name": "stdout",
     "output_type": "stream",
     "text": [
      "Test Accuracy: 0.7270356009869581\n",
      "   SK_ID_CURR  TARGET\n",
      "0      100001     0.0\n",
      "1      100005     0.0\n",
      "2      100013     0.0\n",
      "3      100028     0.0\n",
      "4      100038     1.0\n"
     ]
    }
   ],
   "source": [
    "import pandas as pd\n",
    "import numpy as np\n",
    "import lightgbm as lgb\n",
    "from sklearn.model_selection import train_test_split\n",
    "from sklearn.preprocessing import StandardScaler\n",
    "from sklearn.impute import SimpleImputer\n",
    "from sklearn.metrics import accuracy_score\n",
    "\n",
    "X_train = balanced_df.drop('TARGET', axis=1)\n",
    "y_train = balanced_df['TARGET']\n",
    "\n",
    "# Imputing missing values\n",
    "imputer = SimpleImputer(strategy='median')\n",
    "X_train_imputed = imputer.fit_transform(X_train)\n",
    "\n",
    "# Scaling the features\n",
    "scaler = StandardScaler()\n",
    "X_train_scaled = scaler.fit_transform(X_train_imputed)\n",
    "\n",
    "# Train-Test split\n",
    "X_train_split, X_test, y_train_split, y_test = train_test_split(X_train_scaled, y_train, test_size=0.2, random_state=42)\n",
    "\n",
    "# Training the LightGBM model\n",
    "model = lgb.LGBMClassifier()\n",
    "model.fit(X_train_split, y_train_split)\n",
    "\n",
    "# Predict on the test set\n",
    "test_predictions = model.predict(X_test)\n",
    "\n",
    "# Calculate the accuracy on the validation set\n",
    "test_accuracy = accuracy_score(y_test, test_predictions)\n",
    "print(\"Test Accuracy:\", test_accuracy)\n",
    "\n",
    "# Handling missing values in the test dataset\n",
    "X_test_imputed = imputer.transform(df_encoded_test_unique)\n",
    "\n",
    "# Scaling the features in the test dataset\n",
    "X_test_scaled = scaler.transform(X_test_imputed)\n",
    "\n",
    "# Performing prediction on the test dataset\n",
    "test_predictions = model.predict(X_test_scaled)\n",
    "\n",
    "output_df = pd.DataFrame({'SK_ID_CURR': df_encoded_test_unique['SK_ID_CURR'], 'TARGET': test_predictions})\n",
    "output_df.to_csv('gradient_boosting_predictions.csv', index=False)\n",
    "\n",
    "# Print the DataFrame with predicted values\n",
    "print(output_df.head())"
   ]
  }
 ],
 "metadata": {
  "kernelspec": {
   "display_name": "Python 3 (ipykernel)",
   "language": "python",
   "name": "python3"
  },
  "language_info": {
   "codemirror_mode": {
    "name": "ipython",
    "version": 3
   },
   "file_extension": ".py",
   "mimetype": "text/x-python",
   "name": "python",
   "nbconvert_exporter": "python",
   "pygments_lexer": "ipython3",
   "version": "3.9.13"
  }
 },
 "nbformat": 4,
 "nbformat_minor": 2
}
